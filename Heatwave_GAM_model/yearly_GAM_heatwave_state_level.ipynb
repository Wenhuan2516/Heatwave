{
 "cells": [
  {
   "cell_type": "code",
   "execution_count": 1,
   "id": "9fdd50ab-1400-4a1c-a02b-a2bec88a7033",
   "metadata": {
    "tags": []
   },
   "outputs": [],
   "source": [
    "from pygam import LinearGAM, s, f"
   ]
  },
  {
   "cell_type": "code",
   "execution_count": 2,
   "id": "1adda4ad-3311-464b-ab04-6f929dd1ea9b",
   "metadata": {
    "tags": []
   },
   "outputs": [],
   "source": [
    "import dask.dataframe as ddf\n",
    "import pandas as pd\n",
    "import datetime\n",
    "import functools\n",
    "import seaborn as sns\n",
    "import matplotlib.pyplot as plt"
   ]
  },
  {
   "cell_type": "markdown",
   "id": "19e07a90-ea81-4796-bc14-b3cceed99d91",
   "metadata": {},
   "source": [
    "### Import suicide death data"
   ]
  },
  {
   "cell_type": "code",
   "execution_count": 3,
   "id": "54700f82-8a1c-4a60-8c90-476b922e069b",
   "metadata": {
    "tags": []
   },
   "outputs": [
    {
     "data": {
      "text/plain": [
       "[2010, 2011, 2012, 2013, 2014, 2015, 2016, 2017, 2018, 2019]"
      ]
     },
     "execution_count": 3,
     "metadata": {},
     "output_type": "execute_result"
    }
   ],
   "source": [
    "years = [year for year in range(1960, 2020)]\n",
    "years[-10:]"
   ]
  },
  {
   "cell_type": "code",
   "execution_count": 4,
   "id": "e7f51a3c-6527-4d5c-962d-d6f5b2284d72",
   "metadata": {
    "tags": []
   },
   "outputs": [],
   "source": [
    "data = []\n",
    "for year in years:\n",
    "    suicide_year = pd.read_csv('/global/cfs/cdirs/m1532/Projects_MVP/geospatial/Suicide_Death_NCHS/suicide_patient_level_1960_2020/overall/overall_suicide_patient_level_' + str(year) + '.csv', dtype = {'year': int, 'county_residence': str, 'county_death': str, 'state_residence': str, 'state_death': str})\n",
    "    suicide_year = suicide_year.loc[:, ~suicide_year.columns.str.contains('^Unnamed')]\n",
    "    data.append(suicide_year)"
   ]
  },
  {
   "cell_type": "code",
   "execution_count": 5,
   "id": "ca484aca-4c49-420a-a121-849350ef4592",
   "metadata": {
    "tags": []
   },
   "outputs": [
    {
     "data": {
      "text/html": [
       "<div>\n",
       "<style scoped>\n",
       "    .dataframe tbody tr th:only-of-type {\n",
       "        vertical-align: middle;\n",
       "    }\n",
       "\n",
       "    .dataframe tbody tr th {\n",
       "        vertical-align: top;\n",
       "    }\n",
       "\n",
       "    .dataframe thead th {\n",
       "        text-align: right;\n",
       "    }\n",
       "</style>\n",
       "<table border=\"1\" class=\"dataframe\">\n",
       "  <thead>\n",
       "    <tr style=\"text-align: right;\">\n",
       "      <th></th>\n",
       "      <th>year</th>\n",
       "      <th>county_residence</th>\n",
       "      <th>state_residence</th>\n",
       "      <th>state_death</th>\n",
       "      <th>county_death</th>\n",
       "      <th>month</th>\n",
       "      <th>sex</th>\n",
       "      <th>race</th>\n",
       "      <th>age</th>\n",
       "      <th>age_range</th>\n",
       "      <th>death_cause</th>\n",
       "      <th>date</th>\n",
       "    </tr>\n",
       "  </thead>\n",
       "  <tbody>\n",
       "    <tr>\n",
       "      <th>0</th>\n",
       "      <td>1960</td>\n",
       "      <td>23001</td>\n",
       "      <td>23</td>\n",
       "      <td>23</td>\n",
       "      <td>23001</td>\n",
       "      <td>Dec</td>\n",
       "      <td>Male</td>\n",
       "      <td>White</td>\n",
       "      <td>7</td>\n",
       "      <td>age 25-64</td>\n",
       "      <td>nonfirearm_suicide</td>\n",
       "      <td>NaN</td>\n",
       "    </tr>\n",
       "    <tr>\n",
       "      <th>1</th>\n",
       "      <td>1960</td>\n",
       "      <td>48201</td>\n",
       "      <td>48</td>\n",
       "      <td>48</td>\n",
       "      <td>48201</td>\n",
       "      <td>Dec</td>\n",
       "      <td>Male</td>\n",
       "      <td>Black</td>\n",
       "      <td>10</td>\n",
       "      <td>65 and older</td>\n",
       "      <td>nonfirearm_suicide</td>\n",
       "      <td>NaN</td>\n",
       "    </tr>\n",
       "    <tr>\n",
       "      <th>2</th>\n",
       "      <td>1960</td>\n",
       "      <td>06037</td>\n",
       "      <td>06</td>\n",
       "      <td>06</td>\n",
       "      <td>06037</td>\n",
       "      <td>Apr</td>\n",
       "      <td>Female</td>\n",
       "      <td>White</td>\n",
       "      <td>8</td>\n",
       "      <td>age 25-64</td>\n",
       "      <td>nonfirearm_suicide</td>\n",
       "      <td>NaN</td>\n",
       "    </tr>\n",
       "    <tr>\n",
       "      <th>3</th>\n",
       "      <td>1960</td>\n",
       "      <td>48441</td>\n",
       "      <td>48</td>\n",
       "      <td>48</td>\n",
       "      <td>48441</td>\n",
       "      <td>Nov</td>\n",
       "      <td>Male</td>\n",
       "      <td>White</td>\n",
       "      <td>7</td>\n",
       "      <td>age 25-64</td>\n",
       "      <td>nonfirearm_suicide</td>\n",
       "      <td>NaN</td>\n",
       "    </tr>\n",
       "    <tr>\n",
       "      <th>4</th>\n",
       "      <td>1960</td>\n",
       "      <td>34013</td>\n",
       "      <td>34</td>\n",
       "      <td>34</td>\n",
       "      <td>34013</td>\n",
       "      <td>Feb</td>\n",
       "      <td>Male</td>\n",
       "      <td>White</td>\n",
       "      <td>8</td>\n",
       "      <td>age 25-64</td>\n",
       "      <td>nonfirearm_suicide</td>\n",
       "      <td>NaN</td>\n",
       "    </tr>\n",
       "  </tbody>\n",
       "</table>\n",
       "</div>"
      ],
      "text/plain": [
       "   year county_residence state_residence state_death county_death month   \n",
       "0  1960            23001              23          23        23001   Dec  \\\n",
       "1  1960            48201              48          48        48201   Dec   \n",
       "2  1960            06037              06          06        06037   Apr   \n",
       "3  1960            48441              48          48        48441   Nov   \n",
       "4  1960            34013              34          34        34013   Feb   \n",
       "\n",
       "      sex   race  age     age_range         death_cause  date  \n",
       "0    Male  White    7     age 25-64  nonfirearm_suicide   NaN  \n",
       "1    Male  Black   10  65 and older  nonfirearm_suicide   NaN  \n",
       "2  Female  White    8     age 25-64  nonfirearm_suicide   NaN  \n",
       "3    Male  White    7     age 25-64  nonfirearm_suicide   NaN  \n",
       "4    Male  White    8     age 25-64  nonfirearm_suicide   NaN  "
      ]
     },
     "execution_count": 5,
     "metadata": {},
     "output_type": "execute_result"
    }
   ],
   "source": [
    "suicide = pd.concat(data)\n",
    "suicide.head()"
   ]
  },
  {
   "cell_type": "code",
   "execution_count": 6,
   "id": "a2c1d9ad-ea34-4000-a7e9-82390d63ed68",
   "metadata": {
    "tags": []
   },
   "outputs": [
    {
     "data": {
      "text/html": [
       "<div>\n",
       "<style scoped>\n",
       "    .dataframe tbody tr th:only-of-type {\n",
       "        vertical-align: middle;\n",
       "    }\n",
       "\n",
       "    .dataframe tbody tr th {\n",
       "        vertical-align: top;\n",
       "    }\n",
       "\n",
       "    .dataframe thead th {\n",
       "        text-align: right;\n",
       "    }\n",
       "</style>\n",
       "<table border=\"1\" class=\"dataframe\">\n",
       "  <thead>\n",
       "    <tr style=\"text-align: right;\">\n",
       "      <th></th>\n",
       "      <th>year</th>\n",
       "      <th>statefips</th>\n",
       "      <th>fips</th>\n",
       "      <th>month</th>\n",
       "      <th>sex</th>\n",
       "      <th>race</th>\n",
       "      <th>age</th>\n",
       "      <th>age_range</th>\n",
       "      <th>death_cause</th>\n",
       "      <th>date</th>\n",
       "    </tr>\n",
       "  </thead>\n",
       "  <tbody>\n",
       "    <tr>\n",
       "      <th>0</th>\n",
       "      <td>1960</td>\n",
       "      <td>23</td>\n",
       "      <td>23001</td>\n",
       "      <td>Dec</td>\n",
       "      <td>Male</td>\n",
       "      <td>White</td>\n",
       "      <td>7</td>\n",
       "      <td>age 25-64</td>\n",
       "      <td>nonfirearm_suicide</td>\n",
       "      <td>NaN</td>\n",
       "    </tr>\n",
       "    <tr>\n",
       "      <th>1</th>\n",
       "      <td>1960</td>\n",
       "      <td>48</td>\n",
       "      <td>48201</td>\n",
       "      <td>Dec</td>\n",
       "      <td>Male</td>\n",
       "      <td>Black</td>\n",
       "      <td>10</td>\n",
       "      <td>65 and older</td>\n",
       "      <td>nonfirearm_suicide</td>\n",
       "      <td>NaN</td>\n",
       "    </tr>\n",
       "    <tr>\n",
       "      <th>2</th>\n",
       "      <td>1960</td>\n",
       "      <td>06</td>\n",
       "      <td>06037</td>\n",
       "      <td>Apr</td>\n",
       "      <td>Female</td>\n",
       "      <td>White</td>\n",
       "      <td>8</td>\n",
       "      <td>age 25-64</td>\n",
       "      <td>nonfirearm_suicide</td>\n",
       "      <td>NaN</td>\n",
       "    </tr>\n",
       "    <tr>\n",
       "      <th>3</th>\n",
       "      <td>1960</td>\n",
       "      <td>48</td>\n",
       "      <td>48441</td>\n",
       "      <td>Nov</td>\n",
       "      <td>Male</td>\n",
       "      <td>White</td>\n",
       "      <td>7</td>\n",
       "      <td>age 25-64</td>\n",
       "      <td>nonfirearm_suicide</td>\n",
       "      <td>NaN</td>\n",
       "    </tr>\n",
       "    <tr>\n",
       "      <th>4</th>\n",
       "      <td>1960</td>\n",
       "      <td>34</td>\n",
       "      <td>34013</td>\n",
       "      <td>Feb</td>\n",
       "      <td>Male</td>\n",
       "      <td>White</td>\n",
       "      <td>8</td>\n",
       "      <td>age 25-64</td>\n",
       "      <td>nonfirearm_suicide</td>\n",
       "      <td>NaN</td>\n",
       "    </tr>\n",
       "  </tbody>\n",
       "</table>\n",
       "</div>"
      ],
      "text/plain": [
       "   year statefips   fips month     sex   race  age     age_range   \n",
       "0  1960        23  23001   Dec    Male  White    7     age 25-64  \\\n",
       "1  1960        48  48201   Dec    Male  Black   10  65 and older   \n",
       "2  1960        06  06037   Apr  Female  White    8     age 25-64   \n",
       "3  1960        48  48441   Nov    Male  White    7     age 25-64   \n",
       "4  1960        34  34013   Feb    Male  White    8     age 25-64   \n",
       "\n",
       "          death_cause  date  \n",
       "0  nonfirearm_suicide   NaN  \n",
       "1  nonfirearm_suicide   NaN  \n",
       "2  nonfirearm_suicide   NaN  \n",
       "3  nonfirearm_suicide   NaN  \n",
       "4  nonfirearm_suicide   NaN  "
      ]
     },
     "execution_count": 6,
     "metadata": {},
     "output_type": "execute_result"
    }
   ],
   "source": [
    "suicide = suicide.drop(['county_residence', 'state_residence'], axis = 1)\n",
    "suicide = suicide.rename(columns = {'state_death': 'statefips', 'county_death': 'fips'})\n",
    "suicide.head()"
   ]
  },
  {
   "cell_type": "code",
   "execution_count": 7,
   "id": "b1628cdd-9559-4f70-b6bb-b2608edf7210",
   "metadata": {
    "tags": []
   },
   "outputs": [
    {
     "data": {
      "text/html": [
       "<div>\n",
       "<style scoped>\n",
       "    .dataframe tbody tr th:only-of-type {\n",
       "        vertical-align: middle;\n",
       "    }\n",
       "\n",
       "    .dataframe tbody tr th {\n",
       "        vertical-align: top;\n",
       "    }\n",
       "\n",
       "    .dataframe thead th {\n",
       "        text-align: right;\n",
       "    }\n",
       "</style>\n",
       "<table border=\"1\" class=\"dataframe\">\n",
       "  <thead>\n",
       "    <tr style=\"text-align: right;\">\n",
       "      <th></th>\n",
       "      <th>year</th>\n",
       "      <th>statefips</th>\n",
       "      <th>fips</th>\n",
       "      <th>month</th>\n",
       "      <th>sex</th>\n",
       "      <th>race</th>\n",
       "      <th>age</th>\n",
       "      <th>age_range</th>\n",
       "      <th>death_cause</th>\n",
       "      <th>date</th>\n",
       "    </tr>\n",
       "  </thead>\n",
       "  <tbody>\n",
       "    <tr>\n",
       "      <th>0</th>\n",
       "      <td>1960</td>\n",
       "      <td>23</td>\n",
       "      <td>23001</td>\n",
       "      <td>Dec</td>\n",
       "      <td>Male</td>\n",
       "      <td>White</td>\n",
       "      <td>7</td>\n",
       "      <td>age 25-64</td>\n",
       "      <td>nonfirearm_suicide</td>\n",
       "      <td>NaN</td>\n",
       "    </tr>\n",
       "    <tr>\n",
       "      <th>1</th>\n",
       "      <td>1960</td>\n",
       "      <td>48</td>\n",
       "      <td>48201</td>\n",
       "      <td>Dec</td>\n",
       "      <td>Male</td>\n",
       "      <td>Black</td>\n",
       "      <td>10</td>\n",
       "      <td>65 and older</td>\n",
       "      <td>nonfirearm_suicide</td>\n",
       "      <td>NaN</td>\n",
       "    </tr>\n",
       "    <tr>\n",
       "      <th>2</th>\n",
       "      <td>1960</td>\n",
       "      <td>06</td>\n",
       "      <td>06037</td>\n",
       "      <td>Apr</td>\n",
       "      <td>Female</td>\n",
       "      <td>White</td>\n",
       "      <td>8</td>\n",
       "      <td>age 25-64</td>\n",
       "      <td>nonfirearm_suicide</td>\n",
       "      <td>NaN</td>\n",
       "    </tr>\n",
       "    <tr>\n",
       "      <th>3</th>\n",
       "      <td>1960</td>\n",
       "      <td>48</td>\n",
       "      <td>48441</td>\n",
       "      <td>Nov</td>\n",
       "      <td>Male</td>\n",
       "      <td>White</td>\n",
       "      <td>7</td>\n",
       "      <td>age 25-64</td>\n",
       "      <td>nonfirearm_suicide</td>\n",
       "      <td>NaN</td>\n",
       "    </tr>\n",
       "    <tr>\n",
       "      <th>4</th>\n",
       "      <td>1960</td>\n",
       "      <td>34</td>\n",
       "      <td>34013</td>\n",
       "      <td>Feb</td>\n",
       "      <td>Male</td>\n",
       "      <td>White</td>\n",
       "      <td>8</td>\n",
       "      <td>age 25-64</td>\n",
       "      <td>nonfirearm_suicide</td>\n",
       "      <td>NaN</td>\n",
       "    </tr>\n",
       "    <tr>\n",
       "      <th>...</th>\n",
       "      <td>...</td>\n",
       "      <td>...</td>\n",
       "      <td>...</td>\n",
       "      <td>...</td>\n",
       "      <td>...</td>\n",
       "      <td>...</td>\n",
       "      <td>...</td>\n",
       "      <td>...</td>\n",
       "      <td>...</td>\n",
       "      <td>...</td>\n",
       "    </tr>\n",
       "    <tr>\n",
       "      <th>47669</th>\n",
       "      <td>2019</td>\n",
       "      <td>36</td>\n",
       "      <td>36081</td>\n",
       "      <td>Dec</td>\n",
       "      <td>Male</td>\n",
       "      <td>Other</td>\n",
       "      <td>5</td>\n",
       "      <td>age 25-64</td>\n",
       "      <td>nonfirearm_suicide</td>\n",
       "      <td>NaN</td>\n",
       "    </tr>\n",
       "    <tr>\n",
       "      <th>47670</th>\n",
       "      <td>2019</td>\n",
       "      <td>36</td>\n",
       "      <td>36081</td>\n",
       "      <td>Dec</td>\n",
       "      <td>Male</td>\n",
       "      <td>Black</td>\n",
       "      <td>5</td>\n",
       "      <td>age 25-64</td>\n",
       "      <td>nonfirearm_suicide</td>\n",
       "      <td>NaN</td>\n",
       "    </tr>\n",
       "    <tr>\n",
       "      <th>47671</th>\n",
       "      <td>2019</td>\n",
       "      <td>36</td>\n",
       "      <td>36005</td>\n",
       "      <td>Dec</td>\n",
       "      <td>Female</td>\n",
       "      <td>Black</td>\n",
       "      <td>4</td>\n",
       "      <td>age 0-24</td>\n",
       "      <td>nonfirearm_suicide</td>\n",
       "      <td>NaN</td>\n",
       "    </tr>\n",
       "    <tr>\n",
       "      <th>47672</th>\n",
       "      <td>2019</td>\n",
       "      <td>36</td>\n",
       "      <td>36005</td>\n",
       "      <td>Dec</td>\n",
       "      <td>Male</td>\n",
       "      <td>White</td>\n",
       "      <td>6</td>\n",
       "      <td>age 25-64</td>\n",
       "      <td>nonfirearm_suicide</td>\n",
       "      <td>NaN</td>\n",
       "    </tr>\n",
       "    <tr>\n",
       "      <th>47673</th>\n",
       "      <td>2019</td>\n",
       "      <td>36</td>\n",
       "      <td>36047</td>\n",
       "      <td>Dec</td>\n",
       "      <td>Female</td>\n",
       "      <td>Other</td>\n",
       "      <td>4</td>\n",
       "      <td>age 0-24</td>\n",
       "      <td>nonfirearm_suicide</td>\n",
       "      <td>NaN</td>\n",
       "    </tr>\n",
       "  </tbody>\n",
       "</table>\n",
       "<p>1778873 rows × 10 columns</p>\n",
       "</div>"
      ],
      "text/plain": [
       "       year statefips   fips month     sex   race  age     age_range   \n",
       "0      1960        23  23001   Dec    Male  White    7     age 25-64  \\\n",
       "1      1960        48  48201   Dec    Male  Black   10  65 and older   \n",
       "2      1960        06  06037   Apr  Female  White    8     age 25-64   \n",
       "3      1960        48  48441   Nov    Male  White    7     age 25-64   \n",
       "4      1960        34  34013   Feb    Male  White    8     age 25-64   \n",
       "...     ...       ...    ...   ...     ...    ...  ...           ...   \n",
       "47669  2019        36  36081   Dec    Male  Other    5     age 25-64   \n",
       "47670  2019        36  36081   Dec    Male  Black    5     age 25-64   \n",
       "47671  2019        36  36005   Dec  Female  Black    4      age 0-24   \n",
       "47672  2019        36  36005   Dec    Male  White    6     age 25-64   \n",
       "47673  2019        36  36047   Dec  Female  Other    4      age 0-24   \n",
       "\n",
       "              death_cause  date  \n",
       "0      nonfirearm_suicide   NaN  \n",
       "1      nonfirearm_suicide   NaN  \n",
       "2      nonfirearm_suicide   NaN  \n",
       "3      nonfirearm_suicide   NaN  \n",
       "4      nonfirearm_suicide   NaN  \n",
       "...                   ...   ...  \n",
       "47669  nonfirearm_suicide   NaN  \n",
       "47670  nonfirearm_suicide   NaN  \n",
       "47671  nonfirearm_suicide   NaN  \n",
       "47672  nonfirearm_suicide   NaN  \n",
       "47673  nonfirearm_suicide   NaN  \n",
       "\n",
       "[1778873 rows x 10 columns]"
      ]
     },
     "execution_count": 7,
     "metadata": {},
     "output_type": "execute_result"
    }
   ],
   "source": [
    "suicide"
   ]
  },
  {
   "cell_type": "markdown",
   "id": "202e3424-6fb1-4f31-ac7c-73e2d331bf2d",
   "metadata": {},
   "source": [
    "### Load population data"
   ]
  },
  {
   "cell_type": "code",
   "execution_count": 8,
   "id": "a1b277d4-0388-413d-b8a1-afa1fecd6c2a",
   "metadata": {
    "tags": []
   },
   "outputs": [],
   "source": [
    "data_pop = []\n",
    "for year in years:\n",
    "    pop_year = pd.read_csv('/global/cfs/cdirs/m1532/Projects_MVP/geospatial/temp_bins_suicide/Population/population_monthly/population_monthly_' + str(year) + '.csv', dtype = {'year': int, 'fips': str})\n",
    "    pop_year = pop_year.loc[:, ~pop_year.columns.str.contains('^Unnamed')]\n",
    "    data_pop.append(pop_year)"
   ]
  },
  {
   "cell_type": "code",
   "execution_count": 9,
   "id": "8cf78a84-3e0c-4958-813f-2d7311706f05",
   "metadata": {
    "tags": []
   },
   "outputs": [
    {
     "data": {
      "text/html": [
       "<div>\n",
       "<style scoped>\n",
       "    .dataframe tbody tr th:only-of-type {\n",
       "        vertical-align: middle;\n",
       "    }\n",
       "\n",
       "    .dataframe tbody tr th {\n",
       "        vertical-align: top;\n",
       "    }\n",
       "\n",
       "    .dataframe thead th {\n",
       "        text-align: right;\n",
       "    }\n",
       "</style>\n",
       "<table border=\"1\" class=\"dataframe\">\n",
       "  <thead>\n",
       "    <tr style=\"text-align: right;\">\n",
       "      <th></th>\n",
       "      <th>year</th>\n",
       "      <th>fips</th>\n",
       "      <th>pop</th>\n",
       "      <th>month</th>\n",
       "    </tr>\n",
       "  </thead>\n",
       "  <tbody>\n",
       "    <tr>\n",
       "      <th>0</th>\n",
       "      <td>1960</td>\n",
       "      <td>01001</td>\n",
       "      <td>18686</td>\n",
       "      <td>Jan</td>\n",
       "    </tr>\n",
       "    <tr>\n",
       "      <th>1</th>\n",
       "      <td>1960</td>\n",
       "      <td>01001</td>\n",
       "      <td>18691</td>\n",
       "      <td>Feb</td>\n",
       "    </tr>\n",
       "    <tr>\n",
       "      <th>2</th>\n",
       "      <td>1960</td>\n",
       "      <td>01001</td>\n",
       "      <td>18696</td>\n",
       "      <td>Mar</td>\n",
       "    </tr>\n",
       "    <tr>\n",
       "      <th>3</th>\n",
       "      <td>1960</td>\n",
       "      <td>01001</td>\n",
       "      <td>18701</td>\n",
       "      <td>Apr</td>\n",
       "    </tr>\n",
       "    <tr>\n",
       "      <th>4</th>\n",
       "      <td>1960</td>\n",
       "      <td>01001</td>\n",
       "      <td>18705</td>\n",
       "      <td>May</td>\n",
       "    </tr>\n",
       "  </tbody>\n",
       "</table>\n",
       "</div>"
      ],
      "text/plain": [
       "   year   fips    pop month\n",
       "0  1960  01001  18686   Jan\n",
       "1  1960  01001  18691   Feb\n",
       "2  1960  01001  18696   Mar\n",
       "3  1960  01001  18701   Apr\n",
       "4  1960  01001  18705   May"
      ]
     },
     "execution_count": 9,
     "metadata": {},
     "output_type": "execute_result"
    }
   ],
   "source": [
    "pop = pd.concat(data_pop)\n",
    "pop.head()"
   ]
  },
  {
   "cell_type": "code",
   "execution_count": 10,
   "id": "c229c3ed-d0f2-4825-a911-eef365bec791",
   "metadata": {
    "tags": []
   },
   "outputs": [
    {
     "data": {
      "text/plain": [
       "array([ 1,  2,  3,  4,  5,  6,  7,  8,  9, 10, 11, 12])"
      ]
     },
     "execution_count": 10,
     "metadata": {},
     "output_type": "execute_result"
    }
   ],
   "source": [
    "month_replace = {'Jan': 1, 'Feb': 2, 'Mar': 3, 'Apr': 4, 'May': 5, 'Jun': 6, 'Jul': 7, 'Aug': 8, 'Sep': 9, 'Oct': 10,\n",
    "                'Nov': 11, 'Dec': 12}\n",
    "pop['month'] = pop['month'].replace(month_replace)\n",
    "pop['month'].unique()"
   ]
  },
  {
   "cell_type": "code",
   "execution_count": 11,
   "id": "c97a15a2-8763-4b8b-a1c4-75cf7f429884",
   "metadata": {
    "tags": []
   },
   "outputs": [
    {
     "data": {
      "text/html": [
       "<div>\n",
       "<style scoped>\n",
       "    .dataframe tbody tr th:only-of-type {\n",
       "        vertical-align: middle;\n",
       "    }\n",
       "\n",
       "    .dataframe tbody tr th {\n",
       "        vertical-align: top;\n",
       "    }\n",
       "\n",
       "    .dataframe thead th {\n",
       "        text-align: right;\n",
       "    }\n",
       "</style>\n",
       "<table border=\"1\" class=\"dataframe\">\n",
       "  <thead>\n",
       "    <tr style=\"text-align: right;\">\n",
       "      <th></th>\n",
       "      <th>year</th>\n",
       "      <th>fips</th>\n",
       "      <th>pop</th>\n",
       "      <th>month</th>\n",
       "    </tr>\n",
       "  </thead>\n",
       "  <tbody>\n",
       "    <tr>\n",
       "      <th>0</th>\n",
       "      <td>1960</td>\n",
       "      <td>01001</td>\n",
       "      <td>18686</td>\n",
       "      <td>1</td>\n",
       "    </tr>\n",
       "    <tr>\n",
       "      <th>1</th>\n",
       "      <td>1960</td>\n",
       "      <td>01001</td>\n",
       "      <td>18691</td>\n",
       "      <td>2</td>\n",
       "    </tr>\n",
       "    <tr>\n",
       "      <th>2</th>\n",
       "      <td>1960</td>\n",
       "      <td>01001</td>\n",
       "      <td>18696</td>\n",
       "      <td>3</td>\n",
       "    </tr>\n",
       "    <tr>\n",
       "      <th>3</th>\n",
       "      <td>1960</td>\n",
       "      <td>01001</td>\n",
       "      <td>18701</td>\n",
       "      <td>4</td>\n",
       "    </tr>\n",
       "    <tr>\n",
       "      <th>4</th>\n",
       "      <td>1960</td>\n",
       "      <td>01001</td>\n",
       "      <td>18705</td>\n",
       "      <td>5</td>\n",
       "    </tr>\n",
       "  </tbody>\n",
       "</table>\n",
       "</div>"
      ],
      "text/plain": [
       "   year   fips    pop  month\n",
       "0  1960  01001  18686      1\n",
       "1  1960  01001  18691      2\n",
       "2  1960  01001  18696      3\n",
       "3  1960  01001  18701      4\n",
       "4  1960  01001  18705      5"
      ]
     },
     "execution_count": 11,
     "metadata": {},
     "output_type": "execute_result"
    }
   ],
   "source": [
    "pop.head()"
   ]
  },
  {
   "cell_type": "code",
   "execution_count": 12,
   "id": "d8b22077-19a3-4a8c-8e49-c750b55f8b5a",
   "metadata": {
    "tags": []
   },
   "outputs": [
    {
     "data": {
      "text/html": [
       "<div>\n",
       "<style scoped>\n",
       "    .dataframe tbody tr th:only-of-type {\n",
       "        vertical-align: middle;\n",
       "    }\n",
       "\n",
       "    .dataframe tbody tr th {\n",
       "        vertical-align: top;\n",
       "    }\n",
       "\n",
       "    .dataframe thead th {\n",
       "        text-align: right;\n",
       "    }\n",
       "</style>\n",
       "<table border=\"1\" class=\"dataframe\">\n",
       "  <thead>\n",
       "    <tr style=\"text-align: right;\">\n",
       "      <th></th>\n",
       "      <th>year</th>\n",
       "      <th>fips</th>\n",
       "      <th>pop</th>\n",
       "      <th>month</th>\n",
       "    </tr>\n",
       "  </thead>\n",
       "  <tbody>\n",
       "    <tr>\n",
       "      <th>11</th>\n",
       "      <td>1960</td>\n",
       "      <td>01001</td>\n",
       "      <td>18739</td>\n",
       "      <td>12</td>\n",
       "    </tr>\n",
       "    <tr>\n",
       "      <th>23</th>\n",
       "      <td>1960</td>\n",
       "      <td>01003</td>\n",
       "      <td>49088</td>\n",
       "      <td>12</td>\n",
       "    </tr>\n",
       "    <tr>\n",
       "      <th>35</th>\n",
       "      <td>1960</td>\n",
       "      <td>01005</td>\n",
       "      <td>24700</td>\n",
       "      <td>12</td>\n",
       "    </tr>\n",
       "    <tr>\n",
       "      <th>47</th>\n",
       "      <td>1960</td>\n",
       "      <td>01007</td>\n",
       "      <td>14357</td>\n",
       "      <td>12</td>\n",
       "    </tr>\n",
       "    <tr>\n",
       "      <th>59</th>\n",
       "      <td>1960</td>\n",
       "      <td>01009</td>\n",
       "      <td>25449</td>\n",
       "      <td>12</td>\n",
       "    </tr>\n",
       "  </tbody>\n",
       "</table>\n",
       "</div>"
      ],
      "text/plain": [
       "    year   fips    pop  month\n",
       "11  1960  01001  18739     12\n",
       "23  1960  01003  49088     12\n",
       "35  1960  01005  24700     12\n",
       "47  1960  01007  14357     12\n",
       "59  1960  01009  25449     12"
      ]
     },
     "execution_count": 12,
     "metadata": {},
     "output_type": "execute_result"
    }
   ],
   "source": [
    "pop_year = pop[pop['month'] == 12]\n",
    "pop_year.head()"
   ]
  },
  {
   "cell_type": "code",
   "execution_count": 13,
   "id": "01c9f7d4-291c-4d1c-b9f9-7cd6c002027a",
   "metadata": {
    "tags": []
   },
   "outputs": [],
   "source": [
    "def findState(fips):\n",
    "    return fips[:2]"
   ]
  },
  {
   "cell_type": "code",
   "execution_count": 14,
   "id": "7be7f21e-01c0-4e03-8d14-a43fb9a58891",
   "metadata": {
    "tags": []
   },
   "outputs": [
    {
     "name": "stderr",
     "output_type": "stream",
     "text": [
      "/tmp/ipykernel_352600/2859704146.py:1: SettingWithCopyWarning: \n",
      "A value is trying to be set on a copy of a slice from a DataFrame.\n",
      "Try using .loc[row_indexer,col_indexer] = value instead\n",
      "\n",
      "See the caveats in the documentation: https://pandas.pydata.org/pandas-docs/stable/user_guide/indexing.html#returning-a-view-versus-a-copy\n",
      "  pop_year['statefips'] = pop_year['fips'].apply(findState)\n"
     ]
    },
    {
     "data": {
      "text/html": [
       "<div>\n",
       "<style scoped>\n",
       "    .dataframe tbody tr th:only-of-type {\n",
       "        vertical-align: middle;\n",
       "    }\n",
       "\n",
       "    .dataframe tbody tr th {\n",
       "        vertical-align: top;\n",
       "    }\n",
       "\n",
       "    .dataframe thead th {\n",
       "        text-align: right;\n",
       "    }\n",
       "</style>\n",
       "<table border=\"1\" class=\"dataframe\">\n",
       "  <thead>\n",
       "    <tr style=\"text-align: right;\">\n",
       "      <th></th>\n",
       "      <th>year</th>\n",
       "      <th>fips</th>\n",
       "      <th>pop</th>\n",
       "      <th>month</th>\n",
       "      <th>statefips</th>\n",
       "    </tr>\n",
       "  </thead>\n",
       "  <tbody>\n",
       "    <tr>\n",
       "      <th>11</th>\n",
       "      <td>1960</td>\n",
       "      <td>01001</td>\n",
       "      <td>18739</td>\n",
       "      <td>12</td>\n",
       "      <td>01</td>\n",
       "    </tr>\n",
       "    <tr>\n",
       "      <th>23</th>\n",
       "      <td>1960</td>\n",
       "      <td>01003</td>\n",
       "      <td>49088</td>\n",
       "      <td>12</td>\n",
       "      <td>01</td>\n",
       "    </tr>\n",
       "    <tr>\n",
       "      <th>35</th>\n",
       "      <td>1960</td>\n",
       "      <td>01005</td>\n",
       "      <td>24700</td>\n",
       "      <td>12</td>\n",
       "      <td>01</td>\n",
       "    </tr>\n",
       "    <tr>\n",
       "      <th>47</th>\n",
       "      <td>1960</td>\n",
       "      <td>01007</td>\n",
       "      <td>14357</td>\n",
       "      <td>12</td>\n",
       "      <td>01</td>\n",
       "    </tr>\n",
       "    <tr>\n",
       "      <th>59</th>\n",
       "      <td>1960</td>\n",
       "      <td>01009</td>\n",
       "      <td>25449</td>\n",
       "      <td>12</td>\n",
       "      <td>01</td>\n",
       "    </tr>\n",
       "  </tbody>\n",
       "</table>\n",
       "</div>"
      ],
      "text/plain": [
       "    year   fips    pop  month statefips\n",
       "11  1960  01001  18739     12        01\n",
       "23  1960  01003  49088     12        01\n",
       "35  1960  01005  24700     12        01\n",
       "47  1960  01007  14357     12        01\n",
       "59  1960  01009  25449     12        01"
      ]
     },
     "execution_count": 14,
     "metadata": {},
     "output_type": "execute_result"
    }
   ],
   "source": [
    "pop_year['statefips'] = pop_year['fips'].apply(findState)\n",
    "pop_year.head()"
   ]
  },
  {
   "cell_type": "code",
   "execution_count": 15,
   "id": "064395dd-bd2c-4eb0-839c-5098ecc533db",
   "metadata": {
    "tags": []
   },
   "outputs": [
    {
     "data": {
      "text/html": [
       "<div>\n",
       "<style scoped>\n",
       "    .dataframe tbody tr th:only-of-type {\n",
       "        vertical-align: middle;\n",
       "    }\n",
       "\n",
       "    .dataframe tbody tr th {\n",
       "        vertical-align: top;\n",
       "    }\n",
       "\n",
       "    .dataframe thead th {\n",
       "        text-align: right;\n",
       "    }\n",
       "</style>\n",
       "<table border=\"1\" class=\"dataframe\">\n",
       "  <thead>\n",
       "    <tr style=\"text-align: right;\">\n",
       "      <th></th>\n",
       "      <th>year</th>\n",
       "      <th>statefips</th>\n",
       "      <th>pop</th>\n",
       "    </tr>\n",
       "  </thead>\n",
       "  <tbody>\n",
       "    <tr>\n",
       "      <th>0</th>\n",
       "      <td>1960</td>\n",
       "      <td>01</td>\n",
       "      <td>3266740</td>\n",
       "    </tr>\n",
       "    <tr>\n",
       "      <th>1</th>\n",
       "      <td>1960</td>\n",
       "      <td>04</td>\n",
       "      <td>1302161</td>\n",
       "    </tr>\n",
       "    <tr>\n",
       "      <th>2</th>\n",
       "      <td>1960</td>\n",
       "      <td>05</td>\n",
       "      <td>1786272</td>\n",
       "    </tr>\n",
       "    <tr>\n",
       "      <th>3</th>\n",
       "      <td>1960</td>\n",
       "      <td>06</td>\n",
       "      <td>15717204</td>\n",
       "    </tr>\n",
       "    <tr>\n",
       "      <th>4</th>\n",
       "      <td>1960</td>\n",
       "      <td>08</td>\n",
       "      <td>1753947</td>\n",
       "    </tr>\n",
       "  </tbody>\n",
       "</table>\n",
       "</div>"
      ],
      "text/plain": [
       "   year statefips       pop\n",
       "0  1960        01   3266740\n",
       "1  1960        04   1302161\n",
       "2  1960        05   1786272\n",
       "3  1960        06  15717204\n",
       "4  1960        08   1753947"
      ]
     },
     "execution_count": 15,
     "metadata": {},
     "output_type": "execute_result"
    }
   ],
   "source": [
    "pop_state = pop_year.drop(['fips', 'month'], axis = 1)\n",
    "pop_state = pop_state.groupby(['year', 'statefips']).sum()\n",
    "pop_state = pop_state.reset_index()\n",
    "pop_state.head()"
   ]
  },
  {
   "cell_type": "code",
   "execution_count": 16,
   "id": "98e4bfce-cf9d-4900-bc8d-ee97e928741c",
   "metadata": {
    "tags": []
   },
   "outputs": [
    {
     "data": {
      "text/html": [
       "<div>\n",
       "<style scoped>\n",
       "    .dataframe tbody tr th:only-of-type {\n",
       "        vertical-align: middle;\n",
       "    }\n",
       "\n",
       "    .dataframe tbody tr th {\n",
       "        vertical-align: top;\n",
       "    }\n",
       "\n",
       "    .dataframe thead th {\n",
       "        text-align: right;\n",
       "    }\n",
       "</style>\n",
       "<table border=\"1\" class=\"dataframe\">\n",
       "  <thead>\n",
       "    <tr style=\"text-align: right;\">\n",
       "      <th></th>\n",
       "      <th>year</th>\n",
       "      <th>statefips</th>\n",
       "      <th>death_cause</th>\n",
       "    </tr>\n",
       "  </thead>\n",
       "  <tbody>\n",
       "    <tr>\n",
       "      <th>0</th>\n",
       "      <td>1960</td>\n",
       "      <td>00</td>\n",
       "      <td>32</td>\n",
       "    </tr>\n",
       "    <tr>\n",
       "      <th>1</th>\n",
       "      <td>1960</td>\n",
       "      <td>01</td>\n",
       "      <td>221</td>\n",
       "    </tr>\n",
       "    <tr>\n",
       "      <th>2</th>\n",
       "      <td>1960</td>\n",
       "      <td>04</td>\n",
       "      <td>111</td>\n",
       "    </tr>\n",
       "    <tr>\n",
       "      <th>3</th>\n",
       "      <td>1960</td>\n",
       "      <td>05</td>\n",
       "      <td>134</td>\n",
       "    </tr>\n",
       "    <tr>\n",
       "      <th>4</th>\n",
       "      <td>1960</td>\n",
       "      <td>06</td>\n",
       "      <td>1535</td>\n",
       "    </tr>\n",
       "  </tbody>\n",
       "</table>\n",
       "</div>"
      ],
      "text/plain": [
       "   year statefips  death_cause\n",
       "0  1960        00           32\n",
       "1  1960        01          221\n",
       "2  1960        04          111\n",
       "3  1960        05          134\n",
       "4  1960        06         1535"
      ]
     },
     "execution_count": 16,
     "metadata": {},
     "output_type": "execute_result"
    }
   ],
   "source": [
    "suicide_death = suicide.drop(['sex', 'race', 'age', 'age_range', 'date', 'fips', 'month'], axis = 1)\n",
    "suicide_death = suicide_death.groupby(['year', 'statefips']).count()\n",
    "suicide_death = suicide_death.reset_index()\n",
    "suicide_death.head()"
   ]
  },
  {
   "cell_type": "code",
   "execution_count": 17,
   "id": "65a487f8-10ea-4d55-893a-4c2440f8c244",
   "metadata": {
    "tags": []
   },
   "outputs": [
    {
     "data": {
      "text/plain": [
       "array([1960, 1961, 1962, 1963, 1964, 1965, 1966, 1967, 1968, 1969, 1970,\n",
       "       1971, 1972, 1973, 1974, 1975, 1976, 1977, 1978, 1979, 1980, 1981,\n",
       "       1982, 1983, 1984, 1985, 1986, 1987, 1988, 1989, 1990, 1991, 1992,\n",
       "       1993, 1994, 1995, 1996, 1997, 1998, 1999, 2000, 2001, 2002, 2003,\n",
       "       2004, 2005, 2006, 2007, 2008, 2009, 2010, 2011, 2012, 2013, 2014,\n",
       "       2015, 2016, 2017, 2018, 2019])"
      ]
     },
     "execution_count": 17,
     "metadata": {},
     "output_type": "execute_result"
    }
   ],
   "source": [
    "suicide_death['year'].unique()"
   ]
  },
  {
   "cell_type": "code",
   "execution_count": 18,
   "id": "5a6374eb-0b6e-4afe-b61e-d07ffb7fa385",
   "metadata": {
    "tags": []
   },
   "outputs": [],
   "source": [
    "suicide_death = suicide_death.rename(columns = {'death_cause': 'deaths'})"
   ]
  },
  {
   "cell_type": "code",
   "execution_count": 19,
   "id": "db1617d9-89a6-4409-bf3a-d61527b96d39",
   "metadata": {
    "tags": []
   },
   "outputs": [
    {
     "data": {
      "text/html": [
       "<div>\n",
       "<style scoped>\n",
       "    .dataframe tbody tr th:only-of-type {\n",
       "        vertical-align: middle;\n",
       "    }\n",
       "\n",
       "    .dataframe tbody tr th {\n",
       "        vertical-align: top;\n",
       "    }\n",
       "\n",
       "    .dataframe thead th {\n",
       "        text-align: right;\n",
       "    }\n",
       "</style>\n",
       "<table border=\"1\" class=\"dataframe\">\n",
       "  <thead>\n",
       "    <tr style=\"text-align: right;\">\n",
       "      <th></th>\n",
       "      <th>year</th>\n",
       "      <th>statefips</th>\n",
       "      <th>deaths</th>\n",
       "      <th>pop</th>\n",
       "    </tr>\n",
       "  </thead>\n",
       "  <tbody>\n",
       "    <tr>\n",
       "      <th>0</th>\n",
       "      <td>1960</td>\n",
       "      <td>01</td>\n",
       "      <td>221</td>\n",
       "      <td>3266740</td>\n",
       "    </tr>\n",
       "    <tr>\n",
       "      <th>1</th>\n",
       "      <td>1960</td>\n",
       "      <td>04</td>\n",
       "      <td>111</td>\n",
       "      <td>1302161</td>\n",
       "    </tr>\n",
       "    <tr>\n",
       "      <th>2</th>\n",
       "      <td>1960</td>\n",
       "      <td>05</td>\n",
       "      <td>134</td>\n",
       "      <td>1786272</td>\n",
       "    </tr>\n",
       "    <tr>\n",
       "      <th>3</th>\n",
       "      <td>1960</td>\n",
       "      <td>06</td>\n",
       "      <td>1535</td>\n",
       "      <td>15717204</td>\n",
       "    </tr>\n",
       "    <tr>\n",
       "      <th>4</th>\n",
       "      <td>1960</td>\n",
       "      <td>08</td>\n",
       "      <td>155</td>\n",
       "      <td>1753947</td>\n",
       "    </tr>\n",
       "  </tbody>\n",
       "</table>\n",
       "</div>"
      ],
      "text/plain": [
       "   year statefips  deaths       pop\n",
       "0  1960        01     221   3266740\n",
       "1  1960        04     111   1302161\n",
       "2  1960        05     134   1786272\n",
       "3  1960        06    1535  15717204\n",
       "4  1960        08     155   1753947"
      ]
     },
     "execution_count": 19,
     "metadata": {},
     "output_type": "execute_result"
    }
   ],
   "source": [
    "suicide_pop = suicide_death.merge(pop_state, on = ['year','statefips'], how = 'inner')\n",
    "suicide_pop.head()"
   ]
  },
  {
   "cell_type": "code",
   "execution_count": 20,
   "id": "3000201b-b7b6-4eb0-87fe-5cdae1f96b93",
   "metadata": {
    "tags": []
   },
   "outputs": [
    {
     "data": {
      "text/html": [
       "<div>\n",
       "<style scoped>\n",
       "    .dataframe tbody tr th:only-of-type {\n",
       "        vertical-align: middle;\n",
       "    }\n",
       "\n",
       "    .dataframe tbody tr th {\n",
       "        vertical-align: top;\n",
       "    }\n",
       "\n",
       "    .dataframe thead th {\n",
       "        text-align: right;\n",
       "    }\n",
       "</style>\n",
       "<table border=\"1\" class=\"dataframe\">\n",
       "  <thead>\n",
       "    <tr style=\"text-align: right;\">\n",
       "      <th></th>\n",
       "      <th>Code</th>\n",
       "      <th>State</th>\n",
       "      <th>Abbreviation</th>\n",
       "      <th>Alpha code</th>\n",
       "    </tr>\n",
       "  </thead>\n",
       "  <tbody>\n",
       "    <tr>\n",
       "      <th>0</th>\n",
       "      <td>1</td>\n",
       "      <td>Alabama</td>\n",
       "      <td>Ala.</td>\n",
       "      <td>AL</td>\n",
       "    </tr>\n",
       "    <tr>\n",
       "      <th>1</th>\n",
       "      <td>2</td>\n",
       "      <td>Alaska</td>\n",
       "      <td>NaN</td>\n",
       "      <td>AK</td>\n",
       "    </tr>\n",
       "    <tr>\n",
       "      <th>2</th>\n",
       "      <td>4</td>\n",
       "      <td>Arizona</td>\n",
       "      <td>Ariz.</td>\n",
       "      <td>AZ</td>\n",
       "    </tr>\n",
       "    <tr>\n",
       "      <th>3</th>\n",
       "      <td>5</td>\n",
       "      <td>Arkansas</td>\n",
       "      <td>Ark.</td>\n",
       "      <td>AR</td>\n",
       "    </tr>\n",
       "    <tr>\n",
       "      <th>4</th>\n",
       "      <td>6</td>\n",
       "      <td>California</td>\n",
       "      <td>Calif.</td>\n",
       "      <td>CA</td>\n",
       "    </tr>\n",
       "  </tbody>\n",
       "</table>\n",
       "</div>"
      ],
      "text/plain": [
       "   Code       State Abbreviation Alpha code\n",
       "0     1     Alabama         Ala.         AL\n",
       "1     2      Alaska          NaN         AK\n",
       "2     4     Arizona        Ariz.         AZ\n",
       "3     5    Arkansas         Ark.         AR\n",
       "4     6  California       Calif.         CA"
      ]
     },
     "execution_count": 20,
     "metadata": {},
     "output_type": "execute_result"
    }
   ],
   "source": [
    "state = pd.read_excel('/global/cfs/cdirs/m1532/Projects_MVP/geospatial/temp_bins_suicide/test_paper/state_code.xlsx', engine='openpyxl', dtype = {'Code': int})\n",
    "state.head()"
   ]
  },
  {
   "cell_type": "code",
   "execution_count": 21,
   "id": "6c116b6d-9582-459c-b613-4123e9642be3",
   "metadata": {
    "tags": []
   },
   "outputs": [],
   "source": [
    "def convertStateCode(code):\n",
    "    return str(code).rjust(2, '0')"
   ]
  },
  {
   "cell_type": "code",
   "execution_count": 22,
   "id": "264432d1-02ac-4993-a933-c98b46aaab16",
   "metadata": {
    "tags": []
   },
   "outputs": [
    {
     "data": {
      "text/html": [
       "<div>\n",
       "<style scoped>\n",
       "    .dataframe tbody tr th:only-of-type {\n",
       "        vertical-align: middle;\n",
       "    }\n",
       "\n",
       "    .dataframe tbody tr th {\n",
       "        vertical-align: top;\n",
       "    }\n",
       "\n",
       "    .dataframe thead th {\n",
       "        text-align: right;\n",
       "    }\n",
       "</style>\n",
       "<table border=\"1\" class=\"dataframe\">\n",
       "  <thead>\n",
       "    <tr style=\"text-align: right;\">\n",
       "      <th></th>\n",
       "      <th>statefips</th>\n",
       "      <th>state_name</th>\n",
       "      <th>Abbreviation</th>\n",
       "      <th>state</th>\n",
       "    </tr>\n",
       "  </thead>\n",
       "  <tbody>\n",
       "    <tr>\n",
       "      <th>0</th>\n",
       "      <td>01</td>\n",
       "      <td>Alabama</td>\n",
       "      <td>Ala.</td>\n",
       "      <td>AL</td>\n",
       "    </tr>\n",
       "    <tr>\n",
       "      <th>1</th>\n",
       "      <td>02</td>\n",
       "      <td>Alaska</td>\n",
       "      <td>NaN</td>\n",
       "      <td>AK</td>\n",
       "    </tr>\n",
       "    <tr>\n",
       "      <th>2</th>\n",
       "      <td>04</td>\n",
       "      <td>Arizona</td>\n",
       "      <td>Ariz.</td>\n",
       "      <td>AZ</td>\n",
       "    </tr>\n",
       "    <tr>\n",
       "      <th>3</th>\n",
       "      <td>05</td>\n",
       "      <td>Arkansas</td>\n",
       "      <td>Ark.</td>\n",
       "      <td>AR</td>\n",
       "    </tr>\n",
       "    <tr>\n",
       "      <th>4</th>\n",
       "      <td>06</td>\n",
       "      <td>California</td>\n",
       "      <td>Calif.</td>\n",
       "      <td>CA</td>\n",
       "    </tr>\n",
       "  </tbody>\n",
       "</table>\n",
       "</div>"
      ],
      "text/plain": [
       "  statefips  state_name Abbreviation state\n",
       "0        01     Alabama         Ala.    AL\n",
       "1        02      Alaska          NaN    AK\n",
       "2        04     Arizona        Ariz.    AZ\n",
       "3        05    Arkansas         Ark.    AR\n",
       "4        06  California       Calif.    CA"
      ]
     },
     "execution_count": 22,
     "metadata": {},
     "output_type": "execute_result"
    }
   ],
   "source": [
    "state['Code'] = state['Code'].apply(convertStateCode)\n",
    "state = state.rename(columns = {'Code': 'statefips', 'State': 'state_name', 'Alpha code': 'state'})\n",
    "state.head()"
   ]
  },
  {
   "cell_type": "code",
   "execution_count": 23,
   "id": "8d9d388b-baeb-4c92-9ae2-feeef9f4e9d8",
   "metadata": {
    "tags": []
   },
   "outputs": [],
   "source": [
    "west_states = ['Colorado', 'Wyoming', 'Montana', 'Idaho', 'Washington',\n",
    "              'Oregon', 'Utah', 'Nevada', 'California', 'Alaska', 'Hawaii']\n",
    "Midwest_states = ['Ohio', 'Indiana', 'Michigan', 'Illinois', 'Missouri', \n",
    "                  'Wisconsin', 'Minnesota', 'Iowa', 'Kansas', 'Nebraska', 'South Dakota', 'North Dakota']\n",
    "Southwest_states = ['Texas', 'Oklahoma', 'New Mexico', 'Arizona']\n",
    "Southeast_states = ['West Virginia', 'Virginia', 'Kentucky', 'Tennessee', 'North Carolina', \n",
    "                    'South Carolina', 'Georgia', 'Alabama', 'Mississippi', 'Arkansas', 'Louisiana', 'Florida']\n",
    "Northeast_states = ['Maine', 'Massachusetts', 'Rhode Island', 'Connecticut', 'New Hampshire', 'Vermont', \n",
    "                    'New York', 'Pennsylvania', 'New Jersey', 'Delaware', 'Maryland']"
   ]
  },
  {
   "cell_type": "code",
   "execution_count": 24,
   "id": "b99def20-f489-4ebc-a9da-6a83e4cd4826",
   "metadata": {
    "tags": []
   },
   "outputs": [],
   "source": [
    "#use a function to get region information\n",
    "def get_region(state):\n",
    "    if state in west_states:\n",
    "        return 'West'\n",
    "    elif state in Midwest_states:\n",
    "        return 'Midwest'\n",
    "    elif state in Southwest_states:\n",
    "        return 'Southwest'\n",
    "    elif state in Southeast_states:\n",
    "        return 'Southeast'\n",
    "    else:\n",
    "        return 'Northeast'"
   ]
  },
  {
   "cell_type": "code",
   "execution_count": 25,
   "id": "9943d2dc-7af6-4799-8e15-c063d6b69711",
   "metadata": {
    "tags": []
   },
   "outputs": [
    {
     "data": {
      "text/html": [
       "<div>\n",
       "<style scoped>\n",
       "    .dataframe tbody tr th:only-of-type {\n",
       "        vertical-align: middle;\n",
       "    }\n",
       "\n",
       "    .dataframe tbody tr th {\n",
       "        vertical-align: top;\n",
       "    }\n",
       "\n",
       "    .dataframe thead th {\n",
       "        text-align: right;\n",
       "    }\n",
       "</style>\n",
       "<table border=\"1\" class=\"dataframe\">\n",
       "  <thead>\n",
       "    <tr style=\"text-align: right;\">\n",
       "      <th></th>\n",
       "      <th>year</th>\n",
       "      <th>statefips</th>\n",
       "      <th>deaths</th>\n",
       "      <th>pop</th>\n",
       "      <th>state_name</th>\n",
       "      <th>state</th>\n",
       "    </tr>\n",
       "  </thead>\n",
       "  <tbody>\n",
       "    <tr>\n",
       "      <th>0</th>\n",
       "      <td>1960</td>\n",
       "      <td>01</td>\n",
       "      <td>221</td>\n",
       "      <td>3266740</td>\n",
       "      <td>Alabama</td>\n",
       "      <td>AL</td>\n",
       "    </tr>\n",
       "    <tr>\n",
       "      <th>1</th>\n",
       "      <td>1961</td>\n",
       "      <td>01</td>\n",
       "      <td>278</td>\n",
       "      <td>3281534</td>\n",
       "      <td>Alabama</td>\n",
       "      <td>AL</td>\n",
       "    </tr>\n",
       "    <tr>\n",
       "      <th>2</th>\n",
       "      <td>1962</td>\n",
       "      <td>01</td>\n",
       "      <td>243</td>\n",
       "      <td>3296946</td>\n",
       "      <td>Alabama</td>\n",
       "      <td>AL</td>\n",
       "    </tr>\n",
       "    <tr>\n",
       "      <th>3</th>\n",
       "      <td>1963</td>\n",
       "      <td>01</td>\n",
       "      <td>252</td>\n",
       "      <td>3312978</td>\n",
       "      <td>Alabama</td>\n",
       "      <td>AL</td>\n",
       "    </tr>\n",
       "    <tr>\n",
       "      <th>4</th>\n",
       "      <td>1964</td>\n",
       "      <td>01</td>\n",
       "      <td>267</td>\n",
       "      <td>3329632</td>\n",
       "      <td>Alabama</td>\n",
       "      <td>AL</td>\n",
       "    </tr>\n",
       "  </tbody>\n",
       "</table>\n",
       "</div>"
      ],
      "text/plain": [
       "   year statefips  deaths      pop state_name state\n",
       "0  1960        01     221  3266740    Alabama    AL\n",
       "1  1961        01     278  3281534    Alabama    AL\n",
       "2  1962        01     243  3296946    Alabama    AL\n",
       "3  1963        01     252  3312978    Alabama    AL\n",
       "4  1964        01     267  3329632    Alabama    AL"
      ]
     },
     "execution_count": 25,
     "metadata": {},
     "output_type": "execute_result"
    }
   ],
   "source": [
    "suicide_pop = suicide_pop.merge(state[['statefips', 'state_name', 'state']], on = ['statefips'], how = 'inner')\n",
    "suicide_pop.head()"
   ]
  },
  {
   "cell_type": "code",
   "execution_count": 26,
   "id": "f1c33f96-7346-41a3-a3df-d68f054f467d",
   "metadata": {
    "tags": []
   },
   "outputs": [
    {
     "data": {
      "text/html": [
       "<div>\n",
       "<style scoped>\n",
       "    .dataframe tbody tr th:only-of-type {\n",
       "        vertical-align: middle;\n",
       "    }\n",
       "\n",
       "    .dataframe tbody tr th {\n",
       "        vertical-align: top;\n",
       "    }\n",
       "\n",
       "    .dataframe thead th {\n",
       "        text-align: right;\n",
       "    }\n",
       "</style>\n",
       "<table border=\"1\" class=\"dataframe\">\n",
       "  <thead>\n",
       "    <tr style=\"text-align: right;\">\n",
       "      <th></th>\n",
       "      <th>year</th>\n",
       "      <th>statefips</th>\n",
       "      <th>deaths</th>\n",
       "      <th>pop</th>\n",
       "      <th>state_name</th>\n",
       "      <th>state</th>\n",
       "      <th>region</th>\n",
       "    </tr>\n",
       "  </thead>\n",
       "  <tbody>\n",
       "    <tr>\n",
       "      <th>0</th>\n",
       "      <td>1960</td>\n",
       "      <td>01</td>\n",
       "      <td>221</td>\n",
       "      <td>3266740</td>\n",
       "      <td>Alabama</td>\n",
       "      <td>AL</td>\n",
       "      <td>Southeast</td>\n",
       "    </tr>\n",
       "    <tr>\n",
       "      <th>1</th>\n",
       "      <td>1961</td>\n",
       "      <td>01</td>\n",
       "      <td>278</td>\n",
       "      <td>3281534</td>\n",
       "      <td>Alabama</td>\n",
       "      <td>AL</td>\n",
       "      <td>Southeast</td>\n",
       "    </tr>\n",
       "    <tr>\n",
       "      <th>2</th>\n",
       "      <td>1962</td>\n",
       "      <td>01</td>\n",
       "      <td>243</td>\n",
       "      <td>3296946</td>\n",
       "      <td>Alabama</td>\n",
       "      <td>AL</td>\n",
       "      <td>Southeast</td>\n",
       "    </tr>\n",
       "    <tr>\n",
       "      <th>3</th>\n",
       "      <td>1963</td>\n",
       "      <td>01</td>\n",
       "      <td>252</td>\n",
       "      <td>3312978</td>\n",
       "      <td>Alabama</td>\n",
       "      <td>AL</td>\n",
       "      <td>Southeast</td>\n",
       "    </tr>\n",
       "    <tr>\n",
       "      <th>4</th>\n",
       "      <td>1964</td>\n",
       "      <td>01</td>\n",
       "      <td>267</td>\n",
       "      <td>3329632</td>\n",
       "      <td>Alabama</td>\n",
       "      <td>AL</td>\n",
       "      <td>Southeast</td>\n",
       "    </tr>\n",
       "  </tbody>\n",
       "</table>\n",
       "</div>"
      ],
      "text/plain": [
       "   year statefips  deaths      pop state_name state     region\n",
       "0  1960        01     221  3266740    Alabama    AL  Southeast\n",
       "1  1961        01     278  3281534    Alabama    AL  Southeast\n",
       "2  1962        01     243  3296946    Alabama    AL  Southeast\n",
       "3  1963        01     252  3312978    Alabama    AL  Southeast\n",
       "4  1964        01     267  3329632    Alabama    AL  Southeast"
      ]
     },
     "execution_count": 26,
     "metadata": {},
     "output_type": "execute_result"
    }
   ],
   "source": [
    "suicide_pop['region'] = suicide_pop['state_name'].apply(get_region)\n",
    "suicide_pop.head()"
   ]
  },
  {
   "cell_type": "code",
   "execution_count": 27,
   "id": "596b7888-f43d-4435-92bf-524874622924",
   "metadata": {
    "tags": []
   },
   "outputs": [
    {
     "data": {
      "text/html": [
       "<div>\n",
       "<style scoped>\n",
       "    .dataframe tbody tr th:only-of-type {\n",
       "        vertical-align: middle;\n",
       "    }\n",
       "\n",
       "    .dataframe tbody tr th {\n",
       "        vertical-align: top;\n",
       "    }\n",
       "\n",
       "    .dataframe thead th {\n",
       "        text-align: right;\n",
       "    }\n",
       "</style>\n",
       "<table border=\"1\" class=\"dataframe\">\n",
       "  <thead>\n",
       "    <tr style=\"text-align: right;\">\n",
       "      <th></th>\n",
       "      <th>year</th>\n",
       "      <th>statefips</th>\n",
       "      <th>deaths</th>\n",
       "      <th>pop</th>\n",
       "      <th>state_name</th>\n",
       "      <th>state</th>\n",
       "      <th>region</th>\n",
       "      <th>suicide_rate</th>\n",
       "    </tr>\n",
       "  </thead>\n",
       "  <tbody>\n",
       "    <tr>\n",
       "      <th>0</th>\n",
       "      <td>1960</td>\n",
       "      <td>01</td>\n",
       "      <td>221</td>\n",
       "      <td>3266740</td>\n",
       "      <td>Alabama</td>\n",
       "      <td>AL</td>\n",
       "      <td>Southeast</td>\n",
       "      <td>6.765154</td>\n",
       "    </tr>\n",
       "    <tr>\n",
       "      <th>1</th>\n",
       "      <td>1961</td>\n",
       "      <td>01</td>\n",
       "      <td>278</td>\n",
       "      <td>3281534</td>\n",
       "      <td>Alabama</td>\n",
       "      <td>AL</td>\n",
       "      <td>Southeast</td>\n",
       "      <td>8.471648</td>\n",
       "    </tr>\n",
       "    <tr>\n",
       "      <th>2</th>\n",
       "      <td>1962</td>\n",
       "      <td>01</td>\n",
       "      <td>243</td>\n",
       "      <td>3296946</td>\n",
       "      <td>Alabama</td>\n",
       "      <td>AL</td>\n",
       "      <td>Southeast</td>\n",
       "      <td>7.370457</td>\n",
       "    </tr>\n",
       "    <tr>\n",
       "      <th>3</th>\n",
       "      <td>1963</td>\n",
       "      <td>01</td>\n",
       "      <td>252</td>\n",
       "      <td>3312978</td>\n",
       "      <td>Alabama</td>\n",
       "      <td>AL</td>\n",
       "      <td>Southeast</td>\n",
       "      <td>7.606450</td>\n",
       "    </tr>\n",
       "    <tr>\n",
       "      <th>4</th>\n",
       "      <td>1964</td>\n",
       "      <td>01</td>\n",
       "      <td>267</td>\n",
       "      <td>3329632</td>\n",
       "      <td>Alabama</td>\n",
       "      <td>AL</td>\n",
       "      <td>Southeast</td>\n",
       "      <td>8.018904</td>\n",
       "    </tr>\n",
       "  </tbody>\n",
       "</table>\n",
       "</div>"
      ],
      "text/plain": [
       "   year statefips  deaths      pop state_name state     region  suicide_rate\n",
       "0  1960        01     221  3266740    Alabama    AL  Southeast      6.765154\n",
       "1  1961        01     278  3281534    Alabama    AL  Southeast      8.471648\n",
       "2  1962        01     243  3296946    Alabama    AL  Southeast      7.370457\n",
       "3  1963        01     252  3312978    Alabama    AL  Southeast      7.606450\n",
       "4  1964        01     267  3329632    Alabama    AL  Southeast      8.018904"
      ]
     },
     "execution_count": 27,
     "metadata": {},
     "output_type": "execute_result"
    }
   ],
   "source": [
    "suicide_pop['suicide_rate'] = (suicide_pop['deaths']/suicide_pop['pop'])*100000\n",
    "suicide_pop.head()"
   ]
  },
  {
   "cell_type": "code",
   "execution_count": 28,
   "id": "f35f0ce4-9cb5-43d1-9a24-df43f3c4113b",
   "metadata": {
    "tags": []
   },
   "outputs": [
    {
     "data": {
      "text/plain": [
       "array([1960, 1961, 1962, 1963, 1964, 1965, 1966, 1967, 1968, 1969, 1970,\n",
       "       1971, 1972, 1973, 1974, 1975, 1976, 1977, 1978, 1979, 1980, 1981,\n",
       "       1982, 1983, 1984, 1985, 1986, 1987, 1988, 1989, 1990, 1991, 1992,\n",
       "       1993, 1994, 1995, 1996, 1997, 1998, 1999, 2000, 2001, 2002, 2003,\n",
       "       2004, 2005, 2006, 2007, 2008, 2009, 2010, 2011, 2012, 2013, 2014,\n",
       "       2015, 2016, 2017, 2018, 2019])"
      ]
     },
     "execution_count": 28,
     "metadata": {},
     "output_type": "execute_result"
    }
   ],
   "source": [
    "suicide_pop['year'].unique()"
   ]
  },
  {
   "cell_type": "markdown",
   "id": "2f671d9f-8a32-499d-afc1-255cad05ea22",
   "metadata": {},
   "source": [
    "### Load heatwave data"
   ]
  },
  {
   "cell_type": "code",
   "execution_count": 29,
   "id": "7336630c-9471-48d5-b044-f10562fde17d",
   "metadata": {
    "tags": []
   },
   "outputs": [
    {
     "data": {
      "text/html": [
       "<div>\n",
       "<style scoped>\n",
       "    .dataframe tbody tr th:only-of-type {\n",
       "        vertical-align: middle;\n",
       "    }\n",
       "\n",
       "    .dataframe tbody tr th {\n",
       "        vertical-align: top;\n",
       "    }\n",
       "\n",
       "    .dataframe thead th {\n",
       "        text-align: right;\n",
       "    }\n",
       "</style>\n",
       "<table border=\"1\" class=\"dataframe\">\n",
       "  <thead>\n",
       "    <tr style=\"text-align: right;\">\n",
       "      <th></th>\n",
       "      <th>year</th>\n",
       "      <th>month</th>\n",
       "      <th>fips</th>\n",
       "      <th>heatwave_count</th>\n",
       "    </tr>\n",
       "  </thead>\n",
       "  <tbody>\n",
       "    <tr>\n",
       "      <th>0</th>\n",
       "      <td>1960</td>\n",
       "      <td>1</td>\n",
       "      <td>01001</td>\n",
       "      <td>0</td>\n",
       "    </tr>\n",
       "    <tr>\n",
       "      <th>1</th>\n",
       "      <td>1960</td>\n",
       "      <td>1</td>\n",
       "      <td>01003</td>\n",
       "      <td>0</td>\n",
       "    </tr>\n",
       "    <tr>\n",
       "      <th>2</th>\n",
       "      <td>1960</td>\n",
       "      <td>1</td>\n",
       "      <td>01005</td>\n",
       "      <td>0</td>\n",
       "    </tr>\n",
       "    <tr>\n",
       "      <th>3</th>\n",
       "      <td>1960</td>\n",
       "      <td>1</td>\n",
       "      <td>01007</td>\n",
       "      <td>0</td>\n",
       "    </tr>\n",
       "    <tr>\n",
       "      <th>4</th>\n",
       "      <td>1960</td>\n",
       "      <td>1</td>\n",
       "      <td>01009</td>\n",
       "      <td>0</td>\n",
       "    </tr>\n",
       "  </tbody>\n",
       "</table>\n",
       "</div>"
      ],
      "text/plain": [
       "   year  month   fips  heatwave_count\n",
       "0  1960      1  01001               0\n",
       "1  1960      1  01003               0\n",
       "2  1960      1  01005               0\n",
       "3  1960      1  01007               0\n",
       "4  1960      1  01009               0"
      ]
     },
     "execution_count": 29,
     "metadata": {},
     "output_type": "execute_result"
    }
   ],
   "source": [
    "heatwave_count = pd.read_csv('/global/cfs/cdirs/m1532/Projects_MVP/geospatial/climate_heatwave/heatwave_details/PRISM_min_AT_p85/heatwave_count_monthly_1960_2020.csv', dtype = {'fips': str})\n",
    "heatwave_count = heatwave_count.loc[:, ~heatwave_count.columns.str.contains('^Unnamed')]\n",
    "heatwave_count.head()"
   ]
  },
  {
   "cell_type": "code",
   "execution_count": 30,
   "id": "4b99cedc-1e80-41e2-94b4-e96e5a42e175",
   "metadata": {
    "tags": []
   },
   "outputs": [
    {
     "data": {
      "text/plain": [
       "array([ 1,  2,  3,  4,  5,  6,  7,  8,  9, 10, 11, 12])"
      ]
     },
     "execution_count": 30,
     "metadata": {},
     "output_type": "execute_result"
    }
   ],
   "source": [
    "heatwave_count['month'].unique()"
   ]
  },
  {
   "cell_type": "code",
   "execution_count": 31,
   "id": "6373a6f4-2582-423a-9058-865ea4059c29",
   "metadata": {
    "tags": []
   },
   "outputs": [
    {
     "data": {
      "text/html": [
       "<div>\n",
       "<style scoped>\n",
       "    .dataframe tbody tr th:only-of-type {\n",
       "        vertical-align: middle;\n",
       "    }\n",
       "\n",
       "    .dataframe tbody tr th {\n",
       "        vertical-align: top;\n",
       "    }\n",
       "\n",
       "    .dataframe thead th {\n",
       "        text-align: right;\n",
       "    }\n",
       "</style>\n",
       "<table border=\"1\" class=\"dataframe\">\n",
       "  <thead>\n",
       "    <tr style=\"text-align: right;\">\n",
       "      <th></th>\n",
       "      <th>year</th>\n",
       "      <th>month</th>\n",
       "      <th>fips</th>\n",
       "      <th>heatwave_count</th>\n",
       "      <th>statefips</th>\n",
       "    </tr>\n",
       "  </thead>\n",
       "  <tbody>\n",
       "    <tr>\n",
       "      <th>0</th>\n",
       "      <td>1960</td>\n",
       "      <td>1</td>\n",
       "      <td>01001</td>\n",
       "      <td>0</td>\n",
       "      <td>01</td>\n",
       "    </tr>\n",
       "    <tr>\n",
       "      <th>1</th>\n",
       "      <td>1960</td>\n",
       "      <td>1</td>\n",
       "      <td>01003</td>\n",
       "      <td>0</td>\n",
       "      <td>01</td>\n",
       "    </tr>\n",
       "    <tr>\n",
       "      <th>2</th>\n",
       "      <td>1960</td>\n",
       "      <td>1</td>\n",
       "      <td>01005</td>\n",
       "      <td>0</td>\n",
       "      <td>01</td>\n",
       "    </tr>\n",
       "    <tr>\n",
       "      <th>3</th>\n",
       "      <td>1960</td>\n",
       "      <td>1</td>\n",
       "      <td>01007</td>\n",
       "      <td>0</td>\n",
       "      <td>01</td>\n",
       "    </tr>\n",
       "    <tr>\n",
       "      <th>4</th>\n",
       "      <td>1960</td>\n",
       "      <td>1</td>\n",
       "      <td>01009</td>\n",
       "      <td>0</td>\n",
       "      <td>01</td>\n",
       "    </tr>\n",
       "  </tbody>\n",
       "</table>\n",
       "</div>"
      ],
      "text/plain": [
       "   year  month   fips  heatwave_count statefips\n",
       "0  1960      1  01001               0        01\n",
       "1  1960      1  01003               0        01\n",
       "2  1960      1  01005               0        01\n",
       "3  1960      1  01007               0        01\n",
       "4  1960      1  01009               0        01"
      ]
     },
     "execution_count": 31,
     "metadata": {},
     "output_type": "execute_result"
    }
   ],
   "source": [
    "heatwave_count['statefips'] = heatwave_count['fips'].apply(findState)\n",
    "heatwave_count.head()"
   ]
  },
  {
   "cell_type": "code",
   "execution_count": 32,
   "id": "d3224c9d-3120-4060-a991-a6e320a9691a",
   "metadata": {
    "tags": []
   },
   "outputs": [
    {
     "data": {
      "text/plain": [
       "count    2.235600e+06\n",
       "mean     2.037207e-01\n",
       "std      6.048997e-01\n",
       "min      0.000000e+00\n",
       "25%      0.000000e+00\n",
       "50%      0.000000e+00\n",
       "75%      0.000000e+00\n",
       "max      7.000000e+00\n",
       "Name: heatwave_count, dtype: float64"
      ]
     },
     "execution_count": 32,
     "metadata": {},
     "output_type": "execute_result"
    }
   ],
   "source": [
    "heatwave_count['heatwave_count'].describe()"
   ]
  },
  {
   "cell_type": "code",
   "execution_count": 33,
   "id": "da9016f7-4119-44fe-83c0-1c8113b1fff0",
   "metadata": {
    "tags": []
   },
   "outputs": [
    {
     "data": {
      "text/plain": [
       "array([0, 1, 2, 3, 4, 5, 6, 7])"
      ]
     },
     "execution_count": 33,
     "metadata": {},
     "output_type": "execute_result"
    }
   ],
   "source": [
    "heatwave_count['heatwave_count'].unique()"
   ]
  },
  {
   "cell_type": "code",
   "execution_count": 34,
   "id": "17f4e886-8234-4dc3-ab9c-88eb3d1ae0ca",
   "metadata": {
    "tags": []
   },
   "outputs": [
    {
     "data": {
      "text/html": [
       "<div>\n",
       "<style scoped>\n",
       "    .dataframe tbody tr th:only-of-type {\n",
       "        vertical-align: middle;\n",
       "    }\n",
       "\n",
       "    .dataframe tbody tr th {\n",
       "        vertical-align: top;\n",
       "    }\n",
       "\n",
       "    .dataframe thead th {\n",
       "        text-align: right;\n",
       "    }\n",
       "</style>\n",
       "<table border=\"1\" class=\"dataframe\">\n",
       "  <thead>\n",
       "    <tr style=\"text-align: right;\">\n",
       "      <th></th>\n",
       "      <th>year</th>\n",
       "      <th>statefips</th>\n",
       "      <th>fips</th>\n",
       "      <th>heatwave_count</th>\n",
       "    </tr>\n",
       "  </thead>\n",
       "  <tbody>\n",
       "    <tr>\n",
       "      <th>0</th>\n",
       "      <td>1960</td>\n",
       "      <td>01</td>\n",
       "      <td>01001</td>\n",
       "      <td>3</td>\n",
       "    </tr>\n",
       "    <tr>\n",
       "      <th>1</th>\n",
       "      <td>1960</td>\n",
       "      <td>01</td>\n",
       "      <td>01003</td>\n",
       "      <td>0</td>\n",
       "    </tr>\n",
       "    <tr>\n",
       "      <th>2</th>\n",
       "      <td>1960</td>\n",
       "      <td>01</td>\n",
       "      <td>01005</td>\n",
       "      <td>3</td>\n",
       "    </tr>\n",
       "    <tr>\n",
       "      <th>3</th>\n",
       "      <td>1960</td>\n",
       "      <td>01</td>\n",
       "      <td>01007</td>\n",
       "      <td>0</td>\n",
       "    </tr>\n",
       "    <tr>\n",
       "      <th>4</th>\n",
       "      <td>1960</td>\n",
       "      <td>01</td>\n",
       "      <td>01009</td>\n",
       "      <td>0</td>\n",
       "    </tr>\n",
       "  </tbody>\n",
       "</table>\n",
       "</div>"
      ],
      "text/plain": [
       "   year statefips   fips  heatwave_count\n",
       "0  1960        01  01001               3\n",
       "1  1960        01  01003               0\n",
       "2  1960        01  01005               3\n",
       "3  1960        01  01007               0\n",
       "4  1960        01  01009               0"
      ]
     },
     "execution_count": 34,
     "metadata": {},
     "output_type": "execute_result"
    }
   ],
   "source": [
    "heatwave_year = heatwave_count.drop('month', axis = 1)\n",
    "heatwave_year = heatwave_year.groupby(['year', 'statefips', 'fips']).sum()\n",
    "heatwave_year = heatwave_year.reset_index()\n",
    "heatwave_year.head()"
   ]
  },
  {
   "cell_type": "code",
   "execution_count": 35,
   "id": "3982cb05-fa08-404f-8c87-6d92360e3ce1",
   "metadata": {
    "tags": []
   },
   "outputs": [
    {
     "data": {
      "text/html": [
       "<div>\n",
       "<style scoped>\n",
       "    .dataframe tbody tr th:only-of-type {\n",
       "        vertical-align: middle;\n",
       "    }\n",
       "\n",
       "    .dataframe tbody tr th {\n",
       "        vertical-align: top;\n",
       "    }\n",
       "\n",
       "    .dataframe thead th {\n",
       "        text-align: right;\n",
       "    }\n",
       "</style>\n",
       "<table border=\"1\" class=\"dataframe\">\n",
       "  <thead>\n",
       "    <tr style=\"text-align: right;\">\n",
       "      <th></th>\n",
       "      <th>year</th>\n",
       "      <th>statefips</th>\n",
       "      <th>heatwave_count</th>\n",
       "    </tr>\n",
       "  </thead>\n",
       "  <tbody>\n",
       "    <tr>\n",
       "      <th>0</th>\n",
       "      <td>1960</td>\n",
       "      <td>01</td>\n",
       "      <td>0.0</td>\n",
       "    </tr>\n",
       "    <tr>\n",
       "      <th>1</th>\n",
       "      <td>1960</td>\n",
       "      <td>04</td>\n",
       "      <td>2.0</td>\n",
       "    </tr>\n",
       "    <tr>\n",
       "      <th>2</th>\n",
       "      <td>1960</td>\n",
       "      <td>05</td>\n",
       "      <td>0.0</td>\n",
       "    </tr>\n",
       "    <tr>\n",
       "      <th>3</th>\n",
       "      <td>1960</td>\n",
       "      <td>06</td>\n",
       "      <td>3.0</td>\n",
       "    </tr>\n",
       "    <tr>\n",
       "      <th>4</th>\n",
       "      <td>1960</td>\n",
       "      <td>08</td>\n",
       "      <td>1.0</td>\n",
       "    </tr>\n",
       "  </tbody>\n",
       "</table>\n",
       "</div>"
      ],
      "text/plain": [
       "   year statefips  heatwave_count\n",
       "0  1960        01             0.0\n",
       "1  1960        04             2.0\n",
       "2  1960        05             0.0\n",
       "3  1960        06             3.0\n",
       "4  1960        08             1.0"
      ]
     },
     "execution_count": 35,
     "metadata": {},
     "output_type": "execute_result"
    }
   ],
   "source": [
    "heatwave_state = heatwave_year.drop(['fips'], axis = 1)\n",
    "heatwave_state = heatwave_state.groupby(['year','statefips']).median()\n",
    "heatwave_state = heatwave_state.reset_index()\n",
    "heatwave_state.head()"
   ]
  },
  {
   "cell_type": "code",
   "execution_count": 36,
   "id": "69aefc54-eef2-49c2-b5b1-3558dc6d50c6",
   "metadata": {
    "tags": []
   },
   "outputs": [
    {
     "data": {
      "text/plain": [
       "count    2940.000000\n",
       "mean        2.343878\n",
       "std         1.649372\n",
       "min         0.000000\n",
       "25%         1.000000\n",
       "50%         2.000000\n",
       "75%         3.000000\n",
       "max         9.000000\n",
       "Name: heatwave_count, dtype: float64"
      ]
     },
     "execution_count": 36,
     "metadata": {},
     "output_type": "execute_result"
    }
   ],
   "source": [
    "heatwave_state['heatwave_count'].describe()"
   ]
  },
  {
   "cell_type": "code",
   "execution_count": 38,
   "id": "d633d4a2-20f4-4b59-a23a-dfa92b59a7dd",
   "metadata": {
    "tags": []
   },
   "outputs": [
    {
     "data": {
      "text/plain": [
       "19"
      ]
     },
     "execution_count": 38,
     "metadata": {},
     "output_type": "execute_result"
    }
   ],
   "source": [
    "heatwave_state['heatwave_count'].nunique()"
   ]
  },
  {
   "cell_type": "code",
   "execution_count": 39,
   "id": "61901f30-e987-4707-b360-a6d2917c1981",
   "metadata": {
    "tags": []
   },
   "outputs": [
    {
     "data": {
      "text/html": [
       "<div>\n",
       "<style scoped>\n",
       "    .dataframe tbody tr th:only-of-type {\n",
       "        vertical-align: middle;\n",
       "    }\n",
       "\n",
       "    .dataframe tbody tr th {\n",
       "        vertical-align: top;\n",
       "    }\n",
       "\n",
       "    .dataframe thead th {\n",
       "        text-align: right;\n",
       "    }\n",
       "</style>\n",
       "<table border=\"1\" class=\"dataframe\">\n",
       "  <thead>\n",
       "    <tr style=\"text-align: right;\">\n",
       "      <th></th>\n",
       "      <th>year</th>\n",
       "      <th>statefips</th>\n",
       "      <th>deaths</th>\n",
       "      <th>pop</th>\n",
       "      <th>state_name</th>\n",
       "      <th>state</th>\n",
       "      <th>region</th>\n",
       "      <th>suicide_rate</th>\n",
       "      <th>heatwave_count</th>\n",
       "    </tr>\n",
       "  </thead>\n",
       "  <tbody>\n",
       "    <tr>\n",
       "      <th>0</th>\n",
       "      <td>1960</td>\n",
       "      <td>01</td>\n",
       "      <td>221</td>\n",
       "      <td>3266740</td>\n",
       "      <td>Alabama</td>\n",
       "      <td>AL</td>\n",
       "      <td>Southeast</td>\n",
       "      <td>6.765154</td>\n",
       "      <td>0.0</td>\n",
       "    </tr>\n",
       "    <tr>\n",
       "      <th>1</th>\n",
       "      <td>1961</td>\n",
       "      <td>01</td>\n",
       "      <td>278</td>\n",
       "      <td>3281534</td>\n",
       "      <td>Alabama</td>\n",
       "      <td>AL</td>\n",
       "      <td>Southeast</td>\n",
       "      <td>8.471648</td>\n",
       "      <td>0.0</td>\n",
       "    </tr>\n",
       "    <tr>\n",
       "      <th>2</th>\n",
       "      <td>1962</td>\n",
       "      <td>01</td>\n",
       "      <td>243</td>\n",
       "      <td>3296946</td>\n",
       "      <td>Alabama</td>\n",
       "      <td>AL</td>\n",
       "      <td>Southeast</td>\n",
       "      <td>7.370457</td>\n",
       "      <td>1.0</td>\n",
       "    </tr>\n",
       "    <tr>\n",
       "      <th>3</th>\n",
       "      <td>1963</td>\n",
       "      <td>01</td>\n",
       "      <td>252</td>\n",
       "      <td>3312978</td>\n",
       "      <td>Alabama</td>\n",
       "      <td>AL</td>\n",
       "      <td>Southeast</td>\n",
       "      <td>7.606450</td>\n",
       "      <td>0.0</td>\n",
       "    </tr>\n",
       "    <tr>\n",
       "      <th>4</th>\n",
       "      <td>1964</td>\n",
       "      <td>01</td>\n",
       "      <td>267</td>\n",
       "      <td>3329632</td>\n",
       "      <td>Alabama</td>\n",
       "      <td>AL</td>\n",
       "      <td>Southeast</td>\n",
       "      <td>8.018904</td>\n",
       "      <td>0.0</td>\n",
       "    </tr>\n",
       "  </tbody>\n",
       "</table>\n",
       "</div>"
      ],
      "text/plain": [
       "   year statefips  deaths      pop state_name state     region  suicide_rate   \n",
       "0  1960        01     221  3266740    Alabama    AL  Southeast      6.765154  \\\n",
       "1  1961        01     278  3281534    Alabama    AL  Southeast      8.471648   \n",
       "2  1962        01     243  3296946    Alabama    AL  Southeast      7.370457   \n",
       "3  1963        01     252  3312978    Alabama    AL  Southeast      7.606450   \n",
       "4  1964        01     267  3329632    Alabama    AL  Southeast      8.018904   \n",
       "\n",
       "   heatwave_count  \n",
       "0             0.0  \n",
       "1             0.0  \n",
       "2             1.0  \n",
       "3             0.0  \n",
       "4             0.0  "
      ]
     },
     "execution_count": 39,
     "metadata": {},
     "output_type": "execute_result"
    }
   ],
   "source": [
    "suicide_climate = suicide_pop.merge(heatwave_state, on = ['year', 'statefips'], how = 'left')\n",
    "suicide_climate.head()"
   ]
  },
  {
   "cell_type": "code",
   "execution_count": 40,
   "id": "0cabc601-85ee-4984-86fc-93f222a0f623",
   "metadata": {
    "tags": []
   },
   "outputs": [
    {
     "data": {
      "text/plain": [
       "76"
      ]
     },
     "execution_count": 40,
     "metadata": {},
     "output_type": "execute_result"
    }
   ],
   "source": [
    "suicide_climate['heatwave_count'].isna().sum()"
   ]
  },
  {
   "cell_type": "code",
   "execution_count": 41,
   "id": "2c9e5168-c6a6-47e4-991e-4b3bb58474d1",
   "metadata": {
    "tags": []
   },
   "outputs": [
    {
     "data": {
      "text/plain": [
       "array([0. , 1. , 4. , 2. , 3. , 5. , 6. , 8. , 7. , 1.5, 2.5, 0.5, 3.5,\n",
       "       4.5, 5.5, 9. , nan, 8.5, 6.5, 7.5])"
      ]
     },
     "execution_count": 41,
     "metadata": {},
     "output_type": "execute_result"
    }
   ],
   "source": [
    "suicide_climate['heatwave_count'].unique()"
   ]
  },
  {
   "cell_type": "code",
   "execution_count": 42,
   "id": "3455cb4c-8e44-4ac8-902c-6c44df3f0bc1",
   "metadata": {
    "tags": []
   },
   "outputs": [
    {
     "data": {
      "text/plain": [
       "count    2940.000000\n",
       "mean        2.343878\n",
       "std         1.649372\n",
       "min         0.000000\n",
       "25%         1.000000\n",
       "50%         2.000000\n",
       "75%         3.000000\n",
       "max         9.000000\n",
       "Name: heatwave_count, dtype: float64"
      ]
     },
     "execution_count": 42,
     "metadata": {},
     "output_type": "execute_result"
    }
   ],
   "source": [
    "suicide_climate['heatwave_count'].describe()"
   ]
  },
  {
   "cell_type": "code",
   "execution_count": 43,
   "id": "f12b993e-400d-41d8-a453-0bba1235fa45",
   "metadata": {},
   "outputs": [],
   "source": [
    "suicide_climate.to_csv('GAM_heatwave/yearly_GAM_heatwave_state_1960_2019.csv')"
   ]
  },
  {
   "cell_type": "code",
   "execution_count": null,
   "id": "be92b524-889f-4f59-a34f-26886a111b60",
   "metadata": {},
   "outputs": [],
   "source": []
  },
  {
   "cell_type": "code",
   "execution_count": null,
   "id": "9eaad412-c8e0-4523-9486-efc2314826a0",
   "metadata": {},
   "outputs": [],
   "source": []
  },
  {
   "cell_type": "code",
   "execution_count": null,
   "id": "7b8d5600-9d08-4809-814c-7b468773dc3a",
   "metadata": {},
   "outputs": [],
   "source": []
  },
  {
   "cell_type": "code",
   "execution_count": null,
   "id": "2698c68e-a15e-4574-98b6-5f6b4e6abcb7",
   "metadata": {},
   "outputs": [],
   "source": []
  },
  {
   "cell_type": "code",
   "execution_count": null,
   "id": "f8feb8aa-3f94-4f9b-a077-bc7f414a79f2",
   "metadata": {},
   "outputs": [],
   "source": []
  },
  {
   "cell_type": "code",
   "execution_count": null,
   "id": "78c76cff-9e8f-4ba1-8b02-391724adb1ae",
   "metadata": {},
   "outputs": [],
   "source": []
  },
  {
   "cell_type": "code",
   "execution_count": null,
   "id": "d7cb2360-1cea-48cf-9748-a466ea3867fa",
   "metadata": {},
   "outputs": [],
   "source": []
  },
  {
   "cell_type": "code",
   "execution_count": null,
   "id": "40a6b96e-42c5-481a-93b6-3c006a38f482",
   "metadata": {},
   "outputs": [],
   "source": []
  }
 ],
 "metadata": {
  "kernelspec": {
   "display_name": "MyEnv3",
   "language": "python",
   "name": "myenv3"
  },
  "language_info": {
   "codemirror_mode": {
    "name": "ipython",
    "version": 3
   },
   "file_extension": ".py",
   "mimetype": "text/x-python",
   "name": "python",
   "nbconvert_exporter": "python",
   "pygments_lexer": "ipython3",
   "version": "3.9.16"
  }
 },
 "nbformat": 4,
 "nbformat_minor": 5
}
