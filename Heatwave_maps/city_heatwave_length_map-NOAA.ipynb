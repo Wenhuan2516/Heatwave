{
 "cells": [
  {
   "cell_type": "code",
   "execution_count": 3,
   "id": "817ee444-2a22-4aa5-8049-c8cef9439172",
   "metadata": {
    "tags": []
   },
   "outputs": [],
   "source": [
    "import pandas as pd\n",
    "import numpy as np\n",
    "import matplotlib.pyplot as plt\n",
    "import dask.dataframe as ddf\n",
    "from pandas import Series, DataFrame\n",
    "%matplotlib inline\n",
    "import seaborn as sn"
   ]
  },
  {
   "cell_type": "code",
   "execution_count": 4,
   "id": "0b5fdc49-1390-4567-ba2d-ca5c683d6bd1",
   "metadata": {
    "tags": []
   },
   "outputs": [],
   "source": [
    "import geopandas as gpd\n",
    "import pandas as pd"
   ]
  },
  {
   "cell_type": "code",
   "execution_count": 6,
   "id": "b8cad19d-3570-4168-9382-fe25a4f487cf",
   "metadata": {
    "tags": []
   },
   "outputs": [
    {
     "data": {
      "text/html": [
       "<div>\n",
       "<style scoped>\n",
       "    .dataframe tbody tr th:only-of-type {\n",
       "        vertical-align: middle;\n",
       "    }\n",
       "\n",
       "    .dataframe tbody tr th {\n",
       "        vertical-align: top;\n",
       "    }\n",
       "\n",
       "    .dataframe thead th {\n",
       "        text-align: right;\n",
       "    }\n",
       "</style>\n",
       "<table border=\"1\" class=\"dataframe\">\n",
       "  <thead>\n",
       "    <tr style=\"text-align: right;\">\n",
       "      <th></th>\n",
       "      <th>year</th>\n",
       "      <th>city_name</th>\n",
       "      <th>heatwave_season_length</th>\n",
       "    </tr>\n",
       "  </thead>\n",
       "  <tbody>\n",
       "    <tr>\n",
       "      <th>0</th>\n",
       "      <td>1961</td>\n",
       "      <td>Albuquerque</td>\n",
       "      <td>44</td>\n",
       "    </tr>\n",
       "    <tr>\n",
       "      <th>1</th>\n",
       "      <td>1961</td>\n",
       "      <td>Allentown</td>\n",
       "      <td>36</td>\n",
       "    </tr>\n",
       "    <tr>\n",
       "      <th>2</th>\n",
       "      <td>1961</td>\n",
       "      <td>Austin</td>\n",
       "      <td>2</td>\n",
       "    </tr>\n",
       "    <tr>\n",
       "      <th>3</th>\n",
       "      <td>1961</td>\n",
       "      <td>Birmingham</td>\n",
       "      <td>8</td>\n",
       "    </tr>\n",
       "    <tr>\n",
       "      <th>4</th>\n",
       "      <td>1961</td>\n",
       "      <td>Boston</td>\n",
       "      <td>56</td>\n",
       "    </tr>\n",
       "    <tr>\n",
       "      <th>...</th>\n",
       "      <td>...</td>\n",
       "      <td>...</td>\n",
       "      <td>...</td>\n",
       "    </tr>\n",
       "    <tr>\n",
       "      <th>2104</th>\n",
       "      <td>2021</td>\n",
       "      <td>Seattle</td>\n",
       "      <td>50</td>\n",
       "    </tr>\n",
       "    <tr>\n",
       "      <th>2105</th>\n",
       "      <td>2021</td>\n",
       "      <td>St. Louis</td>\n",
       "      <td>56</td>\n",
       "    </tr>\n",
       "    <tr>\n",
       "      <th>2106</th>\n",
       "      <td>2021</td>\n",
       "      <td>Tampa</td>\n",
       "      <td>138</td>\n",
       "    </tr>\n",
       "    <tr>\n",
       "      <th>2107</th>\n",
       "      <td>2021</td>\n",
       "      <td>Tucson</td>\n",
       "      <td>5</td>\n",
       "    </tr>\n",
       "    <tr>\n",
       "      <th>2108</th>\n",
       "      <td>2021</td>\n",
       "      <td>Tulsa</td>\n",
       "      <td>4</td>\n",
       "    </tr>\n",
       "  </tbody>\n",
       "</table>\n",
       "<p>2109 rows × 3 columns</p>\n",
       "</div>"
      ],
      "text/plain": [
       "      year    city_name  heatwave_season_length\n",
       "0     1961  Albuquerque                      44\n",
       "1     1961    Allentown                      36\n",
       "2     1961       Austin                       2\n",
       "3     1961   Birmingham                       8\n",
       "4     1961       Boston                      56\n",
       "...    ...          ...                     ...\n",
       "2104  2021      Seattle                      50\n",
       "2105  2021    St. Louis                      56\n",
       "2106  2021        Tampa                     138\n",
       "2107  2021       Tucson                       5\n",
       "2108  2021        Tulsa                       4\n",
       "\n",
       "[2109 rows x 3 columns]"
      ]
     },
     "execution_count": 6,
     "metadata": {},
     "output_type": "execute_result"
    }
   ],
   "source": [
    "heatwave_length = pd.read_csv(r\"/global/cfs/cdirs/m1532/Projects_MVP/geospatial/climate_heatwave/city_heatwave/city_heatwave/min_apparent_temp/city_heatwave_season_length_1961_2021.csv\").drop(columns={'Unnamed: 0'})\n",
    "heatwave_length"
   ]
  },
  {
   "cell_type": "code",
   "execution_count": 7,
   "id": "336ba30c-a91a-42d3-bc41-2432e06a137f",
   "metadata": {
    "tags": []
   },
   "outputs": [
    {
     "data": {
      "text/html": [
       "<div>\n",
       "<style scoped>\n",
       "    .dataframe tbody tr th:only-of-type {\n",
       "        vertical-align: middle;\n",
       "    }\n",
       "\n",
       "    .dataframe tbody tr th {\n",
       "        vertical-align: top;\n",
       "    }\n",
       "\n",
       "    .dataframe thead th {\n",
       "        text-align: right;\n",
       "    }\n",
       "</style>\n",
       "<table border=\"1\" class=\"dataframe\">\n",
       "  <thead>\n",
       "    <tr style=\"text-align: right;\">\n",
       "      <th></th>\n",
       "      <th>city_name</th>\n",
       "      <th>heatwave_season_length</th>\n",
       "    </tr>\n",
       "  </thead>\n",
       "  <tbody>\n",
       "    <tr>\n",
       "      <th>0</th>\n",
       "      <td>Albany</td>\n",
       "      <td>2.000000</td>\n",
       "    </tr>\n",
       "    <tr>\n",
       "      <th>1</th>\n",
       "      <td>Albuquerque</td>\n",
       "      <td>25.265306</td>\n",
       "    </tr>\n",
       "    <tr>\n",
       "      <th>2</th>\n",
       "      <td>Allentown</td>\n",
       "      <td>30.215686</td>\n",
       "    </tr>\n",
       "    <tr>\n",
       "      <th>3</th>\n",
       "      <td>Atlanta</td>\n",
       "      <td>14.272727</td>\n",
       "    </tr>\n",
       "    <tr>\n",
       "      <th>4</th>\n",
       "      <td>Austin</td>\n",
       "      <td>38.794872</td>\n",
       "    </tr>\n",
       "    <tr>\n",
       "      <th>5</th>\n",
       "      <td>Baltimore</td>\n",
       "      <td>47.607143</td>\n",
       "    </tr>\n",
       "    <tr>\n",
       "      <th>6</th>\n",
       "      <td>Baton Rouge</td>\n",
       "      <td>38.781818</td>\n",
       "    </tr>\n",
       "    <tr>\n",
       "      <th>7</th>\n",
       "      <td>Birmingham</td>\n",
       "      <td>31.325000</td>\n",
       "    </tr>\n",
       "    <tr>\n",
       "      <th>8</th>\n",
       "      <td>Boston</td>\n",
       "      <td>40.389831</td>\n",
       "    </tr>\n",
       "    <tr>\n",
       "      <th>9</th>\n",
       "      <td>Buffalo</td>\n",
       "      <td>34.880952</td>\n",
       "    </tr>\n",
       "    <tr>\n",
       "      <th>10</th>\n",
       "      <td>Charlotte</td>\n",
       "      <td>26.818182</td>\n",
       "    </tr>\n",
       "    <tr>\n",
       "      <th>11</th>\n",
       "      <td>Chicago</td>\n",
       "      <td>32.268293</td>\n",
       "    </tr>\n",
       "    <tr>\n",
       "      <th>12</th>\n",
       "      <td>Cleveland</td>\n",
       "      <td>39.279070</td>\n",
       "    </tr>\n",
       "    <tr>\n",
       "      <th>13</th>\n",
       "      <td>Columbia</td>\n",
       "      <td>10.526316</td>\n",
       "    </tr>\n",
       "    <tr>\n",
       "      <th>14</th>\n",
       "      <td>Columbus</td>\n",
       "      <td>8.266667</td>\n",
       "    </tr>\n",
       "    <tr>\n",
       "      <th>15</th>\n",
       "      <td>Dayton</td>\n",
       "      <td>42.410714</td>\n",
       "    </tr>\n",
       "    <tr>\n",
       "      <th>16</th>\n",
       "      <td>Detroit</td>\n",
       "      <td>39.796296</td>\n",
       "    </tr>\n",
       "    <tr>\n",
       "      <th>17</th>\n",
       "      <td>El Paso</td>\n",
       "      <td>43.500000</td>\n",
       "    </tr>\n",
       "    <tr>\n",
       "      <th>18</th>\n",
       "      <td>Fort Worth</td>\n",
       "      <td>24.170732</td>\n",
       "    </tr>\n",
       "    <tr>\n",
       "      <th>19</th>\n",
       "      <td>Fresno</td>\n",
       "      <td>36.183673</td>\n",
       "    </tr>\n",
       "    <tr>\n",
       "      <th>20</th>\n",
       "      <td>Greensboro</td>\n",
       "      <td>30.090909</td>\n",
       "    </tr>\n",
       "    <tr>\n",
       "      <th>21</th>\n",
       "      <td>Hartford</td>\n",
       "      <td>28.380952</td>\n",
       "    </tr>\n",
       "    <tr>\n",
       "      <th>22</th>\n",
       "      <td>Indianapolis</td>\n",
       "      <td>37.641509</td>\n",
       "    </tr>\n",
       "    <tr>\n",
       "      <th>23</th>\n",
       "      <td>Jacksonville</td>\n",
       "      <td>21.136364</td>\n",
       "    </tr>\n",
       "    <tr>\n",
       "      <th>24</th>\n",
       "      <td>Las Vegas</td>\n",
       "      <td>26.063830</td>\n",
       "    </tr>\n",
       "    <tr>\n",
       "      <th>25</th>\n",
       "      <td>Los Angeles</td>\n",
       "      <td>47.423077</td>\n",
       "    </tr>\n",
       "    <tr>\n",
       "      <th>26</th>\n",
       "      <td>Louisville</td>\n",
       "      <td>21.717391</td>\n",
       "    </tr>\n",
       "    <tr>\n",
       "      <th>27</th>\n",
       "      <td>Memphis</td>\n",
       "      <td>23.292683</td>\n",
       "    </tr>\n",
       "    <tr>\n",
       "      <th>28</th>\n",
       "      <td>Miami</td>\n",
       "      <td>64.648148</td>\n",
       "    </tr>\n",
       "    <tr>\n",
       "      <th>29</th>\n",
       "      <td>Milwaukee</td>\n",
       "      <td>35.700000</td>\n",
       "    </tr>\n",
       "    <tr>\n",
       "      <th>30</th>\n",
       "      <td>Nashville</td>\n",
       "      <td>30.525000</td>\n",
       "    </tr>\n",
       "    <tr>\n",
       "      <th>31</th>\n",
       "      <td>New Orleans</td>\n",
       "      <td>43.103448</td>\n",
       "    </tr>\n",
       "    <tr>\n",
       "      <th>32</th>\n",
       "      <td>Oklahoma City</td>\n",
       "      <td>36.200000</td>\n",
       "    </tr>\n",
       "    <tr>\n",
       "      <th>33</th>\n",
       "      <td>Philadelphia</td>\n",
       "      <td>33.651163</td>\n",
       "    </tr>\n",
       "    <tr>\n",
       "      <th>34</th>\n",
       "      <td>Phoenix</td>\n",
       "      <td>16.525000</td>\n",
       "    </tr>\n",
       "    <tr>\n",
       "      <th>35</th>\n",
       "      <td>Pittsburgh</td>\n",
       "      <td>36.608696</td>\n",
       "    </tr>\n",
       "    <tr>\n",
       "      <th>36</th>\n",
       "      <td>Portland</td>\n",
       "      <td>21.365854</td>\n",
       "    </tr>\n",
       "    <tr>\n",
       "      <th>37</th>\n",
       "      <td>Providence</td>\n",
       "      <td>28.220000</td>\n",
       "    </tr>\n",
       "    <tr>\n",
       "      <th>38</th>\n",
       "      <td>Raleigh</td>\n",
       "      <td>29.465116</td>\n",
       "    </tr>\n",
       "    <tr>\n",
       "      <th>39</th>\n",
       "      <td>Richmond</td>\n",
       "      <td>56.666667</td>\n",
       "    </tr>\n",
       "    <tr>\n",
       "      <th>40</th>\n",
       "      <td>Rochester</td>\n",
       "      <td>42.392157</td>\n",
       "    </tr>\n",
       "    <tr>\n",
       "      <th>41</th>\n",
       "      <td>Salt Lake City</td>\n",
       "      <td>26.454545</td>\n",
       "    </tr>\n",
       "    <tr>\n",
       "      <th>42</th>\n",
       "      <td>San Antonio</td>\n",
       "      <td>35.565217</td>\n",
       "    </tr>\n",
       "    <tr>\n",
       "      <th>43</th>\n",
       "      <td>San Diego</td>\n",
       "      <td>33.641026</td>\n",
       "    </tr>\n",
       "    <tr>\n",
       "      <th>44</th>\n",
       "      <td>San Francisco</td>\n",
       "      <td>75.461538</td>\n",
       "    </tr>\n",
       "    <tr>\n",
       "      <th>45</th>\n",
       "      <td>Seattle</td>\n",
       "      <td>28.916667</td>\n",
       "    </tr>\n",
       "    <tr>\n",
       "      <th>46</th>\n",
       "      <td>St. Louis</td>\n",
       "      <td>27.918367</td>\n",
       "    </tr>\n",
       "    <tr>\n",
       "      <th>47</th>\n",
       "      <td>Tampa</td>\n",
       "      <td>51.255319</td>\n",
       "    </tr>\n",
       "    <tr>\n",
       "      <th>48</th>\n",
       "      <td>Tucson</td>\n",
       "      <td>27.404255</td>\n",
       "    </tr>\n",
       "    <tr>\n",
       "      <th>49</th>\n",
       "      <td>Tulsa</td>\n",
       "      <td>25.877551</td>\n",
       "    </tr>\n",
       "  </tbody>\n",
       "</table>\n",
       "</div>"
      ],
      "text/plain": [
       "         city_name  heatwave_season_length\n",
       "0           Albany                2.000000\n",
       "1      Albuquerque               25.265306\n",
       "2        Allentown               30.215686\n",
       "3          Atlanta               14.272727\n",
       "4           Austin               38.794872\n",
       "5        Baltimore               47.607143\n",
       "6      Baton Rouge               38.781818\n",
       "7       Birmingham               31.325000\n",
       "8           Boston               40.389831\n",
       "9          Buffalo               34.880952\n",
       "10       Charlotte               26.818182\n",
       "11         Chicago               32.268293\n",
       "12       Cleveland               39.279070\n",
       "13        Columbia               10.526316\n",
       "14        Columbus                8.266667\n",
       "15          Dayton               42.410714\n",
       "16         Detroit               39.796296\n",
       "17         El Paso               43.500000\n",
       "18      Fort Worth               24.170732\n",
       "19          Fresno               36.183673\n",
       "20      Greensboro               30.090909\n",
       "21        Hartford               28.380952\n",
       "22    Indianapolis               37.641509\n",
       "23    Jacksonville               21.136364\n",
       "24       Las Vegas               26.063830\n",
       "25     Los Angeles               47.423077\n",
       "26      Louisville               21.717391\n",
       "27         Memphis               23.292683\n",
       "28           Miami               64.648148\n",
       "29       Milwaukee               35.700000\n",
       "30       Nashville               30.525000\n",
       "31     New Orleans               43.103448\n",
       "32   Oklahoma City               36.200000\n",
       "33    Philadelphia               33.651163\n",
       "34         Phoenix               16.525000\n",
       "35      Pittsburgh               36.608696\n",
       "36        Portland               21.365854\n",
       "37      Providence               28.220000\n",
       "38         Raleigh               29.465116\n",
       "39        Richmond               56.666667\n",
       "40       Rochester               42.392157\n",
       "41  Salt Lake City               26.454545\n",
       "42     San Antonio               35.565217\n",
       "43       San Diego               33.641026\n",
       "44   San Francisco               75.461538\n",
       "45         Seattle               28.916667\n",
       "46       St. Louis               27.918367\n",
       "47           Tampa               51.255319\n",
       "48          Tucson               27.404255\n",
       "49           Tulsa               25.877551"
      ]
     },
     "execution_count": 7,
     "metadata": {},
     "output_type": "execute_result"
    }
   ],
   "source": [
    "heatwave_year = heatwave_length.drop(['year'], axis = 1)\n",
    "heatwave_year = heatwave_year.groupby(['city_name']).mean()\n",
    "heatwave_year = heatwave_year.reset_index()\n",
    "heatwave_year"
   ]
  },
  {
   "cell_type": "code",
   "execution_count": 8,
   "id": "38afec89-dae7-46a0-9129-420929725e6d",
   "metadata": {
    "tags": []
   },
   "outputs": [
    {
     "data": {
      "text/html": [
       "<div>\n",
       "<style scoped>\n",
       "    .dataframe tbody tr th:only-of-type {\n",
       "        vertical-align: middle;\n",
       "    }\n",
       "\n",
       "    .dataframe tbody tr th {\n",
       "        vertical-align: top;\n",
       "    }\n",
       "\n",
       "    .dataframe thead th {\n",
       "        text-align: right;\n",
       "    }\n",
       "</style>\n",
       "<table border=\"1\" class=\"dataframe\">\n",
       "  <thead>\n",
       "    <tr style=\"text-align: right;\">\n",
       "      <th></th>\n",
       "      <th>name</th>\n",
       "      <th>pop</th>\n",
       "      <th>lat</th>\n",
       "      <th>lon</th>\n",
       "    </tr>\n",
       "  </thead>\n",
       "  <tbody>\n",
       "    <tr>\n",
       "      <th>0</th>\n",
       "      <td>New York</td>\n",
       "      <td>8287238</td>\n",
       "      <td>40.730599</td>\n",
       "      <td>-73.986581</td>\n",
       "    </tr>\n",
       "    <tr>\n",
       "      <th>1</th>\n",
       "      <td>Los Angeles</td>\n",
       "      <td>3826423</td>\n",
       "      <td>34.053717</td>\n",
       "      <td>-118.242727</td>\n",
       "    </tr>\n",
       "    <tr>\n",
       "      <th>2</th>\n",
       "      <td>Chicago</td>\n",
       "      <td>2705627</td>\n",
       "      <td>41.875555</td>\n",
       "      <td>-87.624421</td>\n",
       "    </tr>\n",
       "    <tr>\n",
       "      <th>3</th>\n",
       "      <td>Houston</td>\n",
       "      <td>2129784</td>\n",
       "      <td>29.758938</td>\n",
       "      <td>-95.367697</td>\n",
       "    </tr>\n",
       "    <tr>\n",
       "      <th>4</th>\n",
       "      <td>Philadelphia</td>\n",
       "      <td>1539313</td>\n",
       "      <td>39.952335</td>\n",
       "      <td>-75.163789</td>\n",
       "    </tr>\n",
       "  </tbody>\n",
       "</table>\n",
       "</div>"
      ],
      "text/plain": [
       "            name      pop        lat         lon\n",
       "0      New York   8287238  40.730599  -73.986581\n",
       "1   Los Angeles   3826423  34.053717 -118.242727\n",
       "2       Chicago   2705627  41.875555  -87.624421\n",
       "3       Houston   2129784  29.758938  -95.367697\n",
       "4  Philadelphia   1539313  39.952335  -75.163789"
      ]
     },
     "execution_count": 8,
     "metadata": {},
     "output_type": "execute_result"
    }
   ],
   "source": [
    "df = pd.read_csv('https://raw.githubusercontent.com/plotly/datasets/master/2014_us_cities.csv')\n",
    "df.head()"
   ]
  },
  {
   "cell_type": "code",
   "execution_count": 9,
   "id": "34487466-7b70-4b52-b87d-c0d02d08c4f4",
   "metadata": {
    "tags": []
   },
   "outputs": [],
   "source": [
    "def formatName(name):\n",
    "    return name[:-1]"
   ]
  },
  {
   "cell_type": "code",
   "execution_count": 10,
   "id": "6c522700-8112-4ef0-b512-9c3f04d603c7",
   "metadata": {
    "tags": []
   },
   "outputs": [
    {
     "data": {
      "text/html": [
       "<div>\n",
       "<style scoped>\n",
       "    .dataframe tbody tr th:only-of-type {\n",
       "        vertical-align: middle;\n",
       "    }\n",
       "\n",
       "    .dataframe tbody tr th {\n",
       "        vertical-align: top;\n",
       "    }\n",
       "\n",
       "    .dataframe thead th {\n",
       "        text-align: right;\n",
       "    }\n",
       "</style>\n",
       "<table border=\"1\" class=\"dataframe\">\n",
       "  <thead>\n",
       "    <tr style=\"text-align: right;\">\n",
       "      <th></th>\n",
       "      <th>name</th>\n",
       "      <th>pop</th>\n",
       "      <th>lat</th>\n",
       "      <th>lon</th>\n",
       "    </tr>\n",
       "  </thead>\n",
       "  <tbody>\n",
       "    <tr>\n",
       "      <th>0</th>\n",
       "      <td>New York</td>\n",
       "      <td>8287238</td>\n",
       "      <td>40.730599</td>\n",
       "      <td>-73.986581</td>\n",
       "    </tr>\n",
       "    <tr>\n",
       "      <th>1</th>\n",
       "      <td>Los Angeles</td>\n",
       "      <td>3826423</td>\n",
       "      <td>34.053717</td>\n",
       "      <td>-118.242727</td>\n",
       "    </tr>\n",
       "    <tr>\n",
       "      <th>2</th>\n",
       "      <td>Chicago</td>\n",
       "      <td>2705627</td>\n",
       "      <td>41.875555</td>\n",
       "      <td>-87.624421</td>\n",
       "    </tr>\n",
       "    <tr>\n",
       "      <th>3</th>\n",
       "      <td>Houston</td>\n",
       "      <td>2129784</td>\n",
       "      <td>29.758938</td>\n",
       "      <td>-95.367697</td>\n",
       "    </tr>\n",
       "    <tr>\n",
       "      <th>4</th>\n",
       "      <td>Philadelphia</td>\n",
       "      <td>1539313</td>\n",
       "      <td>39.952335</td>\n",
       "      <td>-75.163789</td>\n",
       "    </tr>\n",
       "  </tbody>\n",
       "</table>\n",
       "</div>"
      ],
      "text/plain": [
       "           name      pop        lat         lon\n",
       "0      New York  8287238  40.730599  -73.986581\n",
       "1   Los Angeles  3826423  34.053717 -118.242727\n",
       "2       Chicago  2705627  41.875555  -87.624421\n",
       "3       Houston  2129784  29.758938  -95.367697\n",
       "4  Philadelphia  1539313  39.952335  -75.163789"
      ]
     },
     "execution_count": 10,
     "metadata": {},
     "output_type": "execute_result"
    }
   ],
   "source": [
    "df['name'] = df['name'].apply(formatName)\n",
    "df.head()"
   ]
  },
  {
   "cell_type": "code",
   "execution_count": 11,
   "id": "ae82cbb2-0687-409d-ae22-f08741f35b8f",
   "metadata": {
    "tags": []
   },
   "outputs": [
    {
     "data": {
      "text/plain": [
       "array(['New York', 'Los Angeles', 'Chicago', ..., 'Spanish Fort',\n",
       "       'Plaquemine', 'Milton-Freewater'], dtype=object)"
      ]
     },
     "execution_count": 11,
     "metadata": {},
     "output_type": "execute_result"
    }
   ],
   "source": [
    "df['name'].unique()"
   ]
  },
  {
   "cell_type": "code",
   "execution_count": 12,
   "id": "65c7431c-1653-42df-a2f8-b68c1bad7994",
   "metadata": {
    "tags": []
   },
   "outputs": [
    {
     "data": {
      "text/html": [
       "<div>\n",
       "<style scoped>\n",
       "    .dataframe tbody tr th:only-of-type {\n",
       "        vertical-align: middle;\n",
       "    }\n",
       "\n",
       "    .dataframe tbody tr th {\n",
       "        vertical-align: top;\n",
       "    }\n",
       "\n",
       "    .dataframe thead th {\n",
       "        text-align: right;\n",
       "    }\n",
       "</style>\n",
       "<table border=\"1\" class=\"dataframe\">\n",
       "  <thead>\n",
       "    <tr style=\"text-align: right;\">\n",
       "      <th></th>\n",
       "      <th>name</th>\n",
       "      <th>heatwave_season_length</th>\n",
       "      <th>pop</th>\n",
       "      <th>lat</th>\n",
       "      <th>lon</th>\n",
       "    </tr>\n",
       "  </thead>\n",
       "  <tbody>\n",
       "    <tr>\n",
       "      <th>0</th>\n",
       "      <td>Albany</td>\n",
       "      <td>2.000000</td>\n",
       "      <td>98012</td>\n",
       "      <td>42.651167</td>\n",
       "      <td>-73.754968</td>\n",
       "    </tr>\n",
       "    <tr>\n",
       "      <th>1</th>\n",
       "      <td>Albany</td>\n",
       "      <td>2.000000</td>\n",
       "      <td>77746</td>\n",
       "      <td>42.651167</td>\n",
       "      <td>-73.754968</td>\n",
       "    </tr>\n",
       "    <tr>\n",
       "      <th>2</th>\n",
       "      <td>Albany</td>\n",
       "      <td>2.000000</td>\n",
       "      <td>51053</td>\n",
       "      <td>42.651167</td>\n",
       "      <td>-73.754968</td>\n",
       "    </tr>\n",
       "    <tr>\n",
       "      <th>3</th>\n",
       "      <td>Albany</td>\n",
       "      <td>2.000000</td>\n",
       "      <td>18767</td>\n",
       "      <td>42.651167</td>\n",
       "      <td>-73.754968</td>\n",
       "    </tr>\n",
       "    <tr>\n",
       "      <th>4</th>\n",
       "      <td>Albuquerque</td>\n",
       "      <td>25.265306</td>\n",
       "      <td>551813</td>\n",
       "      <td>35.084103</td>\n",
       "      <td>-106.650985</td>\n",
       "    </tr>\n",
       "    <tr>\n",
       "      <th>...</th>\n",
       "      <td>...</td>\n",
       "      <td>...</td>\n",
       "      <td>...</td>\n",
       "      <td>...</td>\n",
       "      <td>...</td>\n",
       "    </tr>\n",
       "    <tr>\n",
       "      <th>76</th>\n",
       "      <td>St. Louis</td>\n",
       "      <td>27.918367</td>\n",
       "      <td>319188</td>\n",
       "      <td>38.627273</td>\n",
       "      <td>-90.197889</td>\n",
       "    </tr>\n",
       "    <tr>\n",
       "      <th>77</th>\n",
       "      <td>St. Louis</td>\n",
       "      <td>27.918367</td>\n",
       "      <td>7380</td>\n",
       "      <td>38.627273</td>\n",
       "      <td>-90.197889</td>\n",
       "    </tr>\n",
       "    <tr>\n",
       "      <th>78</th>\n",
       "      <td>Tampa</td>\n",
       "      <td>51.255319</td>\n",
       "      <td>346934</td>\n",
       "      <td>27.947760</td>\n",
       "      <td>-82.458444</td>\n",
       "    </tr>\n",
       "    <tr>\n",
       "      <th>79</th>\n",
       "      <td>Tucson</td>\n",
       "      <td>27.404255</td>\n",
       "      <td>524192</td>\n",
       "      <td>32.221742</td>\n",
       "      <td>-110.926476</td>\n",
       "    </tr>\n",
       "    <tr>\n",
       "      <th>80</th>\n",
       "      <td>Tulsa</td>\n",
       "      <td>25.877551</td>\n",
       "      <td>392751</td>\n",
       "      <td>36.155681</td>\n",
       "      <td>-95.992911</td>\n",
       "    </tr>\n",
       "  </tbody>\n",
       "</table>\n",
       "<p>81 rows × 5 columns</p>\n",
       "</div>"
      ],
      "text/plain": [
       "           name  heatwave_season_length     pop        lat         lon\n",
       "0        Albany                2.000000   98012  42.651167  -73.754968\n",
       "1        Albany                2.000000   77746  42.651167  -73.754968\n",
       "2        Albany                2.000000   51053  42.651167  -73.754968\n",
       "3        Albany                2.000000   18767  42.651167  -73.754968\n",
       "4   Albuquerque               25.265306  551813  35.084103 -106.650985\n",
       "..          ...                     ...     ...        ...         ...\n",
       "76    St. Louis               27.918367  319188  38.627273  -90.197889\n",
       "77    St. Louis               27.918367    7380  38.627273  -90.197889\n",
       "78        Tampa               51.255319  346934  27.947760  -82.458444\n",
       "79       Tucson               27.404255  524192  32.221742 -110.926476\n",
       "80        Tulsa               25.877551  392751  36.155681  -95.992911\n",
       "\n",
       "[81 rows x 5 columns]"
      ]
     },
     "execution_count": 12,
     "metadata": {},
     "output_type": "execute_result"
    }
   ],
   "source": [
    "heatwave_year = heatwave_year.rename(columns = {'city_name': 'name'})\n",
    "heatwave_data = heatwave_year.merge(df, on = 'name', how = 'inner')\n",
    "heatwave_data"
   ]
  },
  {
   "cell_type": "code",
   "execution_count": 13,
   "id": "33f67545-f7f1-4c47-a183-361fd1a01acf",
   "metadata": {
    "tags": []
   },
   "outputs": [
    {
     "data": {
      "text/html": [
       "<div>\n",
       "<style scoped>\n",
       "    .dataframe tbody tr th:only-of-type {\n",
       "        vertical-align: middle;\n",
       "    }\n",
       "\n",
       "    .dataframe tbody tr th {\n",
       "        vertical-align: top;\n",
       "    }\n",
       "\n",
       "    .dataframe thead th {\n",
       "        text-align: right;\n",
       "    }\n",
       "</style>\n",
       "<table border=\"1\" class=\"dataframe\">\n",
       "  <thead>\n",
       "    <tr style=\"text-align: right;\">\n",
       "      <th></th>\n",
       "      <th>name</th>\n",
       "      <th>heatwave_season_length</th>\n",
       "      <th>lat</th>\n",
       "      <th>lon</th>\n",
       "    </tr>\n",
       "  </thead>\n",
       "  <tbody>\n",
       "    <tr>\n",
       "      <th>0</th>\n",
       "      <td>Albany</td>\n",
       "      <td>2.000000</td>\n",
       "      <td>42.651167</td>\n",
       "      <td>-73.754968</td>\n",
       "    </tr>\n",
       "    <tr>\n",
       "      <th>4</th>\n",
       "      <td>Albuquerque</td>\n",
       "      <td>25.265306</td>\n",
       "      <td>35.084103</td>\n",
       "      <td>-106.650985</td>\n",
       "    </tr>\n",
       "    <tr>\n",
       "      <th>5</th>\n",
       "      <td>Atlanta</td>\n",
       "      <td>14.272727</td>\n",
       "      <td>33.749099</td>\n",
       "      <td>-84.390185</td>\n",
       "    </tr>\n",
       "    <tr>\n",
       "      <th>6</th>\n",
       "      <td>Austin</td>\n",
       "      <td>38.794872</td>\n",
       "      <td>30.271129</td>\n",
       "      <td>-97.743700</td>\n",
       "    </tr>\n",
       "    <tr>\n",
       "      <th>8</th>\n",
       "      <td>Baltimore</td>\n",
       "      <td>47.607143</td>\n",
       "      <td>39.290861</td>\n",
       "      <td>-76.610807</td>\n",
       "    </tr>\n",
       "    <tr>\n",
       "      <th>9</th>\n",
       "      <td>Baton Rouge</td>\n",
       "      <td>38.781818</td>\n",
       "      <td>30.450746</td>\n",
       "      <td>-91.154551</td>\n",
       "    </tr>\n",
       "    <tr>\n",
       "      <th>10</th>\n",
       "      <td>Boston</td>\n",
       "      <td>40.389831</td>\n",
       "      <td>42.360482</td>\n",
       "      <td>-71.059568</td>\n",
       "    </tr>\n",
       "    <tr>\n",
       "      <th>11</th>\n",
       "      <td>Buffalo</td>\n",
       "      <td>34.880952</td>\n",
       "      <td>42.886447</td>\n",
       "      <td>-78.878369</td>\n",
       "    </tr>\n",
       "    <tr>\n",
       "      <th>13</th>\n",
       "      <td>Charlotte</td>\n",
       "      <td>26.818182</td>\n",
       "      <td>35.227087</td>\n",
       "      <td>-80.843127</td>\n",
       "    </tr>\n",
       "    <tr>\n",
       "      <th>15</th>\n",
       "      <td>Chicago</td>\n",
       "      <td>32.268293</td>\n",
       "      <td>41.875555</td>\n",
       "      <td>-87.624421</td>\n",
       "    </tr>\n",
       "    <tr>\n",
       "      <th>16</th>\n",
       "      <td>Cleveland</td>\n",
       "      <td>39.279070</td>\n",
       "      <td>41.505161</td>\n",
       "      <td>-81.693445</td>\n",
       "    </tr>\n",
       "    <tr>\n",
       "      <th>20</th>\n",
       "      <td>Columbus</td>\n",
       "      <td>8.266667</td>\n",
       "      <td>39.962260</td>\n",
       "      <td>-83.000707</td>\n",
       "    </tr>\n",
       "    <tr>\n",
       "      <th>25</th>\n",
       "      <td>Dayton</td>\n",
       "      <td>42.410714</td>\n",
       "      <td>39.758948</td>\n",
       "      <td>-84.191607</td>\n",
       "    </tr>\n",
       "    <tr>\n",
       "      <th>28</th>\n",
       "      <td>Detroit</td>\n",
       "      <td>39.796296</td>\n",
       "      <td>42.348664</td>\n",
       "      <td>-83.056737</td>\n",
       "    </tr>\n",
       "    <tr>\n",
       "      <th>29</th>\n",
       "      <td>El Paso</td>\n",
       "      <td>43.500000</td>\n",
       "      <td>31.811131</td>\n",
       "      <td>-106.501349</td>\n",
       "    </tr>\n",
       "    <tr>\n",
       "      <th>30</th>\n",
       "      <td>Fort Worth</td>\n",
       "      <td>24.170732</td>\n",
       "      <td>32.753177</td>\n",
       "      <td>-97.332746</td>\n",
       "    </tr>\n",
       "    <tr>\n",
       "      <th>31</th>\n",
       "      <td>Fresno</td>\n",
       "      <td>36.183673</td>\n",
       "      <td>36.739442</td>\n",
       "      <td>-119.784831</td>\n",
       "    </tr>\n",
       "    <tr>\n",
       "      <th>32</th>\n",
       "      <td>Greensboro</td>\n",
       "      <td>30.090909</td>\n",
       "      <td>36.072635</td>\n",
       "      <td>-79.791975</td>\n",
       "    </tr>\n",
       "    <tr>\n",
       "      <th>33</th>\n",
       "      <td>Hartford</td>\n",
       "      <td>28.380952</td>\n",
       "      <td>41.763494</td>\n",
       "      <td>-72.683052</td>\n",
       "    </tr>\n",
       "    <tr>\n",
       "      <th>35</th>\n",
       "      <td>Jacksonville</td>\n",
       "      <td>21.136364</td>\n",
       "      <td>30.332184</td>\n",
       "      <td>-81.655651</td>\n",
       "    </tr>\n",
       "    <tr>\n",
       "      <th>41</th>\n",
       "      <td>Las Vegas</td>\n",
       "      <td>26.063830</td>\n",
       "      <td>36.166286</td>\n",
       "      <td>-115.149225</td>\n",
       "    </tr>\n",
       "    <tr>\n",
       "      <th>43</th>\n",
       "      <td>Los Angeles</td>\n",
       "      <td>47.423077</td>\n",
       "      <td>34.053717</td>\n",
       "      <td>-118.242727</td>\n",
       "    </tr>\n",
       "    <tr>\n",
       "      <th>44</th>\n",
       "      <td>Louisville</td>\n",
       "      <td>21.717391</td>\n",
       "      <td>38.254238</td>\n",
       "      <td>-85.759407</td>\n",
       "    </tr>\n",
       "    <tr>\n",
       "      <th>46</th>\n",
       "      <td>Memphis</td>\n",
       "      <td>23.292683</td>\n",
       "      <td>35.149022</td>\n",
       "      <td>-90.051629</td>\n",
       "    </tr>\n",
       "    <tr>\n",
       "      <th>47</th>\n",
       "      <td>Miami</td>\n",
       "      <td>64.648148</td>\n",
       "      <td>25.774266</td>\n",
       "      <td>-80.193659</td>\n",
       "    </tr>\n",
       "    <tr>\n",
       "      <th>49</th>\n",
       "      <td>Milwaukee</td>\n",
       "      <td>35.700000</td>\n",
       "      <td>43.034993</td>\n",
       "      <td>-87.922497</td>\n",
       "    </tr>\n",
       "    <tr>\n",
       "      <th>50</th>\n",
       "      <td>New Orleans</td>\n",
       "      <td>43.103448</td>\n",
       "      <td>29.949932</td>\n",
       "      <td>-90.070116</td>\n",
       "    </tr>\n",
       "    <tr>\n",
       "      <th>51</th>\n",
       "      <td>Oklahoma City</td>\n",
       "      <td>36.200000</td>\n",
       "      <td>35.472989</td>\n",
       "      <td>-97.517054</td>\n",
       "    </tr>\n",
       "    <tr>\n",
       "      <th>52</th>\n",
       "      <td>Philadelphia</td>\n",
       "      <td>33.651163</td>\n",
       "      <td>39.952335</td>\n",
       "      <td>-75.163789</td>\n",
       "    </tr>\n",
       "    <tr>\n",
       "      <th>54</th>\n",
       "      <td>Phoenix</td>\n",
       "      <td>16.525000</td>\n",
       "      <td>33.446768</td>\n",
       "      <td>-112.075672</td>\n",
       "    </tr>\n",
       "    <tr>\n",
       "      <th>55</th>\n",
       "      <td>Pittsburgh</td>\n",
       "      <td>36.608696</td>\n",
       "      <td>40.441694</td>\n",
       "      <td>-79.990086</td>\n",
       "    </tr>\n",
       "    <tr>\n",
       "      <th>56</th>\n",
       "      <td>Portland</td>\n",
       "      <td>21.365854</td>\n",
       "      <td>45.520247</td>\n",
       "      <td>-122.674195</td>\n",
       "    </tr>\n",
       "    <tr>\n",
       "      <th>60</th>\n",
       "      <td>Providence</td>\n",
       "      <td>28.220000</td>\n",
       "      <td>41.823989</td>\n",
       "      <td>-71.412834</td>\n",
       "    </tr>\n",
       "    <tr>\n",
       "      <th>61</th>\n",
       "      <td>Raleigh</td>\n",
       "      <td>29.465116</td>\n",
       "      <td>35.780402</td>\n",
       "      <td>-78.639078</td>\n",
       "    </tr>\n",
       "    <tr>\n",
       "      <th>62</th>\n",
       "      <td>Richmond</td>\n",
       "      <td>56.666667</td>\n",
       "      <td>37.538509</td>\n",
       "      <td>-77.434280</td>\n",
       "    </tr>\n",
       "    <tr>\n",
       "      <th>67</th>\n",
       "      <td>Rochester</td>\n",
       "      <td>42.392157</td>\n",
       "      <td>43.185475</td>\n",
       "      <td>-77.610686</td>\n",
       "    </tr>\n",
       "    <tr>\n",
       "      <th>71</th>\n",
       "      <td>Salt Lake City</td>\n",
       "      <td>26.454545</td>\n",
       "      <td>40.767013</td>\n",
       "      <td>-111.890431</td>\n",
       "    </tr>\n",
       "    <tr>\n",
       "      <th>72</th>\n",
       "      <td>San Antonio</td>\n",
       "      <td>35.565217</td>\n",
       "      <td>29.424600</td>\n",
       "      <td>-98.495141</td>\n",
       "    </tr>\n",
       "    <tr>\n",
       "      <th>73</th>\n",
       "      <td>San Diego</td>\n",
       "      <td>33.641026</td>\n",
       "      <td>32.717421</td>\n",
       "      <td>-117.162771</td>\n",
       "    </tr>\n",
       "    <tr>\n",
       "      <th>74</th>\n",
       "      <td>San Francisco</td>\n",
       "      <td>75.461538</td>\n",
       "      <td>37.779277</td>\n",
       "      <td>-122.419270</td>\n",
       "    </tr>\n",
       "    <tr>\n",
       "      <th>75</th>\n",
       "      <td>Seattle</td>\n",
       "      <td>28.916667</td>\n",
       "      <td>47.603832</td>\n",
       "      <td>-122.330062</td>\n",
       "    </tr>\n",
       "    <tr>\n",
       "      <th>76</th>\n",
       "      <td>St. Louis</td>\n",
       "      <td>27.918367</td>\n",
       "      <td>38.627273</td>\n",
       "      <td>-90.197889</td>\n",
       "    </tr>\n",
       "    <tr>\n",
       "      <th>78</th>\n",
       "      <td>Tampa</td>\n",
       "      <td>51.255319</td>\n",
       "      <td>27.947760</td>\n",
       "      <td>-82.458444</td>\n",
       "    </tr>\n",
       "    <tr>\n",
       "      <th>79</th>\n",
       "      <td>Tucson</td>\n",
       "      <td>27.404255</td>\n",
       "      <td>32.221742</td>\n",
       "      <td>-110.926476</td>\n",
       "    </tr>\n",
       "    <tr>\n",
       "      <th>80</th>\n",
       "      <td>Tulsa</td>\n",
       "      <td>25.877551</td>\n",
       "      <td>36.155681</td>\n",
       "      <td>-95.992911</td>\n",
       "    </tr>\n",
       "  </tbody>\n",
       "</table>\n",
       "</div>"
      ],
      "text/plain": [
       "              name  heatwave_season_length        lat         lon\n",
       "0           Albany                2.000000  42.651167  -73.754968\n",
       "4      Albuquerque               25.265306  35.084103 -106.650985\n",
       "5          Atlanta               14.272727  33.749099  -84.390185\n",
       "6           Austin               38.794872  30.271129  -97.743700\n",
       "8        Baltimore               47.607143  39.290861  -76.610807\n",
       "9      Baton Rouge               38.781818  30.450746  -91.154551\n",
       "10          Boston               40.389831  42.360482  -71.059568\n",
       "11         Buffalo               34.880952  42.886447  -78.878369\n",
       "13       Charlotte               26.818182  35.227087  -80.843127\n",
       "15         Chicago               32.268293  41.875555  -87.624421\n",
       "16       Cleveland               39.279070  41.505161  -81.693445\n",
       "20        Columbus                8.266667  39.962260  -83.000707\n",
       "25          Dayton               42.410714  39.758948  -84.191607\n",
       "28         Detroit               39.796296  42.348664  -83.056737\n",
       "29         El Paso               43.500000  31.811131 -106.501349\n",
       "30      Fort Worth               24.170732  32.753177  -97.332746\n",
       "31          Fresno               36.183673  36.739442 -119.784831\n",
       "32      Greensboro               30.090909  36.072635  -79.791975\n",
       "33        Hartford               28.380952  41.763494  -72.683052\n",
       "35    Jacksonville               21.136364  30.332184  -81.655651\n",
       "41       Las Vegas               26.063830  36.166286 -115.149225\n",
       "43     Los Angeles               47.423077  34.053717 -118.242727\n",
       "44      Louisville               21.717391  38.254238  -85.759407\n",
       "46         Memphis               23.292683  35.149022  -90.051629\n",
       "47           Miami               64.648148  25.774266  -80.193659\n",
       "49       Milwaukee               35.700000  43.034993  -87.922497\n",
       "50     New Orleans               43.103448  29.949932  -90.070116\n",
       "51   Oklahoma City               36.200000  35.472989  -97.517054\n",
       "52    Philadelphia               33.651163  39.952335  -75.163789\n",
       "54         Phoenix               16.525000  33.446768 -112.075672\n",
       "55      Pittsburgh               36.608696  40.441694  -79.990086\n",
       "56        Portland               21.365854  45.520247 -122.674195\n",
       "60      Providence               28.220000  41.823989  -71.412834\n",
       "61         Raleigh               29.465116  35.780402  -78.639078\n",
       "62        Richmond               56.666667  37.538509  -77.434280\n",
       "67       Rochester               42.392157  43.185475  -77.610686\n",
       "71  Salt Lake City               26.454545  40.767013 -111.890431\n",
       "72     San Antonio               35.565217  29.424600  -98.495141\n",
       "73       San Diego               33.641026  32.717421 -117.162771\n",
       "74   San Francisco               75.461538  37.779277 -122.419270\n",
       "75         Seattle               28.916667  47.603832 -122.330062\n",
       "76       St. Louis               27.918367  38.627273  -90.197889\n",
       "78           Tampa               51.255319  27.947760  -82.458444\n",
       "79          Tucson               27.404255  32.221742 -110.926476\n",
       "80           Tulsa               25.877551  36.155681  -95.992911"
      ]
     },
     "execution_count": 13,
     "metadata": {},
     "output_type": "execute_result"
    }
   ],
   "source": [
    "heatwave_data = heatwave_data.drop('pop', axis = 1)\n",
    "heatwave_data = heatwave_data.drop_duplicates()\n",
    "heatwave_data"
   ]
  },
  {
   "cell_type": "code",
   "execution_count": 14,
   "id": "f86d8a73-5f47-4df6-abfe-1ffa13c0947e",
   "metadata": {
    "tags": []
   },
   "outputs": [
    {
     "data": {
      "text/plain": [
       "45"
      ]
     },
     "execution_count": 14,
     "metadata": {},
     "output_type": "execute_result"
    }
   ],
   "source": [
    "heatwave_data['name'].nunique()"
   ]
  },
  {
   "cell_type": "code",
   "execution_count": 15,
   "id": "b598572f-fc97-465b-97b9-1f4dd88fda19",
   "metadata": {
    "tags": []
   },
   "outputs": [],
   "source": [
    "def categorize_heatwaves(count):\n",
    "    if count <= 2:\n",
    "        return 'lightyellow'\n",
    "    elif count <= 4:\n",
    "        return 'yellow'\n",
    "    elif count <= 6:\n",
    "        return 'gold'\n",
    "    elif count <= 8:\n",
    "        return 'darkorange'\n",
    "    else:\n",
    "        return 'tomato'"
   ]
  },
  {
   "cell_type": "code",
   "execution_count": 17,
   "id": "1bdf8aa6-1af0-45bb-be95-a178669631e0",
   "metadata": {
    "tags": []
   },
   "outputs": [],
   "source": [
    "heatwave_data['color'] = heatwave_data['heatwave_season_length'].apply(categorize_heatwaves)"
   ]
  },
  {
   "cell_type": "code",
   "execution_count": 19,
   "id": "0c80500e-60a6-4aa8-944d-94963eed19dd",
   "metadata": {
    "tags": []
   },
   "outputs": [],
   "source": [
    "import plotly.graph_objects as go"
   ]
  },
  {
   "cell_type": "code",
   "execution_count": 23,
   "id": "6d27ff4b-bdd6-4dce-9296-469b0a4858de",
   "metadata": {
    "tags": []
   },
   "outputs": [
    {
     "data": {
      "application/vnd.plotly.v1+json": {
       "config": {
        "plotlyServerURL": "https://plot.ly"
       },
       "data": [
        {
         "hoverinfo": "text",
         "lat": [
          42.6511674,
          35.0841034,
          33.7490987,
          30.2711286,
          39.2908608,
          30.4507462,
          42.3604823,
          42.8864468,
          35.2270869,
          41.8755546,
          41.5051613,
          39.9622601,
          39.7589478,
          42.3486635,
          31.8111305,
          32.753177,
          36.7394421,
          36.0726355,
          41.7634935,
          30.3321838,
          36.1662859,
          34.053717,
          38.2542376,
          35.1490215,
          25.7742658,
          43.0349931,
          29.9499323,
          35.4729886,
          39.952335,
          33.4467681,
          40.4416941,
          45.5202471,
          41.8239891,
          35.7804015,
          37.5385087,
          43.1854754,
          40.7670126,
          29.4246002,
          32.7174209,
          37.7792768,
          47.6038321,
          38.6272733,
          27.9477595,
          32.2217422,
          36.1556805
         ],
         "locationmode": "USA-states",
         "lon": [
          -73.754968,
          -106.6509851,
          -84.3901849,
          -97.7436995,
          -76.6108073,
          -91.154551,
          -71.0595678,
          -78.8783689,
          -80.8431268,
          -87.6244212,
          -81.6934446,
          -83.0007065,
          -84.1916069,
          -83.0567375,
          -106.5013493,
          -97.3327459,
          -119.7848307,
          -79.7919754,
          -72.6830523,
          -81.655651,
          -115.149225,
          -118.2427266,
          -85.759407,
          -90.0516285,
          -80.1936589,
          -87.922497,
          -90.0701156,
          -97.5170536,
          -75.163789,
          -112.0756724,
          -79.9900861,
          -122.6741949,
          -71.4128343,
          -78.6390779,
          -77.43428,
          -77.61068605,
          -111.8904308,
          -98.4951405,
          -117.1627714,
          -122.4192704,
          -122.3300624,
          -90.1978889,
          -82.458444,
          -110.9264759,
          -95.9929113
         ],
         "marker": {
          "color": [
           "lightyellow",
           "tomato",
           "tomato",
           "tomato",
           "tomato",
           "tomato",
           "tomato",
           "tomato",
           "tomato",
           "tomato",
           "tomato",
           "tomato",
           "tomato",
           "tomato",
           "tomato",
           "tomato",
           "tomato",
           "tomato",
           "tomato",
           "tomato",
           "tomato",
           "tomato",
           "tomato",
           "tomato",
           "tomato",
           "tomato",
           "tomato",
           "tomato",
           "tomato",
           "tomato",
           "tomato",
           "tomato",
           "tomato",
           "tomato",
           "tomato",
           "tomato",
           "tomato",
           "tomato",
           "tomato",
           "tomato",
           "tomato",
           "tomato",
           "tomato",
           "tomato",
           "tomato"
          ],
          "colorbar": {
           "tickmode": "array",
           "ticks": "outside",
           "ticktext": [
            "≤ 2",
            "> 2-4",
            "> 4-6",
            "> 6-8",
            "> 8"
           ],
           "tickvals": [
            "lightyellow",
            "yellow",
            "gold",
            "darkorange",
            "tomato"
           ],
           "title": {
            "side": "top",
            "text": "heatwave_season_length"
           }
          },
          "line": {
           "color": "rgb(40,40,40)",
           "width": 0.5
          },
          "showscale": true,
          "size": [
           0.6666666666666666,
           8.421768707482993,
           4.757575757575758,
           12.931623931623932,
           15.869047619047619,
           12.927272727272728,
           13.463276836158192,
           11.626984126984127,
           8.93939393939394,
           10.75609756097561,
           13.093023255813954,
           2.755555555555556,
           14.136904761904761,
           13.265432098765432,
           14.5,
           8.05691056910569,
           12.061224489795919,
           10.03030303030303,
           9.46031746031746,
           7.045454545454546,
           8.687943262411347,
           15.807692307692307,
           7.239130434782608,
           7.764227642276423,
           21.549382716049383,
           11.9,
           14.367816091954024,
           12.066666666666668,
           11.217054263565892,
           5.508333333333333,
           12.202898550724639,
           7.121951219512195,
           9.406666666666666,
           9.821705426356589,
           18.88888888888889,
           14.130718954248366,
           8.818181818181818,
           11.855072463768117,
           11.213675213675215,
           25.153846153846157,
           9.63888888888889,
           9.306122448979592,
           17.085106382978726,
           9.134751773049645,
           8.625850340136054
          ]
         },
         "text": [
          "Albany<br>Heatwaves: 2.0",
          "Albuquerque<br>Heatwaves: 25.26530612244898",
          "Atlanta<br>Heatwaves: 14.272727272727273",
          "Austin<br>Heatwaves: 38.794871794871796",
          "Baltimore<br>Heatwaves: 47.607142857142854",
          "Baton Rouge<br>Heatwaves: 38.78181818181818",
          "Boston<br>Heatwaves: 40.389830508474574",
          "Buffalo<br>Heatwaves: 34.88095238095238",
          "Charlotte<br>Heatwaves: 26.818181818181817",
          "Chicago<br>Heatwaves: 32.26829268292683",
          "Cleveland<br>Heatwaves: 39.27906976744186",
          "Columbus<br>Heatwaves: 8.266666666666667",
          "Dayton<br>Heatwaves: 42.410714285714285",
          "Detroit<br>Heatwaves: 39.7962962962963",
          "El Paso<br>Heatwaves: 43.5",
          "Fort Worth<br>Heatwaves: 24.170731707317074",
          "Fresno<br>Heatwaves: 36.183673469387756",
          "Greensboro<br>Heatwaves: 30.09090909090909",
          "Hartford<br>Heatwaves: 28.38095238095238",
          "Jacksonville<br>Heatwaves: 21.136363636363637",
          "Las Vegas<br>Heatwaves: 26.06382978723404",
          "Los Angeles<br>Heatwaves: 47.42307692307692",
          "Louisville<br>Heatwaves: 21.717391304347824",
          "Memphis<br>Heatwaves: 23.29268292682927",
          "Miami<br>Heatwaves: 64.64814814814815",
          "Milwaukee<br>Heatwaves: 35.7",
          "New Orleans<br>Heatwaves: 43.10344827586207",
          "Oklahoma City<br>Heatwaves: 36.2",
          "Philadelphia<br>Heatwaves: 33.651162790697676",
          "Phoenix<br>Heatwaves: 16.525",
          "Pittsburgh<br>Heatwaves: 36.608695652173914",
          "Portland<br>Heatwaves: 21.365853658536587",
          "Providence<br>Heatwaves: 28.22",
          "Raleigh<br>Heatwaves: 29.46511627906977",
          "Richmond<br>Heatwaves: 56.666666666666664",
          "Rochester<br>Heatwaves: 42.3921568627451",
          "Salt Lake City<br>Heatwaves: 26.454545454545453",
          "San Antonio<br>Heatwaves: 35.56521739130435",
          "San Diego<br>Heatwaves: 33.64102564102564",
          "San Francisco<br>Heatwaves: 75.46153846153847",
          "Seattle<br>Heatwaves: 28.916666666666668",
          "St. Louis<br>Heatwaves: 27.918367346938776",
          "Tampa<br>Heatwaves: 51.255319148936174",
          "Tucson<br>Heatwaves: 27.404255319148938",
          "Tulsa<br>Heatwaves: 25.877551020408163"
         ],
         "type": "scattergeo"
        }
       ],
       "layout": {
        "geo": {
         "countrycolor": "rgb(255, 255, 255)",
         "countrywidth": 1,
         "landcolor": "rgb(217, 217, 217)",
         "projection": {
          "type": "albers usa"
         },
         "scope": "usa",
         "showland": true,
         "subunitcolor": "rgb(255, 255, 255)",
         "subunitwidth": 1
        },
        "height": 600,
        "margin": {
         "b": 50,
         "l": 50,
         "r": 50,
         "t": 50
        },
        "template": {
         "data": {
          "bar": [
           {
            "error_x": {
             "color": "#2a3f5f"
            },
            "error_y": {
             "color": "#2a3f5f"
            },
            "marker": {
             "line": {
              "color": "#E5ECF6",
              "width": 0.5
             },
             "pattern": {
              "fillmode": "overlay",
              "size": 10,
              "solidity": 0.2
             }
            },
            "type": "bar"
           }
          ],
          "barpolar": [
           {
            "marker": {
             "line": {
              "color": "#E5ECF6",
              "width": 0.5
             },
             "pattern": {
              "fillmode": "overlay",
              "size": 10,
              "solidity": 0.2
             }
            },
            "type": "barpolar"
           }
          ],
          "carpet": [
           {
            "aaxis": {
             "endlinecolor": "#2a3f5f",
             "gridcolor": "white",
             "linecolor": "white",
             "minorgridcolor": "white",
             "startlinecolor": "#2a3f5f"
            },
            "baxis": {
             "endlinecolor": "#2a3f5f",
             "gridcolor": "white",
             "linecolor": "white",
             "minorgridcolor": "white",
             "startlinecolor": "#2a3f5f"
            },
            "type": "carpet"
           }
          ],
          "choropleth": [
           {
            "colorbar": {
             "outlinewidth": 0,
             "ticks": ""
            },
            "type": "choropleth"
           }
          ],
          "contour": [
           {
            "colorbar": {
             "outlinewidth": 0,
             "ticks": ""
            },
            "colorscale": [
             [
              0,
              "#0d0887"
             ],
             [
              0.1111111111111111,
              "#46039f"
             ],
             [
              0.2222222222222222,
              "#7201a8"
             ],
             [
              0.3333333333333333,
              "#9c179e"
             ],
             [
              0.4444444444444444,
              "#bd3786"
             ],
             [
              0.5555555555555556,
              "#d8576b"
             ],
             [
              0.6666666666666666,
              "#ed7953"
             ],
             [
              0.7777777777777778,
              "#fb9f3a"
             ],
             [
              0.8888888888888888,
              "#fdca26"
             ],
             [
              1,
              "#f0f921"
             ]
            ],
            "type": "contour"
           }
          ],
          "contourcarpet": [
           {
            "colorbar": {
             "outlinewidth": 0,
             "ticks": ""
            },
            "type": "contourcarpet"
           }
          ],
          "heatmap": [
           {
            "colorbar": {
             "outlinewidth": 0,
             "ticks": ""
            },
            "colorscale": [
             [
              0,
              "#0d0887"
             ],
             [
              0.1111111111111111,
              "#46039f"
             ],
             [
              0.2222222222222222,
              "#7201a8"
             ],
             [
              0.3333333333333333,
              "#9c179e"
             ],
             [
              0.4444444444444444,
              "#bd3786"
             ],
             [
              0.5555555555555556,
              "#d8576b"
             ],
             [
              0.6666666666666666,
              "#ed7953"
             ],
             [
              0.7777777777777778,
              "#fb9f3a"
             ],
             [
              0.8888888888888888,
              "#fdca26"
             ],
             [
              1,
              "#f0f921"
             ]
            ],
            "type": "heatmap"
           }
          ],
          "heatmapgl": [
           {
            "colorbar": {
             "outlinewidth": 0,
             "ticks": ""
            },
            "colorscale": [
             [
              0,
              "#0d0887"
             ],
             [
              0.1111111111111111,
              "#46039f"
             ],
             [
              0.2222222222222222,
              "#7201a8"
             ],
             [
              0.3333333333333333,
              "#9c179e"
             ],
             [
              0.4444444444444444,
              "#bd3786"
             ],
             [
              0.5555555555555556,
              "#d8576b"
             ],
             [
              0.6666666666666666,
              "#ed7953"
             ],
             [
              0.7777777777777778,
              "#fb9f3a"
             ],
             [
              0.8888888888888888,
              "#fdca26"
             ],
             [
              1,
              "#f0f921"
             ]
            ],
            "type": "heatmapgl"
           }
          ],
          "histogram": [
           {
            "marker": {
             "pattern": {
              "fillmode": "overlay",
              "size": 10,
              "solidity": 0.2
             }
            },
            "type": "histogram"
           }
          ],
          "histogram2d": [
           {
            "colorbar": {
             "outlinewidth": 0,
             "ticks": ""
            },
            "colorscale": [
             [
              0,
              "#0d0887"
             ],
             [
              0.1111111111111111,
              "#46039f"
             ],
             [
              0.2222222222222222,
              "#7201a8"
             ],
             [
              0.3333333333333333,
              "#9c179e"
             ],
             [
              0.4444444444444444,
              "#bd3786"
             ],
             [
              0.5555555555555556,
              "#d8576b"
             ],
             [
              0.6666666666666666,
              "#ed7953"
             ],
             [
              0.7777777777777778,
              "#fb9f3a"
             ],
             [
              0.8888888888888888,
              "#fdca26"
             ],
             [
              1,
              "#f0f921"
             ]
            ],
            "type": "histogram2d"
           }
          ],
          "histogram2dcontour": [
           {
            "colorbar": {
             "outlinewidth": 0,
             "ticks": ""
            },
            "colorscale": [
             [
              0,
              "#0d0887"
             ],
             [
              0.1111111111111111,
              "#46039f"
             ],
             [
              0.2222222222222222,
              "#7201a8"
             ],
             [
              0.3333333333333333,
              "#9c179e"
             ],
             [
              0.4444444444444444,
              "#bd3786"
             ],
             [
              0.5555555555555556,
              "#d8576b"
             ],
             [
              0.6666666666666666,
              "#ed7953"
             ],
             [
              0.7777777777777778,
              "#fb9f3a"
             ],
             [
              0.8888888888888888,
              "#fdca26"
             ],
             [
              1,
              "#f0f921"
             ]
            ],
            "type": "histogram2dcontour"
           }
          ],
          "mesh3d": [
           {
            "colorbar": {
             "outlinewidth": 0,
             "ticks": ""
            },
            "type": "mesh3d"
           }
          ],
          "parcoords": [
           {
            "line": {
             "colorbar": {
              "outlinewidth": 0,
              "ticks": ""
             }
            },
            "type": "parcoords"
           }
          ],
          "pie": [
           {
            "automargin": true,
            "type": "pie"
           }
          ],
          "scatter": [
           {
            "fillpattern": {
             "fillmode": "overlay",
             "size": 10,
             "solidity": 0.2
            },
            "type": "scatter"
           }
          ],
          "scatter3d": [
           {
            "line": {
             "colorbar": {
              "outlinewidth": 0,
              "ticks": ""
             }
            },
            "marker": {
             "colorbar": {
              "outlinewidth": 0,
              "ticks": ""
             }
            },
            "type": "scatter3d"
           }
          ],
          "scattercarpet": [
           {
            "marker": {
             "colorbar": {
              "outlinewidth": 0,
              "ticks": ""
             }
            },
            "type": "scattercarpet"
           }
          ],
          "scattergeo": [
           {
            "marker": {
             "colorbar": {
              "outlinewidth": 0,
              "ticks": ""
             }
            },
            "type": "scattergeo"
           }
          ],
          "scattergl": [
           {
            "marker": {
             "colorbar": {
              "outlinewidth": 0,
              "ticks": ""
             }
            },
            "type": "scattergl"
           }
          ],
          "scattermapbox": [
           {
            "marker": {
             "colorbar": {
              "outlinewidth": 0,
              "ticks": ""
             }
            },
            "type": "scattermapbox"
           }
          ],
          "scatterpolar": [
           {
            "marker": {
             "colorbar": {
              "outlinewidth": 0,
              "ticks": ""
             }
            },
            "type": "scatterpolar"
           }
          ],
          "scatterpolargl": [
           {
            "marker": {
             "colorbar": {
              "outlinewidth": 0,
              "ticks": ""
             }
            },
            "type": "scatterpolargl"
           }
          ],
          "scatterternary": [
           {
            "marker": {
             "colorbar": {
              "outlinewidth": 0,
              "ticks": ""
             }
            },
            "type": "scatterternary"
           }
          ],
          "surface": [
           {
            "colorbar": {
             "outlinewidth": 0,
             "ticks": ""
            },
            "colorscale": [
             [
              0,
              "#0d0887"
             ],
             [
              0.1111111111111111,
              "#46039f"
             ],
             [
              0.2222222222222222,
              "#7201a8"
             ],
             [
              0.3333333333333333,
              "#9c179e"
             ],
             [
              0.4444444444444444,
              "#bd3786"
             ],
             [
              0.5555555555555556,
              "#d8576b"
             ],
             [
              0.6666666666666666,
              "#ed7953"
             ],
             [
              0.7777777777777778,
              "#fb9f3a"
             ],
             [
              0.8888888888888888,
              "#fdca26"
             ],
             [
              1,
              "#f0f921"
             ]
            ],
            "type": "surface"
           }
          ],
          "table": [
           {
            "cells": {
             "fill": {
              "color": "#EBF0F8"
             },
             "line": {
              "color": "white"
             }
            },
            "header": {
             "fill": {
              "color": "#C8D4E3"
             },
             "line": {
              "color": "white"
             }
            },
            "type": "table"
           }
          ]
         },
         "layout": {
          "annotationdefaults": {
           "arrowcolor": "#2a3f5f",
           "arrowhead": 0,
           "arrowwidth": 1
          },
          "autotypenumbers": "strict",
          "coloraxis": {
           "colorbar": {
            "outlinewidth": 0,
            "ticks": ""
           }
          },
          "colorscale": {
           "diverging": [
            [
             0,
             "#8e0152"
            ],
            [
             0.1,
             "#c51b7d"
            ],
            [
             0.2,
             "#de77ae"
            ],
            [
             0.3,
             "#f1b6da"
            ],
            [
             0.4,
             "#fde0ef"
            ],
            [
             0.5,
             "#f7f7f7"
            ],
            [
             0.6,
             "#e6f5d0"
            ],
            [
             0.7,
             "#b8e186"
            ],
            [
             0.8,
             "#7fbc41"
            ],
            [
             0.9,
             "#4d9221"
            ],
            [
             1,
             "#276419"
            ]
           ],
           "sequential": [
            [
             0,
             "#0d0887"
            ],
            [
             0.1111111111111111,
             "#46039f"
            ],
            [
             0.2222222222222222,
             "#7201a8"
            ],
            [
             0.3333333333333333,
             "#9c179e"
            ],
            [
             0.4444444444444444,
             "#bd3786"
            ],
            [
             0.5555555555555556,
             "#d8576b"
            ],
            [
             0.6666666666666666,
             "#ed7953"
            ],
            [
             0.7777777777777778,
             "#fb9f3a"
            ],
            [
             0.8888888888888888,
             "#fdca26"
            ],
            [
             1,
             "#f0f921"
            ]
           ],
           "sequentialminus": [
            [
             0,
             "#0d0887"
            ],
            [
             0.1111111111111111,
             "#46039f"
            ],
            [
             0.2222222222222222,
             "#7201a8"
            ],
            [
             0.3333333333333333,
             "#9c179e"
            ],
            [
             0.4444444444444444,
             "#bd3786"
            ],
            [
             0.5555555555555556,
             "#d8576b"
            ],
            [
             0.6666666666666666,
             "#ed7953"
            ],
            [
             0.7777777777777778,
             "#fb9f3a"
            ],
            [
             0.8888888888888888,
             "#fdca26"
            ],
            [
             1,
             "#f0f921"
            ]
           ]
          },
          "colorway": [
           "#636efa",
           "#EF553B",
           "#00cc96",
           "#ab63fa",
           "#FFA15A",
           "#19d3f3",
           "#FF6692",
           "#B6E880",
           "#FF97FF",
           "#FECB52"
          ],
          "font": {
           "color": "#2a3f5f"
          },
          "geo": {
           "bgcolor": "white",
           "lakecolor": "white",
           "landcolor": "#E5ECF6",
           "showlakes": true,
           "showland": true,
           "subunitcolor": "white"
          },
          "hoverlabel": {
           "align": "left"
          },
          "hovermode": "closest",
          "mapbox": {
           "style": "light"
          },
          "paper_bgcolor": "white",
          "plot_bgcolor": "#E5ECF6",
          "polar": {
           "angularaxis": {
            "gridcolor": "white",
            "linecolor": "white",
            "ticks": ""
           },
           "bgcolor": "#E5ECF6",
           "radialaxis": {
            "gridcolor": "white",
            "linecolor": "white",
            "ticks": ""
           }
          },
          "scene": {
           "xaxis": {
            "backgroundcolor": "#E5ECF6",
            "gridcolor": "white",
            "gridwidth": 2,
            "linecolor": "white",
            "showbackground": true,
            "ticks": "",
            "zerolinecolor": "white"
           },
           "yaxis": {
            "backgroundcolor": "#E5ECF6",
            "gridcolor": "white",
            "gridwidth": 2,
            "linecolor": "white",
            "showbackground": true,
            "ticks": "",
            "zerolinecolor": "white"
           },
           "zaxis": {
            "backgroundcolor": "#E5ECF6",
            "gridcolor": "white",
            "gridwidth": 2,
            "linecolor": "white",
            "showbackground": true,
            "ticks": "",
            "zerolinecolor": "white"
           }
          },
          "shapedefaults": {
           "line": {
            "color": "#2a3f5f"
           }
          },
          "ternary": {
           "aaxis": {
            "gridcolor": "white",
            "linecolor": "white",
            "ticks": ""
           },
           "baxis": {
            "gridcolor": "white",
            "linecolor": "white",
            "ticks": ""
           },
           "bgcolor": "#E5ECF6",
           "caxis": {
            "gridcolor": "white",
            "linecolor": "white",
            "ticks": ""
           }
          },
          "title": {
           "x": 0.05
          },
          "xaxis": {
           "automargin": true,
           "gridcolor": "white",
           "linecolor": "white",
           "ticks": "",
           "title": {
            "standoff": 15
           },
           "zerolinecolor": "white",
           "zerolinewidth": 2
          },
          "yaxis": {
           "automargin": true,
           "gridcolor": "white",
           "linecolor": "white",
           "ticks": "",
           "title": {
            "standoff": 15
           },
           "zerolinecolor": "white",
           "zerolinewidth": 2
          }
         }
        },
        "title": {
         "text": "heatwave season length in 50 Large US Cities, 1961 to 2021"
        },
        "width": 1000
       }
      },
      "image/png": "[encoded data removed]",
      "text/html": [
       "<div>                            <div id=\"a203a7e7-db17-45be-a640-6c477aa20b40\" class=\"plotly-graph-div\" style=\"height:600px; width:1000px;\"></div>            <script type=\"text/javascript\">                require([\"plotly\"], function(Plotly) {                    window.PLOTLYENV=window.PLOTLYENV || {};                                    if (document.getElementById(\"a203a7e7-db17-45be-a640-6c477aa20b40\")) {                    Plotly.newPlot(                        \"a203a7e7-db17-45be-a640-6c477aa20b40\",                        [{\"hoverinfo\":\"text\",\"lat\":[42.6511674,35.0841034,33.7490987,30.2711286,39.2908608,30.4507462,42.3604823,42.8864468,35.2270869,41.8755546,41.5051613,39.9622601,39.7589478,42.3486635,31.8111305,32.753177,36.7394421,36.0726355,41.7634935,30.3321838,36.1662859,34.053717,38.2542376,35.1490215,25.7742658,43.0349931,29.9499323,35.4729886,39.952335,33.4467681,40.4416941,45.5202471,41.8239891,35.7804015,37.5385087,43.1854754,40.7670126,29.4246002,32.7174209,37.7792768,47.6038321,38.6272733,27.9477595,32.2217422,36.1556805],\"locationmode\":\"USA-states\",\"lon\":[-73.754968,-106.6509851,-84.3901849,-97.7436995,-76.6108073,-91.154551,-71.0595678,-78.8783689,-80.8431268,-87.6244212,-81.6934446,-83.0007065,-84.1916069,-83.0567375,-106.5013493,-97.3327459,-119.7848307,-79.7919754,-72.6830523,-81.655651,-115.149225,-118.2427266,-85.759407,-90.0516285,-80.1936589,-87.922497,-90.0701156,-97.5170536,-75.163789,-112.0756724,-79.9900861,-122.6741949,-71.4128343,-78.6390779,-77.43428,-77.61068605,-111.8904308,-98.4951405,-117.1627714,-122.4192704,-122.3300624,-90.1978889,-82.458444,-110.9264759,-95.9929113],\"marker\":{\"color\":[\"lightyellow\",\"tomato\",\"tomato\",\"tomato\",\"tomato\",\"tomato\",\"tomato\",\"tomato\",\"tomato\",\"tomato\",\"tomato\",\"tomato\",\"tomato\",\"tomato\",\"tomato\",\"tomato\",\"tomato\",\"tomato\",\"tomato\",\"tomato\",\"tomato\",\"tomato\",\"tomato\",\"tomato\",\"tomato\",\"tomato\",\"tomato\",\"tomato\",\"tomato\",\"tomato\",\"tomato\",\"tomato\",\"tomato\",\"tomato\",\"tomato\",\"tomato\",\"tomato\",\"tomato\",\"tomato\",\"tomato\",\"tomato\",\"tomato\",\"tomato\",\"tomato\",\"tomato\"],\"colorbar\":{\"tickmode\":\"array\",\"ticks\":\"outside\",\"ticktext\":[\"\\u2264 2\",\"\\u003e 2-4\",\"\\u003e 4-6\",\"\\u003e 6-8\",\"\\u003e 8\"],\"tickvals\":[\"lightyellow\",\"yellow\",\"gold\",\"darkorange\",\"tomato\"],\"title\":{\"side\":\"top\",\"text\":\"heatwave_season_length\"}},\"line\":{\"color\":\"rgb(40,40,40)\",\"width\":0.5},\"showscale\":true,\"size\":[0.6666666666666666,8.421768707482993,4.757575757575758,12.931623931623932,15.869047619047619,12.927272727272728,13.463276836158192,11.626984126984127,8.93939393939394,10.75609756097561,13.093023255813954,2.755555555555556,14.136904761904761,13.265432098765432,14.5,8.05691056910569,12.061224489795919,10.03030303030303,9.46031746031746,7.045454545454546,8.687943262411347,15.807692307692307,7.239130434782608,7.764227642276423,21.549382716049383,11.9,14.367816091954024,12.066666666666668,11.217054263565892,5.508333333333333,12.202898550724639,7.121951219512195,9.406666666666666,9.821705426356589,18.88888888888889,14.130718954248366,8.818181818181818,11.855072463768117,11.213675213675215,25.153846153846157,9.63888888888889,9.306122448979592,17.085106382978726,9.134751773049645,8.625850340136054]},\"text\":[\"Albany\\u003cbr\\u003eHeatwaves: 2.0\",\"Albuquerque\\u003cbr\\u003eHeatwaves: 25.26530612244898\",\"Atlanta\\u003cbr\\u003eHeatwaves: 14.272727272727273\",\"Austin\\u003cbr\\u003eHeatwaves: 38.794871794871796\",\"Baltimore\\u003cbr\\u003eHeatwaves: 47.607142857142854\",\"Baton Rouge\\u003cbr\\u003eHeatwaves: 38.78181818181818\",\"Boston\\u003cbr\\u003eHeatwaves: 40.389830508474574\",\"Buffalo\\u003cbr\\u003eHeatwaves: 34.88095238095238\",\"Charlotte\\u003cbr\\u003eHeatwaves: 26.818181818181817\",\"Chicago\\u003cbr\\u003eHeatwaves: 32.26829268292683\",\"Cleveland\\u003cbr\\u003eHeatwaves: 39.27906976744186\",\"Columbus\\u003cbr\\u003eHeatwaves: 8.266666666666667\",\"Dayton\\u003cbr\\u003eHeatwaves: 42.410714285714285\",\"Detroit\\u003cbr\\u003eHeatwaves: 39.7962962962963\",\"El Paso\\u003cbr\\u003eHeatwaves: 43.5\",\"Fort Worth\\u003cbr\\u003eHeatwaves: 24.170731707317074\",\"Fresno\\u003cbr\\u003eHeatwaves: 36.183673469387756\",\"Greensboro\\u003cbr\\u003eHeatwaves: 30.09090909090909\",\"Hartford\\u003cbr\\u003eHeatwaves: 28.38095238095238\",\"Jacksonville\\u003cbr\\u003eHeatwaves: 21.136363636363637\",\"Las Vegas\\u003cbr\\u003eHeatwaves: 26.06382978723404\",\"Los Angeles\\u003cbr\\u003eHeatwaves: 47.42307692307692\",\"Louisville\\u003cbr\\u003eHeatwaves: 21.717391304347824\",\"Memphis\\u003cbr\\u003eHeatwaves: 23.29268292682927\",\"Miami\\u003cbr\\u003eHeatwaves: 64.64814814814815\",\"Milwaukee\\u003cbr\\u003eHeatwaves: 35.7\",\"New Orleans\\u003cbr\\u003eHeatwaves: 43.10344827586207\",\"Oklahoma City\\u003cbr\\u003eHeatwaves: 36.2\",\"Philadelphia\\u003cbr\\u003eHeatwaves: 33.651162790697676\",\"Phoenix\\u003cbr\\u003eHeatwaves: 16.525\",\"Pittsburgh\\u003cbr\\u003eHeatwaves: 36.608695652173914\",\"Portland\\u003cbr\\u003eHeatwaves: 21.365853658536587\",\"Providence\\u003cbr\\u003eHeatwaves: 28.22\",\"Raleigh\\u003cbr\\u003eHeatwaves: 29.46511627906977\",\"Richmond\\u003cbr\\u003eHeatwaves: 56.666666666666664\",\"Rochester\\u003cbr\\u003eHeatwaves: 42.3921568627451\",\"Salt Lake City\\u003cbr\\u003eHeatwaves: 26.454545454545453\",\"San Antonio\\u003cbr\\u003eHeatwaves: 35.56521739130435\",\"San Diego\\u003cbr\\u003eHeatwaves: 33.64102564102564\",\"San Francisco\\u003cbr\\u003eHeatwaves: 75.46153846153847\",\"Seattle\\u003cbr\\u003eHeatwaves: 28.916666666666668\",\"St. Louis\\u003cbr\\u003eHeatwaves: 27.918367346938776\",\"Tampa\\u003cbr\\u003eHeatwaves: 51.255319148936174\",\"Tucson\\u003cbr\\u003eHeatwaves: 27.404255319148938\",\"Tulsa\\u003cbr\\u003eHeatwaves: 25.877551020408163\"],\"type\":\"scattergeo\"}],                        {\"template\":{\"data\":{\"histogram2dcontour\":[{\"type\":\"histogram2dcontour\",\"colorbar\":{\"outlinewidth\":0,\"ticks\":\"\"},\"colorscale\":[[0.0,\"#0d0887\"],[0.1111111111111111,\"#46039f\"],[0.2222222222222222,\"#7201a8\"],[0.3333333333333333,\"#9c179e\"],[0.4444444444444444,\"#bd3786\"],[0.5555555555555556,\"#d8576b\"],[0.6666666666666666,\"#ed7953\"],[0.7777777777777778,\"#fb9f3a\"],[0.8888888888888888,\"#fdca26\"],[1.0,\"#f0f921\"]]}],\"choropleth\":[{\"type\":\"choropleth\",\"colorbar\":{\"outlinewidth\":0,\"ticks\":\"\"}}],\"histogram2d\":[{\"type\":\"histogram2d\",\"colorbar\":{\"outlinewidth\":0,\"ticks\":\"\"},\"colorscale\":[[0.0,\"#0d0887\"],[0.1111111111111111,\"#46039f\"],[0.2222222222222222,\"#7201a8\"],[0.3333333333333333,\"#9c179e\"],[0.4444444444444444,\"#bd3786\"],[0.5555555555555556,\"#d8576b\"],[0.6666666666666666,\"#ed7953\"],[0.7777777777777778,\"#fb9f3a\"],[0.8888888888888888,\"#fdca26\"],[1.0,\"#f0f921\"]]}],\"heatmap\":[{\"type\":\"heatmap\",\"colorbar\":{\"outlinewidth\":0,\"ticks\":\"\"},\"colorscale\":[[0.0,\"#0d0887\"],[0.1111111111111111,\"#46039f\"],[0.2222222222222222,\"#7201a8\"],[0.3333333333333333,\"#9c179e\"],[0.4444444444444444,\"#bd3786\"],[0.5555555555555556,\"#d8576b\"],[0.6666666666666666,\"#ed7953\"],[0.7777777777777778,\"#fb9f3a\"],[0.8888888888888888,\"#fdca26\"],[1.0,\"#f0f921\"]]}],\"heatmapgl\":[{\"type\":\"heatmapgl\",\"colorbar\":{\"outlinewidth\":0,\"ticks\":\"\"},\"colorscale\":[[0.0,\"#0d0887\"],[0.1111111111111111,\"#46039f\"],[0.2222222222222222,\"#7201a8\"],[0.3333333333333333,\"#9c179e\"],[0.4444444444444444,\"#bd3786\"],[0.5555555555555556,\"#d8576b\"],[0.6666666666666666,\"#ed7953\"],[0.7777777777777778,\"#fb9f3a\"],[0.8888888888888888,\"#fdca26\"],[1.0,\"#f0f921\"]]}],\"contourcarpet\":[{\"type\":\"contourcarpet\",\"colorbar\":{\"outlinewidth\":0,\"ticks\":\"\"}}],\"contour\":[{\"type\":\"contour\",\"colorbar\":{\"outlinewidth\":0,\"ticks\":\"\"},\"colorscale\":[[0.0,\"#0d0887\"],[0.1111111111111111,\"#46039f\"],[0.2222222222222222,\"#7201a8\"],[0.3333333333333333,\"#9c179e\"],[0.4444444444444444,\"#bd3786\"],[0.5555555555555556,\"#d8576b\"],[0.6666666666666666,\"#ed7953\"],[0.7777777777777778,\"#fb9f3a\"],[0.8888888888888888,\"#fdca26\"],[1.0,\"#f0f921\"]]}],\"surface\":[{\"type\":\"surface\",\"colorbar\":{\"outlinewidth\":0,\"ticks\":\"\"},\"colorscale\":[[0.0,\"#0d0887\"],[0.1111111111111111,\"#46039f\"],[0.2222222222222222,\"#7201a8\"],[0.3333333333333333,\"#9c179e\"],[0.4444444444444444,\"#bd3786\"],[0.5555555555555556,\"#d8576b\"],[0.6666666666666666,\"#ed7953\"],[0.7777777777777778,\"#fb9f3a\"],[0.8888888888888888,\"#fdca26\"],[1.0,\"#f0f921\"]]}],\"mesh3d\":[{\"type\":\"mesh3d\",\"colorbar\":{\"outlinewidth\":0,\"ticks\":\"\"}}],\"scatter\":[{\"fillpattern\":{\"fillmode\":\"overlay\",\"size\":10,\"solidity\":0.2},\"type\":\"scatter\"}],\"parcoords\":[{\"type\":\"parcoords\",\"line\":{\"colorbar\":{\"outlinewidth\":0,\"ticks\":\"\"}}}],\"scatterpolargl\":[{\"type\":\"scatterpolargl\",\"marker\":{\"colorbar\":{\"outlinewidth\":0,\"ticks\":\"\"}}}],\"bar\":[{\"error_x\":{\"color\":\"#2a3f5f\"},\"error_y\":{\"color\":\"#2a3f5f\"},\"marker\":{\"line\":{\"color\":\"#E5ECF6\",\"width\":0.5},\"pattern\":{\"fillmode\":\"overlay\",\"size\":10,\"solidity\":0.2}},\"type\":\"bar\"}],\"scattergeo\":[{\"type\":\"scattergeo\",\"marker\":{\"colorbar\":{\"outlinewidth\":0,\"ticks\":\"\"}}}],\"scatterpolar\":[{\"type\":\"scatterpolar\",\"marker\":{\"colorbar\":{\"outlinewidth\":0,\"ticks\":\"\"}}}],\"histogram\":[{\"marker\":{\"pattern\":{\"fillmode\":\"overlay\",\"size\":10,\"solidity\":0.2}},\"type\":\"histogram\"}],\"scattergl\":[{\"type\":\"scattergl\",\"marker\":{\"colorbar\":{\"outlinewidth\":0,\"ticks\":\"\"}}}],\"scatter3d\":[{\"type\":\"scatter3d\",\"line\":{\"colorbar\":{\"outlinewidth\":0,\"ticks\":\"\"}},\"marker\":{\"colorbar\":{\"outlinewidth\":0,\"ticks\":\"\"}}}],\"scattermapbox\":[{\"type\":\"scattermapbox\",\"marker\":{\"colorbar\":{\"outlinewidth\":0,\"ticks\":\"\"}}}],\"scatterternary\":[{\"type\":\"scatterternary\",\"marker\":{\"colorbar\":{\"outlinewidth\":0,\"ticks\":\"\"}}}],\"scattercarpet\":[{\"type\":\"scattercarpet\",\"marker\":{\"colorbar\":{\"outlinewidth\":0,\"ticks\":\"\"}}}],\"carpet\":[{\"aaxis\":{\"endlinecolor\":\"#2a3f5f\",\"gridcolor\":\"white\",\"linecolor\":\"white\",\"minorgridcolor\":\"white\",\"startlinecolor\":\"#2a3f5f\"},\"baxis\":{\"endlinecolor\":\"#2a3f5f\",\"gridcolor\":\"white\",\"linecolor\":\"white\",\"minorgridcolor\":\"white\",\"startlinecolor\":\"#2a3f5f\"},\"type\":\"carpet\"}],\"table\":[{\"cells\":{\"fill\":{\"color\":\"#EBF0F8\"},\"line\":{\"color\":\"white\"}},\"header\":{\"fill\":{\"color\":\"#C8D4E3\"},\"line\":{\"color\":\"white\"}},\"type\":\"table\"}],\"barpolar\":[{\"marker\":{\"line\":{\"color\":\"#E5ECF6\",\"width\":0.5},\"pattern\":{\"fillmode\":\"overlay\",\"size\":10,\"solidity\":0.2}},\"type\":\"barpolar\"}],\"pie\":[{\"automargin\":true,\"type\":\"pie\"}]},\"layout\":{\"autotypenumbers\":\"strict\",\"colorway\":[\"#636efa\",\"#EF553B\",\"#00cc96\",\"#ab63fa\",\"#FFA15A\",\"#19d3f3\",\"#FF6692\",\"#B6E880\",\"#FF97FF\",\"#FECB52\"],\"font\":{\"color\":\"#2a3f5f\"},\"hovermode\":\"closest\",\"hoverlabel\":{\"align\":\"left\"},\"paper_bgcolor\":\"white\",\"plot_bgcolor\":\"#E5ECF6\",\"polar\":{\"bgcolor\":\"#E5ECF6\",\"angularaxis\":{\"gridcolor\":\"white\",\"linecolor\":\"white\",\"ticks\":\"\"},\"radialaxis\":{\"gridcolor\":\"white\",\"linecolor\":\"white\",\"ticks\":\"\"}},\"ternary\":{\"bgcolor\":\"#E5ECF6\",\"aaxis\":{\"gridcolor\":\"white\",\"linecolor\":\"white\",\"ticks\":\"\"},\"baxis\":{\"gridcolor\":\"white\",\"linecolor\":\"white\",\"ticks\":\"\"},\"caxis\":{\"gridcolor\":\"white\",\"linecolor\":\"white\",\"ticks\":\"\"}},\"coloraxis\":{\"colorbar\":{\"outlinewidth\":0,\"ticks\":\"\"}},\"colorscale\":{\"sequential\":[[0.0,\"#0d0887\"],[0.1111111111111111,\"#46039f\"],[0.2222222222222222,\"#7201a8\"],[0.3333333333333333,\"#9c179e\"],[0.4444444444444444,\"#bd3786\"],[0.5555555555555556,\"#d8576b\"],[0.6666666666666666,\"#ed7953\"],[0.7777777777777778,\"#fb9f3a\"],[0.8888888888888888,\"#fdca26\"],[1.0,\"#f0f921\"]],\"sequentialminus\":[[0.0,\"#0d0887\"],[0.1111111111111111,\"#46039f\"],[0.2222222222222222,\"#7201a8\"],[0.3333333333333333,\"#9c179e\"],[0.4444444444444444,\"#bd3786\"],[0.5555555555555556,\"#d8576b\"],[0.6666666666666666,\"#ed7953\"],[0.7777777777777778,\"#fb9f3a\"],[0.8888888888888888,\"#fdca26\"],[1.0,\"#f0f921\"]],\"diverging\":[[0,\"#8e0152\"],[0.1,\"#c51b7d\"],[0.2,\"#de77ae\"],[0.3,\"#f1b6da\"],[0.4,\"#fde0ef\"],[0.5,\"#f7f7f7\"],[0.6,\"#e6f5d0\"],[0.7,\"#b8e186\"],[0.8,\"#7fbc41\"],[0.9,\"#4d9221\"],[1,\"#276419\"]]},\"xaxis\":{\"gridcolor\":\"white\",\"linecolor\":\"white\",\"ticks\":\"\",\"title\":{\"standoff\":15},\"zerolinecolor\":\"white\",\"automargin\":true,\"zerolinewidth\":2},\"yaxis\":{\"gridcolor\":\"white\",\"linecolor\":\"white\",\"ticks\":\"\",\"title\":{\"standoff\":15},\"zerolinecolor\":\"white\",\"automargin\":true,\"zerolinewidth\":2},\"scene\":{\"xaxis\":{\"backgroundcolor\":\"#E5ECF6\",\"gridcolor\":\"white\",\"linecolor\":\"white\",\"showbackground\":true,\"ticks\":\"\",\"zerolinecolor\":\"white\",\"gridwidth\":2},\"yaxis\":{\"backgroundcolor\":\"#E5ECF6\",\"gridcolor\":\"white\",\"linecolor\":\"white\",\"showbackground\":true,\"ticks\":\"\",\"zerolinecolor\":\"white\",\"gridwidth\":2},\"zaxis\":{\"backgroundcolor\":\"#E5ECF6\",\"gridcolor\":\"white\",\"linecolor\":\"white\",\"showbackground\":true,\"ticks\":\"\",\"zerolinecolor\":\"white\",\"gridwidth\":2}},\"shapedefaults\":{\"line\":{\"color\":\"#2a3f5f\"}},\"annotationdefaults\":{\"arrowcolor\":\"#2a3f5f\",\"arrowhead\":0,\"arrowwidth\":1},\"geo\":{\"bgcolor\":\"white\",\"landcolor\":\"#E5ECF6\",\"subunitcolor\":\"white\",\"showland\":true,\"showlakes\":true,\"lakecolor\":\"white\"},\"title\":{\"x\":0.05},\"mapbox\":{\"style\":\"light\"}}},\"title\":{\"text\":\"heatwave season length in 50 Large US Cities, 1961 to 2021\"},\"geo\":{\"projection\":{\"type\":\"albers usa\"},\"scope\":\"usa\",\"showland\":true,\"landcolor\":\"rgb(217, 217, 217)\",\"subunitwidth\":1,\"countrywidth\":1,\"subunitcolor\":\"rgb(255, 255, 255)\",\"countrycolor\":\"rgb(255, 255, 255)\"},\"margin\":{\"l\":50,\"r\":50,\"t\":50,\"b\":50},\"width\":1000,\"height\":600},                        {\"responsive\": true}                    ).then(function(){\n",
       "                            \n",
       "var gd = document.getElementById('a203a7e7-db17-45be-a640-6c477aa20b40');\n",
       "var x = new MutationObserver(function (mutations, observer) {{\n",
       "        var display = window.getComputedStyle(gd).display;\n",
       "        if (!display || display === 'none') {{\n",
       "            console.log([gd, 'removed!']);\n",
       "            Plotly.purge(gd);\n",
       "            observer.disconnect();\n",
       "        }}\n",
       "}});\n",
       "\n",
       "// Listen for the removal of the full notebook cells\n",
       "var notebookContainer = gd.closest('#notebook-container');\n",
       "if (notebookContainer) {{\n",
       "    x.observe(notebookContainer, {childList: true});\n",
       "}}\n",
       "\n",
       "// Listen for the clearing of the current output cell\n",
       "var outputEl = gd.closest('.output');\n",
       "if (outputEl) {{\n",
       "    x.observe(outputEl, {childList: true});\n",
       "}}\n",
       "\n",
       "                        })                };                });            </script>        </div>"
      ]
     },
     "metadata": {},
     "output_type": "display_data"
    }
   ],
   "source": [
    "fig = go.Figure()\n",
    "\n",
    "fig.add_trace(go.Scattergeo(\n",
    "    locationmode = 'USA-states',\n",
    "    lon = heatwave_data['lon'],\n",
    "    lat = heatwave_data['lat'],\n",
    "    text = heatwave_data['name'] + '<br>Heatwaves: ' + heatwave_data['heatwave_season_length'].astype(str),\n",
    "    marker = dict(\n",
    "        size = heatwave_data['heatwave_season_length']/3,\n",
    "        color = heatwave_data['color'],\n",
    "        showscale = True,  # Show the color scale bar\n",
    "        colorbar = dict(\n",
    "            title = \"heatwave_season_length\",\n",
    "            titleside = 'top',\n",
    "            tickmode = 'array',\n",
    "            tickvals = ['lightyellow', 'yellow', 'gold', 'darkorange', 'tomato'],\n",
    "            ticktext = ['≤ 2', '> 2-4', '> 4-6', '> 6-8', '> 8'],\n",
    "            ticks = 'outside'\n",
    "        ),\n",
    "        line_color='rgb(40,40,40)',\n",
    "        line_width=0.5,\n",
    "    ),\n",
    "    hoverinfo = 'text'\n",
    "))\n",
    "\n",
    "fig.update_layout(\n",
    "    title_text = 'heatwave season length in 50 Large US Cities, 1961 to 2021',\n",
    "    geo = dict(\n",
    "        scope='usa',\n",
    "        projection_type='albers usa',\n",
    "        showland = True,\n",
    "        landcolor = 'rgb(217, 217, 217)',\n",
    "        subunitwidth=1,\n",
    "        countrywidth=1,\n",
    "        subunitcolor=\"rgb(255, 255, 255)\",\n",
    "        countrycolor=\"rgb(255, 255, 255)\"\n",
    "    ),\n",
    "    width=1000,\n",
    "    height=600,\n",
    "    margin=dict(l=50, r=50, t=50, b=50)\n",
    ")\n",
    "\n",
    "fig.show()"
   ]
  },
  {
   "cell_type": "code",
   "execution_count": 24,
   "id": "e5539308-4cbe-4b91-ae3b-30aeab9de1de",
   "metadata": {
    "tags": []
   },
   "outputs": [],
   "source": [
    "heatwave_data = heatwave_data.rename(columns = {'heatwave_season_length': 'season_length'})"
   ]
  },
  {
   "cell_type": "code",
   "execution_count": 26,
   "id": "c638d0ca-b617-4e75-bb61-54ac8b556b39",
   "metadata": {
    "tags": []
   },
   "outputs": [
    {
     "data": {
      "application/vnd.plotly.v1+json": {
       "config": {
        "plotlyServerURL": "https://plot.ly"
       },
       "data": [
        {
         "hoverinfo": "text",
         "lat": [
          42.6511674,
          35.0841034,
          33.7490987,
          30.2711286,
          39.2908608,
          30.4507462,
          42.3604823,
          42.8864468,
          35.2270869,
          41.8755546,
          41.5051613,
          39.9622601,
          39.7589478,
          42.3486635,
          31.8111305,
          32.753177,
          36.7394421,
          36.0726355,
          41.7634935,
          30.3321838,
          36.1662859,
          34.053717,
          38.2542376,
          35.1490215,
          25.7742658,
          43.0349931,
          29.9499323,
          35.4729886,
          39.952335,
          33.4467681,
          40.4416941,
          45.5202471,
          41.8239891,
          35.7804015,
          37.5385087,
          43.1854754,
          40.7670126,
          29.4246002,
          32.7174209,
          37.7792768,
          47.6038321,
          38.6272733,
          27.9477595,
          32.2217422,
          36.1556805
         ],
         "locationmode": "USA-states",
         "lon": [
          -73.754968,
          -106.6509851,
          -84.3901849,
          -97.7436995,
          -76.6108073,
          -91.154551,
          -71.0595678,
          -78.8783689,
          -80.8431268,
          -87.6244212,
          -81.6934446,
          -83.0007065,
          -84.1916069,
          -83.0567375,
          -106.5013493,
          -97.3327459,
          -119.7848307,
          -79.7919754,
          -72.6830523,
          -81.655651,
          -115.149225,
          -118.2427266,
          -85.759407,
          -90.0516285,
          -80.1936589,
          -87.922497,
          -90.0701156,
          -97.5170536,
          -75.163789,
          -112.0756724,
          -79.9900861,
          -122.6741949,
          -71.4128343,
          -78.6390779,
          -77.43428,
          -77.61068605,
          -111.8904308,
          -98.4951405,
          -117.1627714,
          -122.4192704,
          -122.3300624,
          -90.1978889,
          -82.458444,
          -110.9264759,
          -95.9929113
         ],
         "marker": {
          "color": [
           2,
           25.26530612244898,
           14.272727272727273,
           38.794871794871796,
           47.607142857142854,
           38.78181818181818,
           40.389830508474574,
           34.88095238095238,
           26.818181818181817,
           32.26829268292683,
           39.27906976744186,
           8.266666666666667,
           42.410714285714285,
           39.7962962962963,
           43.5,
           24.170731707317074,
           36.183673469387756,
           30.09090909090909,
           28.38095238095238,
           21.136363636363637,
           26.06382978723404,
           47.42307692307692,
           21.717391304347824,
           23.29268292682927,
           64.64814814814815,
           35.7,
           43.10344827586207,
           36.2,
           33.651162790697676,
           16.525,
           36.608695652173914,
           21.365853658536587,
           28.22,
           29.46511627906977,
           56.666666666666664,
           42.3921568627451,
           26.454545454545453,
           35.56521739130435,
           33.64102564102564,
           75.46153846153847,
           28.916666666666668,
           27.918367346938776,
           51.255319148936174,
           27.404255319148938,
           25.877551020408163
          ],
          "colorbar": {
           "title": {
            "text": "Season Length"
           }
          },
          "colorscale": [
           [
            0,
            "rgb(255,245,240)"
           ],
           [
            0.125,
            "rgb(254,224,210)"
           ],
           [
            0.25,
            "rgb(252,187,161)"
           ],
           [
            0.375,
            "rgb(252,146,114)"
           ],
           [
            0.5,
            "rgb(251,106,74)"
           ],
           [
            0.625,
            "rgb(239,59,44)"
           ],
           [
            0.75,
            "rgb(203,24,29)"
           ],
           [
            0.875,
            "rgb(165,15,21)"
           ],
           [
            1,
            "rgb(103,0,13)"
           ]
          ],
          "line": {
           "color": "rgb(40,40,40)",
           "width": 0.5
          },
          "size": [
           1.1111111111111112,
           14.03628117913832,
           7.929292929292929,
           21.552706552706553,
           26.448412698412696,
           21.545454545454543,
           22.43879472693032,
           19.378306878306876,
           14.898989898989898,
           17.926829268292682,
           21.82170542635659,
           4.592592592592593,
           23.561507936507937,
           22.109053497942387,
           24.166666666666664,
           13.42818428184282,
           20.102040816326532,
           16.717171717171716,
           15.767195767195766,
           11.742424242424242,
           14.479905437352246,
           26.346153846153843,
           12.065217391304346,
           12.940379403794038,
           35.915637860082306,
           19.833333333333336,
           23.946360153256705,
           20.11111111111111,
           18.695090439276488,
           9.180555555555555,
           20.33816425120773,
           11.869918699186993,
           15.677777777777777,
           16.36950904392765,
           31.48148148148148,
           23.55119825708061,
           14.696969696969695,
           19.758454106280194,
           18.68945868945869,
           41.92307692307693,
           16.064814814814817,
           15.510204081632653,
           28.47517730496454,
           15.224586288416075,
           14.37641723356009
          ]
         },
         "text": [
          "Albany<br>Heatwaves: 2.0",
          "Albuquerque<br>Heatwaves: 25.26530612244898",
          "Atlanta<br>Heatwaves: 14.272727272727273",
          "Austin<br>Heatwaves: 38.794871794871796",
          "Baltimore<br>Heatwaves: 47.607142857142854",
          "Baton Rouge<br>Heatwaves: 38.78181818181818",
          "Boston<br>Heatwaves: 40.389830508474574",
          "Buffalo<br>Heatwaves: 34.88095238095238",
          "Charlotte<br>Heatwaves: 26.818181818181817",
          "Chicago<br>Heatwaves: 32.26829268292683",
          "Cleveland<br>Heatwaves: 39.27906976744186",
          "Columbus<br>Heatwaves: 8.266666666666667",
          "Dayton<br>Heatwaves: 42.410714285714285",
          "Detroit<br>Heatwaves: 39.7962962962963",
          "El Paso<br>Heatwaves: 43.5",
          "Fort Worth<br>Heatwaves: 24.170731707317074",
          "Fresno<br>Heatwaves: 36.183673469387756",
          "Greensboro<br>Heatwaves: 30.09090909090909",
          "Hartford<br>Heatwaves: 28.38095238095238",
          "Jacksonville<br>Heatwaves: 21.136363636363637",
          "Las Vegas<br>Heatwaves: 26.06382978723404",
          "Los Angeles<br>Heatwaves: 47.42307692307692",
          "Louisville<br>Heatwaves: 21.717391304347824",
          "Memphis<br>Heatwaves: 23.29268292682927",
          "Miami<br>Heatwaves: 64.64814814814815",
          "Milwaukee<br>Heatwaves: 35.7",
          "New Orleans<br>Heatwaves: 43.10344827586207",
          "Oklahoma City<br>Heatwaves: 36.2",
          "Philadelphia<br>Heatwaves: 33.651162790697676",
          "Phoenix<br>Heatwaves: 16.525",
          "Pittsburgh<br>Heatwaves: 36.608695652173914",
          "Portland<br>Heatwaves: 21.365853658536587",
          "Providence<br>Heatwaves: 28.22",
          "Raleigh<br>Heatwaves: 29.46511627906977",
          "Richmond<br>Heatwaves: 56.666666666666664",
          "Rochester<br>Heatwaves: 42.3921568627451",
          "Salt Lake City<br>Heatwaves: 26.454545454545453",
          "San Antonio<br>Heatwaves: 35.56521739130435",
          "San Diego<br>Heatwaves: 33.64102564102564",
          "San Francisco<br>Heatwaves: 75.46153846153847",
          "Seattle<br>Heatwaves: 28.916666666666668",
          "St. Louis<br>Heatwaves: 27.918367346938776",
          "Tampa<br>Heatwaves: 51.255319148936174",
          "Tucson<br>Heatwaves: 27.404255319148938",
          "Tulsa<br>Heatwaves: 25.877551020408163"
         ],
         "type": "scattergeo"
        }
       ],
       "layout": {
        "geo": {
         "countrycolor": "rgb(255, 255, 255)",
         "countrywidth": 1,
         "landcolor": "rgb(217, 217, 217)",
         "projection": {
          "type": "albers usa"
         },
         "scope": "usa",
         "showland": true,
         "subunitcolor": "rgb(255, 255, 255)",
         "subunitwidth": 1
        },
        "height": 600,
        "margin": {
         "b": 50,
         "l": 50,
         "r": 50,
         "t": 50
        },
        "template": {
         "data": {
          "bar": [
           {
            "error_x": {
             "color": "#2a3f5f"
            },
            "error_y": {
             "color": "#2a3f5f"
            },
            "marker": {
             "line": {
              "color": "#E5ECF6",
              "width": 0.5
             },
             "pattern": {
              "fillmode": "overlay",
              "size": 10,
              "solidity": 0.2
             }
            },
            "type": "bar"
           }
          ],
          "barpolar": [
           {
            "marker": {
             "line": {
              "color": "#E5ECF6",
              "width": 0.5
             },
             "pattern": {
              "fillmode": "overlay",
              "size": 10,
              "solidity": 0.2
             }
            },
            "type": "barpolar"
           }
          ],
          "carpet": [
           {
            "aaxis": {
             "endlinecolor": "#2a3f5f",
             "gridcolor": "white",
             "linecolor": "white",
             "minorgridcolor": "white",
             "startlinecolor": "#2a3f5f"
            },
            "baxis": {
             "endlinecolor": "#2a3f5f",
             "gridcolor": "white",
             "linecolor": "white",
             "minorgridcolor": "white",
             "startlinecolor": "#2a3f5f"
            },
            "type": "carpet"
           }
          ],
          "choropleth": [
           {
            "colorbar": {
             "outlinewidth": 0,
             "ticks": ""
            },
            "type": "choropleth"
           }
          ],
          "contour": [
           {
            "colorbar": {
             "outlinewidth": 0,
             "ticks": ""
            },
            "colorscale": [
             [
              0,
              "#0d0887"
             ],
             [
              0.1111111111111111,
              "#46039f"
             ],
             [
              0.2222222222222222,
              "#7201a8"
             ],
             [
              0.3333333333333333,
              "#9c179e"
             ],
             [
              0.4444444444444444,
              "#bd3786"
             ],
             [
              0.5555555555555556,
              "#d8576b"
             ],
             [
              0.6666666666666666,
              "#ed7953"
             ],
             [
              0.7777777777777778,
              "#fb9f3a"
             ],
             [
              0.8888888888888888,
              "#fdca26"
             ],
             [
              1,
              "#f0f921"
             ]
            ],
            "type": "contour"
           }
          ],
          "contourcarpet": [
           {
            "colorbar": {
             "outlinewidth": 0,
             "ticks": ""
            },
            "type": "contourcarpet"
           }
          ],
          "heatmap": [
           {
            "colorbar": {
             "outlinewidth": 0,
             "ticks": ""
            },
            "colorscale": [
             [
              0,
              "#0d0887"
             ],
             [
              0.1111111111111111,
              "#46039f"
             ],
             [
              0.2222222222222222,
              "#7201a8"
             ],
             [
              0.3333333333333333,
              "#9c179e"
             ],
             [
              0.4444444444444444,
              "#bd3786"
             ],
             [
              0.5555555555555556,
              "#d8576b"
             ],
             [
              0.6666666666666666,
              "#ed7953"
             ],
             [
              0.7777777777777778,
              "#fb9f3a"
             ],
             [
              0.8888888888888888,
              "#fdca26"
             ],
             [
              1,
              "#f0f921"
             ]
            ],
            "type": "heatmap"
           }
          ],
          "heatmapgl": [
           {
            "colorbar": {
             "outlinewidth": 0,
             "ticks": ""
            },
            "colorscale": [
             [
              0,
              "#0d0887"
             ],
             [
              0.1111111111111111,
              "#46039f"
             ],
             [
              0.2222222222222222,
              "#7201a8"
             ],
             [
              0.3333333333333333,
              "#9c179e"
             ],
             [
              0.4444444444444444,
              "#bd3786"
             ],
             [
              0.5555555555555556,
              "#d8576b"
             ],
             [
              0.6666666666666666,
              "#ed7953"
             ],
             [
              0.7777777777777778,
              "#fb9f3a"
             ],
             [
              0.8888888888888888,
              "#fdca26"
             ],
             [
              1,
              "#f0f921"
             ]
            ],
            "type": "heatmapgl"
           }
          ],
          "histogram": [
           {
            "marker": {
             "pattern": {
              "fillmode": "overlay",
              "size": 10,
              "solidity": 0.2
             }
            },
            "type": "histogram"
           }
          ],
          "histogram2d": [
           {
            "colorbar": {
             "outlinewidth": 0,
             "ticks": ""
            },
            "colorscale": [
             [
              0,
              "#0d0887"
             ],
             [
              0.1111111111111111,
              "#46039f"
             ],
             [
              0.2222222222222222,
              "#7201a8"
             ],
             [
              0.3333333333333333,
              "#9c179e"
             ],
             [
              0.4444444444444444,
              "#bd3786"
             ],
             [
              0.5555555555555556,
              "#d8576b"
             ],
             [
              0.6666666666666666,
              "#ed7953"
             ],
             [
              0.7777777777777778,
              "#fb9f3a"
             ],
             [
              0.8888888888888888,
              "#fdca26"
             ],
             [
              1,
              "#f0f921"
             ]
            ],
            "type": "histogram2d"
           }
          ],
          "histogram2dcontour": [
           {
            "colorbar": {
             "outlinewidth": 0,
             "ticks": ""
            },
            "colorscale": [
             [
              0,
              "#0d0887"
             ],
             [
              0.1111111111111111,
              "#46039f"
             ],
             [
              0.2222222222222222,
              "#7201a8"
             ],
             [
              0.3333333333333333,
              "#9c179e"
             ],
             [
              0.4444444444444444,
              "#bd3786"
             ],
             [
              0.5555555555555556,
              "#d8576b"
             ],
             [
              0.6666666666666666,
              "#ed7953"
             ],
             [
              0.7777777777777778,
              "#fb9f3a"
             ],
             [
              0.8888888888888888,
              "#fdca26"
             ],
             [
              1,
              "#f0f921"
             ]
            ],
            "type": "histogram2dcontour"
           }
          ],
          "mesh3d": [
           {
            "colorbar": {
             "outlinewidth": 0,
             "ticks": ""
            },
            "type": "mesh3d"
           }
          ],
          "parcoords": [
           {
            "line": {
             "colorbar": {
              "outlinewidth": 0,
              "ticks": ""
             }
            },
            "type": "parcoords"
           }
          ],
          "pie": [
           {
            "automargin": true,
            "type": "pie"
           }
          ],
          "scatter": [
           {
            "fillpattern": {
             "fillmode": "overlay",
             "size": 10,
             "solidity": 0.2
            },
            "type": "scatter"
           }
          ],
          "scatter3d": [
           {
            "line": {
             "colorbar": {
              "outlinewidth": 0,
              "ticks": ""
             }
            },
            "marker": {
             "colorbar": {
              "outlinewidth": 0,
              "ticks": ""
             }
            },
            "type": "scatter3d"
           }
          ],
          "scattercarpet": [
           {
            "marker": {
             "colorbar": {
              "outlinewidth": 0,
              "ticks": ""
             }
            },
            "type": "scattercarpet"
           }
          ],
          "scattergeo": [
           {
            "marker": {
             "colorbar": {
              "outlinewidth": 0,
              "ticks": ""
             }
            },
            "type": "scattergeo"
           }
          ],
          "scattergl": [
           {
            "marker": {
             "colorbar": {
              "outlinewidth": 0,
              "ticks": ""
             }
            },
            "type": "scattergl"
           }
          ],
          "scattermapbox": [
           {
            "marker": {
             "colorbar": {
              "outlinewidth": 0,
              "ticks": ""
             }
            },
            "type": "scattermapbox"
           }
          ],
          "scatterpolar": [
           {
            "marker": {
             "colorbar": {
              "outlinewidth": 0,
              "ticks": ""
             }
            },
            "type": "scatterpolar"
           }
          ],
          "scatterpolargl": [
           {
            "marker": {
             "colorbar": {
              "outlinewidth": 0,
              "ticks": ""
             }
            },
            "type": "scatterpolargl"
           }
          ],
          "scatterternary": [
           {
            "marker": {
             "colorbar": {
              "outlinewidth": 0,
              "ticks": ""
             }
            },
            "type": "scatterternary"
           }
          ],
          "surface": [
           {
            "colorbar": {
             "outlinewidth": 0,
             "ticks": ""
            },
            "colorscale": [
             [
              0,
              "#0d0887"
             ],
             [
              0.1111111111111111,
              "#46039f"
             ],
             [
              0.2222222222222222,
              "#7201a8"
             ],
             [
              0.3333333333333333,
              "#9c179e"
             ],
             [
              0.4444444444444444,
              "#bd3786"
             ],
             [
              0.5555555555555556,
              "#d8576b"
             ],
             [
              0.6666666666666666,
              "#ed7953"
             ],
             [
              0.7777777777777778,
              "#fb9f3a"
             ],
             [
              0.8888888888888888,
              "#fdca26"
             ],
             [
              1,
              "#f0f921"
             ]
            ],
            "type": "surface"
           }
          ],
          "table": [
           {
            "cells": {
             "fill": {
              "color": "#EBF0F8"
             },
             "line": {
              "color": "white"
             }
            },
            "header": {
             "fill": {
              "color": "#C8D4E3"
             },
             "line": {
              "color": "white"
             }
            },
            "type": "table"
           }
          ]
         },
         "layout": {
          "annotationdefaults": {
           "arrowcolor": "#2a3f5f",
           "arrowhead": 0,
           "arrowwidth": 1
          },
          "autotypenumbers": "strict",
          "coloraxis": {
           "colorbar": {
            "outlinewidth": 0,
            "ticks": ""
           }
          },
          "colorscale": {
           "diverging": [
            [
             0,
             "#8e0152"
            ],
            [
             0.1,
             "#c51b7d"
            ],
            [
             0.2,
             "#de77ae"
            ],
            [
             0.3,
             "#f1b6da"
            ],
            [
             0.4,
             "#fde0ef"
            ],
            [
             0.5,
             "#f7f7f7"
            ],
            [
             0.6,
             "#e6f5d0"
            ],
            [
             0.7,
             "#b8e186"
            ],
            [
             0.8,
             "#7fbc41"
            ],
            [
             0.9,
             "#4d9221"
            ],
            [
             1,
             "#276419"
            ]
           ],
           "sequential": [
            [
             0,
             "#0d0887"
            ],
            [
             0.1111111111111111,
             "#46039f"
            ],
            [
             0.2222222222222222,
             "#7201a8"
            ],
            [
             0.3333333333333333,
             "#9c179e"
            ],
            [
             0.4444444444444444,
             "#bd3786"
            ],
            [
             0.5555555555555556,
             "#d8576b"
            ],
            [
             0.6666666666666666,
             "#ed7953"
            ],
            [
             0.7777777777777778,
             "#fb9f3a"
            ],
            [
             0.8888888888888888,
             "#fdca26"
            ],
            [
             1,
             "#f0f921"
            ]
           ],
           "sequentialminus": [
            [
             0,
             "#0d0887"
            ],
            [
             0.1111111111111111,
             "#46039f"
            ],
            [
             0.2222222222222222,
             "#7201a8"
            ],
            [
             0.3333333333333333,
             "#9c179e"
            ],
            [
             0.4444444444444444,
             "#bd3786"
            ],
            [
             0.5555555555555556,
             "#d8576b"
            ],
            [
             0.6666666666666666,
             "#ed7953"
            ],
            [
             0.7777777777777778,
             "#fb9f3a"
            ],
            [
             0.8888888888888888,
             "#fdca26"
            ],
            [
             1,
             "#f0f921"
            ]
           ]
          },
          "colorway": [
           "#636efa",
           "#EF553B",
           "#00cc96",
           "#ab63fa",
           "#FFA15A",
           "#19d3f3",
           "#FF6692",
           "#B6E880",
           "#FF97FF",
           "#FECB52"
          ],
          "font": {
           "color": "#2a3f5f"
          },
          "geo": {
           "bgcolor": "white",
           "lakecolor": "white",
           "landcolor": "#E5ECF6",
           "showlakes": true,
           "showland": true,
           "subunitcolor": "white"
          },
          "hoverlabel": {
           "align": "left"
          },
          "hovermode": "closest",
          "mapbox": {
           "style": "light"
          },
          "paper_bgcolor": "white",
          "plot_bgcolor": "#E5ECF6",
          "polar": {
           "angularaxis": {
            "gridcolor": "white",
            "linecolor": "white",
            "ticks": ""
           },
           "bgcolor": "#E5ECF6",
           "radialaxis": {
            "gridcolor": "white",
            "linecolor": "white",
            "ticks": ""
           }
          },
          "scene": {
           "xaxis": {
            "backgroundcolor": "#E5ECF6",
            "gridcolor": "white",
            "gridwidth": 2,
            "linecolor": "white",
            "showbackground": true,
            "ticks": "",
            "zerolinecolor": "white"
           },
           "yaxis": {
            "backgroundcolor": "#E5ECF6",
            "gridcolor": "white",
            "gridwidth": 2,
            "linecolor": "white",
            "showbackground": true,
            "ticks": "",
            "zerolinecolor": "white"
           },
           "zaxis": {
            "backgroundcolor": "#E5ECF6",
            "gridcolor": "white",
            "gridwidth": 2,
            "linecolor": "white",
            "showbackground": true,
            "ticks": "",
            "zerolinecolor": "white"
           }
          },
          "shapedefaults": {
           "line": {
            "color": "#2a3f5f"
           }
          },
          "ternary": {
           "aaxis": {
            "gridcolor": "white",
            "linecolor": "white",
            "ticks": ""
           },
           "baxis": {
            "gridcolor": "white",
            "linecolor": "white",
            "ticks": ""
           },
           "bgcolor": "#E5ECF6",
           "caxis": {
            "gridcolor": "white",
            "linecolor": "white",
            "ticks": ""
           }
          },
          "title": {
           "x": 0.05
          },
          "xaxis": {
           "automargin": true,
           "gridcolor": "white",
           "linecolor": "white",
           "ticks": "",
           "title": {
            "standoff": 15
           },
           "zerolinecolor": "white",
           "zerolinewidth": 2
          },
          "yaxis": {
           "automargin": true,
           "gridcolor": "white",
           "linecolor": "white",
           "ticks": "",
           "title": {
            "standoff": 15
           },
           "zerolinecolor": "white",
           "zerolinewidth": 2
          }
         }
        },
        "title": {
         "text": "Heatwave Season Length in 50 Large US Cities, 1961 to 2021"
        },
        "width": 1000
       }
      },
      "image/png": "[encoded data removed]",
      "text/html": [
       "<div>                            <div id=\"d53065e2-2fee-4a06-8932-72e76fdca15a\" class=\"plotly-graph-div\" style=\"height:600px; width:1000px;\"></div>            <script type=\"text/javascript\">                require([\"plotly\"], function(Plotly) {                    window.PLOTLYENV=window.PLOTLYENV || {};                                    if (document.getElementById(\"d53065e2-2fee-4a06-8932-72e76fdca15a\")) {                    Plotly.newPlot(                        \"d53065e2-2fee-4a06-8932-72e76fdca15a\",                        [{\"hoverinfo\":\"text\",\"lat\":[42.6511674,35.0841034,33.7490987,30.2711286,39.2908608,30.4507462,42.3604823,42.8864468,35.2270869,41.8755546,41.5051613,39.9622601,39.7589478,42.3486635,31.8111305,32.753177,36.7394421,36.0726355,41.7634935,30.3321838,36.1662859,34.053717,38.2542376,35.1490215,25.7742658,43.0349931,29.9499323,35.4729886,39.952335,33.4467681,40.4416941,45.5202471,41.8239891,35.7804015,37.5385087,43.1854754,40.7670126,29.4246002,32.7174209,37.7792768,47.6038321,38.6272733,27.9477595,32.2217422,36.1556805],\"locationmode\":\"USA-states\",\"lon\":[-73.754968,-106.6509851,-84.3901849,-97.7436995,-76.6108073,-91.154551,-71.0595678,-78.8783689,-80.8431268,-87.6244212,-81.6934446,-83.0007065,-84.1916069,-83.0567375,-106.5013493,-97.3327459,-119.7848307,-79.7919754,-72.6830523,-81.655651,-115.149225,-118.2427266,-85.759407,-90.0516285,-80.1936589,-87.922497,-90.0701156,-97.5170536,-75.163789,-112.0756724,-79.9900861,-122.6741949,-71.4128343,-78.6390779,-77.43428,-77.61068605,-111.8904308,-98.4951405,-117.1627714,-122.4192704,-122.3300624,-90.1978889,-82.458444,-110.9264759,-95.9929113],\"marker\":{\"color\":[2.0,25.26530612244898,14.272727272727273,38.794871794871796,47.607142857142854,38.78181818181818,40.389830508474574,34.88095238095238,26.818181818181817,32.26829268292683,39.27906976744186,8.266666666666667,42.410714285714285,39.7962962962963,43.5,24.170731707317074,36.183673469387756,30.09090909090909,28.38095238095238,21.136363636363637,26.06382978723404,47.42307692307692,21.717391304347824,23.29268292682927,64.64814814814815,35.7,43.10344827586207,36.2,33.651162790697676,16.525,36.608695652173914,21.365853658536587,28.22,29.46511627906977,56.666666666666664,42.3921568627451,26.454545454545453,35.56521739130435,33.64102564102564,75.46153846153847,28.916666666666668,27.918367346938776,51.255319148936174,27.404255319148938,25.877551020408163],\"colorbar\":{\"title\":{\"text\":\"Season Length\"}},\"colorscale\":[[0.0,\"rgb(255,245,240)\"],[0.125,\"rgb(254,224,210)\"],[0.25,\"rgb(252,187,161)\"],[0.375,\"rgb(252,146,114)\"],[0.5,\"rgb(251,106,74)\"],[0.625,\"rgb(239,59,44)\"],[0.75,\"rgb(203,24,29)\"],[0.875,\"rgb(165,15,21)\"],[1.0,\"rgb(103,0,13)\"]],\"line\":{\"color\":\"rgb(40,40,40)\",\"width\":0.5},\"size\":[1.1111111111111112,14.03628117913832,7.929292929292929,21.552706552706553,26.448412698412696,21.545454545454543,22.43879472693032,19.378306878306876,14.898989898989898,17.926829268292682,21.82170542635659,4.592592592592593,23.561507936507937,22.109053497942387,24.166666666666664,13.42818428184282,20.102040816326532,16.717171717171716,15.767195767195766,11.742424242424242,14.479905437352246,26.346153846153843,12.065217391304346,12.940379403794038,35.915637860082306,19.833333333333336,23.946360153256705,20.11111111111111,18.695090439276488,9.180555555555555,20.33816425120773,11.869918699186993,15.677777777777777,16.36950904392765,31.48148148148148,23.55119825708061,14.696969696969695,19.758454106280194,18.68945868945869,41.92307692307693,16.064814814814817,15.510204081632653,28.47517730496454,15.224586288416075,14.37641723356009]},\"text\":[\"Albany\\u003cbr\\u003eHeatwaves: 2.0\",\"Albuquerque\\u003cbr\\u003eHeatwaves: 25.26530612244898\",\"Atlanta\\u003cbr\\u003eHeatwaves: 14.272727272727273\",\"Austin\\u003cbr\\u003eHeatwaves: 38.794871794871796\",\"Baltimore\\u003cbr\\u003eHeatwaves: 47.607142857142854\",\"Baton Rouge\\u003cbr\\u003eHeatwaves: 38.78181818181818\",\"Boston\\u003cbr\\u003eHeatwaves: 40.389830508474574\",\"Buffalo\\u003cbr\\u003eHeatwaves: 34.88095238095238\",\"Charlotte\\u003cbr\\u003eHeatwaves: 26.818181818181817\",\"Chicago\\u003cbr\\u003eHeatwaves: 32.26829268292683\",\"Cleveland\\u003cbr\\u003eHeatwaves: 39.27906976744186\",\"Columbus\\u003cbr\\u003eHeatwaves: 8.266666666666667\",\"Dayton\\u003cbr\\u003eHeatwaves: 42.410714285714285\",\"Detroit\\u003cbr\\u003eHeatwaves: 39.7962962962963\",\"El Paso\\u003cbr\\u003eHeatwaves: 43.5\",\"Fort Worth\\u003cbr\\u003eHeatwaves: 24.170731707317074\",\"Fresno\\u003cbr\\u003eHeatwaves: 36.183673469387756\",\"Greensboro\\u003cbr\\u003eHeatwaves: 30.09090909090909\",\"Hartford\\u003cbr\\u003eHeatwaves: 28.38095238095238\",\"Jacksonville\\u003cbr\\u003eHeatwaves: 21.136363636363637\",\"Las Vegas\\u003cbr\\u003eHeatwaves: 26.06382978723404\",\"Los Angeles\\u003cbr\\u003eHeatwaves: 47.42307692307692\",\"Louisville\\u003cbr\\u003eHeatwaves: 21.717391304347824\",\"Memphis\\u003cbr\\u003eHeatwaves: 23.29268292682927\",\"Miami\\u003cbr\\u003eHeatwaves: 64.64814814814815\",\"Milwaukee\\u003cbr\\u003eHeatwaves: 35.7\",\"New Orleans\\u003cbr\\u003eHeatwaves: 43.10344827586207\",\"Oklahoma City\\u003cbr\\u003eHeatwaves: 36.2\",\"Philadelphia\\u003cbr\\u003eHeatwaves: 33.651162790697676\",\"Phoenix\\u003cbr\\u003eHeatwaves: 16.525\",\"Pittsburgh\\u003cbr\\u003eHeatwaves: 36.608695652173914\",\"Portland\\u003cbr\\u003eHeatwaves: 21.365853658536587\",\"Providence\\u003cbr\\u003eHeatwaves: 28.22\",\"Raleigh\\u003cbr\\u003eHeatwaves: 29.46511627906977\",\"Richmond\\u003cbr\\u003eHeatwaves: 56.666666666666664\",\"Rochester\\u003cbr\\u003eHeatwaves: 42.3921568627451\",\"Salt Lake City\\u003cbr\\u003eHeatwaves: 26.454545454545453\",\"San Antonio\\u003cbr\\u003eHeatwaves: 35.56521739130435\",\"San Diego\\u003cbr\\u003eHeatwaves: 33.64102564102564\",\"San Francisco\\u003cbr\\u003eHeatwaves: 75.46153846153847\",\"Seattle\\u003cbr\\u003eHeatwaves: 28.916666666666668\",\"St. Louis\\u003cbr\\u003eHeatwaves: 27.918367346938776\",\"Tampa\\u003cbr\\u003eHeatwaves: 51.255319148936174\",\"Tucson\\u003cbr\\u003eHeatwaves: 27.404255319148938\",\"Tulsa\\u003cbr\\u003eHeatwaves: 25.877551020408163\"],\"type\":\"scattergeo\"}],                        {\"template\":{\"data\":{\"histogram2dcontour\":[{\"type\":\"histogram2dcontour\",\"colorbar\":{\"outlinewidth\":0,\"ticks\":\"\"},\"colorscale\":[[0.0,\"#0d0887\"],[0.1111111111111111,\"#46039f\"],[0.2222222222222222,\"#7201a8\"],[0.3333333333333333,\"#9c179e\"],[0.4444444444444444,\"#bd3786\"],[0.5555555555555556,\"#d8576b\"],[0.6666666666666666,\"#ed7953\"],[0.7777777777777778,\"#fb9f3a\"],[0.8888888888888888,\"#fdca26\"],[1.0,\"#f0f921\"]]}],\"choropleth\":[{\"type\":\"choropleth\",\"colorbar\":{\"outlinewidth\":0,\"ticks\":\"\"}}],\"histogram2d\":[{\"type\":\"histogram2d\",\"colorbar\":{\"outlinewidth\":0,\"ticks\":\"\"},\"colorscale\":[[0.0,\"#0d0887\"],[0.1111111111111111,\"#46039f\"],[0.2222222222222222,\"#7201a8\"],[0.3333333333333333,\"#9c179e\"],[0.4444444444444444,\"#bd3786\"],[0.5555555555555556,\"#d8576b\"],[0.6666666666666666,\"#ed7953\"],[0.7777777777777778,\"#fb9f3a\"],[0.8888888888888888,\"#fdca26\"],[1.0,\"#f0f921\"]]}],\"heatmap\":[{\"type\":\"heatmap\",\"colorbar\":{\"outlinewidth\":0,\"ticks\":\"\"},\"colorscale\":[[0.0,\"#0d0887\"],[0.1111111111111111,\"#46039f\"],[0.2222222222222222,\"#7201a8\"],[0.3333333333333333,\"#9c179e\"],[0.4444444444444444,\"#bd3786\"],[0.5555555555555556,\"#d8576b\"],[0.6666666666666666,\"#ed7953\"],[0.7777777777777778,\"#fb9f3a\"],[0.8888888888888888,\"#fdca26\"],[1.0,\"#f0f921\"]]}],\"heatmapgl\":[{\"type\":\"heatmapgl\",\"colorbar\":{\"outlinewidth\":0,\"ticks\":\"\"},\"colorscale\":[[0.0,\"#0d0887\"],[0.1111111111111111,\"#46039f\"],[0.2222222222222222,\"#7201a8\"],[0.3333333333333333,\"#9c179e\"],[0.4444444444444444,\"#bd3786\"],[0.5555555555555556,\"#d8576b\"],[0.6666666666666666,\"#ed7953\"],[0.7777777777777778,\"#fb9f3a\"],[0.8888888888888888,\"#fdca26\"],[1.0,\"#f0f921\"]]}],\"contourcarpet\":[{\"type\":\"contourcarpet\",\"colorbar\":{\"outlinewidth\":0,\"ticks\":\"\"}}],\"contour\":[{\"type\":\"contour\",\"colorbar\":{\"outlinewidth\":0,\"ticks\":\"\"},\"colorscale\":[[0.0,\"#0d0887\"],[0.1111111111111111,\"#46039f\"],[0.2222222222222222,\"#7201a8\"],[0.3333333333333333,\"#9c179e\"],[0.4444444444444444,\"#bd3786\"],[0.5555555555555556,\"#d8576b\"],[0.6666666666666666,\"#ed7953\"],[0.7777777777777778,\"#fb9f3a\"],[0.8888888888888888,\"#fdca26\"],[1.0,\"#f0f921\"]]}],\"surface\":[{\"type\":\"surface\",\"colorbar\":{\"outlinewidth\":0,\"ticks\":\"\"},\"colorscale\":[[0.0,\"#0d0887\"],[0.1111111111111111,\"#46039f\"],[0.2222222222222222,\"#7201a8\"],[0.3333333333333333,\"#9c179e\"],[0.4444444444444444,\"#bd3786\"],[0.5555555555555556,\"#d8576b\"],[0.6666666666666666,\"#ed7953\"],[0.7777777777777778,\"#fb9f3a\"],[0.8888888888888888,\"#fdca26\"],[1.0,\"#f0f921\"]]}],\"mesh3d\":[{\"type\":\"mesh3d\",\"colorbar\":{\"outlinewidth\":0,\"ticks\":\"\"}}],\"scatter\":[{\"fillpattern\":{\"fillmode\":\"overlay\",\"size\":10,\"solidity\":0.2},\"type\":\"scatter\"}],\"parcoords\":[{\"type\":\"parcoords\",\"line\":{\"colorbar\":{\"outlinewidth\":0,\"ticks\":\"\"}}}],\"scatterpolargl\":[{\"type\":\"scatterpolargl\",\"marker\":{\"colorbar\":{\"outlinewidth\":0,\"ticks\":\"\"}}}],\"bar\":[{\"error_x\":{\"color\":\"#2a3f5f\"},\"error_y\":{\"color\":\"#2a3f5f\"},\"marker\":{\"line\":{\"color\":\"#E5ECF6\",\"width\":0.5},\"pattern\":{\"fillmode\":\"overlay\",\"size\":10,\"solidity\":0.2}},\"type\":\"bar\"}],\"scattergeo\":[{\"type\":\"scattergeo\",\"marker\":{\"colorbar\":{\"outlinewidth\":0,\"ticks\":\"\"}}}],\"scatterpolar\":[{\"type\":\"scatterpolar\",\"marker\":{\"colorbar\":{\"outlinewidth\":0,\"ticks\":\"\"}}}],\"histogram\":[{\"marker\":{\"pattern\":{\"fillmode\":\"overlay\",\"size\":10,\"solidity\":0.2}},\"type\":\"histogram\"}],\"scattergl\":[{\"type\":\"scattergl\",\"marker\":{\"colorbar\":{\"outlinewidth\":0,\"ticks\":\"\"}}}],\"scatter3d\":[{\"type\":\"scatter3d\",\"line\":{\"colorbar\":{\"outlinewidth\":0,\"ticks\":\"\"}},\"marker\":{\"colorbar\":{\"outlinewidth\":0,\"ticks\":\"\"}}}],\"scattermapbox\":[{\"type\":\"scattermapbox\",\"marker\":{\"colorbar\":{\"outlinewidth\":0,\"ticks\":\"\"}}}],\"scatterternary\":[{\"type\":\"scatterternary\",\"marker\":{\"colorbar\":{\"outlinewidth\":0,\"ticks\":\"\"}}}],\"scattercarpet\":[{\"type\":\"scattercarpet\",\"marker\":{\"colorbar\":{\"outlinewidth\":0,\"ticks\":\"\"}}}],\"carpet\":[{\"aaxis\":{\"endlinecolor\":\"#2a3f5f\",\"gridcolor\":\"white\",\"linecolor\":\"white\",\"minorgridcolor\":\"white\",\"startlinecolor\":\"#2a3f5f\"},\"baxis\":{\"endlinecolor\":\"#2a3f5f\",\"gridcolor\":\"white\",\"linecolor\":\"white\",\"minorgridcolor\":\"white\",\"startlinecolor\":\"#2a3f5f\"},\"type\":\"carpet\"}],\"table\":[{\"cells\":{\"fill\":{\"color\":\"#EBF0F8\"},\"line\":{\"color\":\"white\"}},\"header\":{\"fill\":{\"color\":\"#C8D4E3\"},\"line\":{\"color\":\"white\"}},\"type\":\"table\"}],\"barpolar\":[{\"marker\":{\"line\":{\"color\":\"#E5ECF6\",\"width\":0.5},\"pattern\":{\"fillmode\":\"overlay\",\"size\":10,\"solidity\":0.2}},\"type\":\"barpolar\"}],\"pie\":[{\"automargin\":true,\"type\":\"pie\"}]},\"layout\":{\"autotypenumbers\":\"strict\",\"colorway\":[\"#636efa\",\"#EF553B\",\"#00cc96\",\"#ab63fa\",\"#FFA15A\",\"#19d3f3\",\"#FF6692\",\"#B6E880\",\"#FF97FF\",\"#FECB52\"],\"font\":{\"color\":\"#2a3f5f\"},\"hovermode\":\"closest\",\"hoverlabel\":{\"align\":\"left\"},\"paper_bgcolor\":\"white\",\"plot_bgcolor\":\"#E5ECF6\",\"polar\":{\"bgcolor\":\"#E5ECF6\",\"angularaxis\":{\"gridcolor\":\"white\",\"linecolor\":\"white\",\"ticks\":\"\"},\"radialaxis\":{\"gridcolor\":\"white\",\"linecolor\":\"white\",\"ticks\":\"\"}},\"ternary\":{\"bgcolor\":\"#E5ECF6\",\"aaxis\":{\"gridcolor\":\"white\",\"linecolor\":\"white\",\"ticks\":\"\"},\"baxis\":{\"gridcolor\":\"white\",\"linecolor\":\"white\",\"ticks\":\"\"},\"caxis\":{\"gridcolor\":\"white\",\"linecolor\":\"white\",\"ticks\":\"\"}},\"coloraxis\":{\"colorbar\":{\"outlinewidth\":0,\"ticks\":\"\"}},\"colorscale\":{\"sequential\":[[0.0,\"#0d0887\"],[0.1111111111111111,\"#46039f\"],[0.2222222222222222,\"#7201a8\"],[0.3333333333333333,\"#9c179e\"],[0.4444444444444444,\"#bd3786\"],[0.5555555555555556,\"#d8576b\"],[0.6666666666666666,\"#ed7953\"],[0.7777777777777778,\"#fb9f3a\"],[0.8888888888888888,\"#fdca26\"],[1.0,\"#f0f921\"]],\"sequentialminus\":[[0.0,\"#0d0887\"],[0.1111111111111111,\"#46039f\"],[0.2222222222222222,\"#7201a8\"],[0.3333333333333333,\"#9c179e\"],[0.4444444444444444,\"#bd3786\"],[0.5555555555555556,\"#d8576b\"],[0.6666666666666666,\"#ed7953\"],[0.7777777777777778,\"#fb9f3a\"],[0.8888888888888888,\"#fdca26\"],[1.0,\"#f0f921\"]],\"diverging\":[[0,\"#8e0152\"],[0.1,\"#c51b7d\"],[0.2,\"#de77ae\"],[0.3,\"#f1b6da\"],[0.4,\"#fde0ef\"],[0.5,\"#f7f7f7\"],[0.6,\"#e6f5d0\"],[0.7,\"#b8e186\"],[0.8,\"#7fbc41\"],[0.9,\"#4d9221\"],[1,\"#276419\"]]},\"xaxis\":{\"gridcolor\":\"white\",\"linecolor\":\"white\",\"ticks\":\"\",\"title\":{\"standoff\":15},\"zerolinecolor\":\"white\",\"automargin\":true,\"zerolinewidth\":2},\"yaxis\":{\"gridcolor\":\"white\",\"linecolor\":\"white\",\"ticks\":\"\",\"title\":{\"standoff\":15},\"zerolinecolor\":\"white\",\"automargin\":true,\"zerolinewidth\":2},\"scene\":{\"xaxis\":{\"backgroundcolor\":\"#E5ECF6\",\"gridcolor\":\"white\",\"linecolor\":\"white\",\"showbackground\":true,\"ticks\":\"\",\"zerolinecolor\":\"white\",\"gridwidth\":2},\"yaxis\":{\"backgroundcolor\":\"#E5ECF6\",\"gridcolor\":\"white\",\"linecolor\":\"white\",\"showbackground\":true,\"ticks\":\"\",\"zerolinecolor\":\"white\",\"gridwidth\":2},\"zaxis\":{\"backgroundcolor\":\"#E5ECF6\",\"gridcolor\":\"white\",\"linecolor\":\"white\",\"showbackground\":true,\"ticks\":\"\",\"zerolinecolor\":\"white\",\"gridwidth\":2}},\"shapedefaults\":{\"line\":{\"color\":\"#2a3f5f\"}},\"annotationdefaults\":{\"arrowcolor\":\"#2a3f5f\",\"arrowhead\":0,\"arrowwidth\":1},\"geo\":{\"bgcolor\":\"white\",\"landcolor\":\"#E5ECF6\",\"subunitcolor\":\"white\",\"showland\":true,\"showlakes\":true,\"lakecolor\":\"white\"},\"title\":{\"x\":0.05},\"mapbox\":{\"style\":\"light\"}}},\"title\":{\"text\":\"Heatwave Season Length in 50 Large US Cities, 1961 to 2021\"},\"geo\":{\"projection\":{\"type\":\"albers usa\"},\"scope\":\"usa\",\"showland\":true,\"landcolor\":\"rgb(217, 217, 217)\",\"subunitwidth\":1,\"countrywidth\":1,\"subunitcolor\":\"rgb(255, 255, 255)\",\"countrycolor\":\"rgb(255, 255, 255)\"},\"margin\":{\"l\":50,\"r\":50,\"t\":50,\"b\":50},\"width\":1000,\"height\":600},                        {\"responsive\": true}                    ).then(function(){\n",
       "                            \n",
       "var gd = document.getElementById('d53065e2-2fee-4a06-8932-72e76fdca15a');\n",
       "var x = new MutationObserver(function (mutations, observer) {{\n",
       "        var display = window.getComputedStyle(gd).display;\n",
       "        if (!display || display === 'none') {{\n",
       "            console.log([gd, 'removed!']);\n",
       "            Plotly.purge(gd);\n",
       "            observer.disconnect();\n",
       "        }}\n",
       "}});\n",
       "\n",
       "// Listen for the removal of the full notebook cells\n",
       "var notebookContainer = gd.closest('#notebook-container');\n",
       "if (notebookContainer) {{\n",
       "    x.observe(notebookContainer, {childList: true});\n",
       "}}\n",
       "\n",
       "// Listen for the clearing of the current output cell\n",
       "var outputEl = gd.closest('.output');\n",
       "if (outputEl) {{\n",
       "    x.observe(outputEl, {childList: true});\n",
       "}}\n",
       "\n",
       "                        })                };                });            </script>        </div>"
      ]
     },
     "metadata": {},
     "output_type": "display_data"
    }
   ],
   "source": [
    "import plotly.graph_objects as go\n",
    "fig = go.Figure()\n",
    "\n",
    "fig.add_trace(go.Scattergeo(\n",
    "    locationmode = 'USA-states',\n",
    "    lon = heatwave_data['lon'],\n",
    "    lat = heatwave_data['lat'],\n",
    "    text = heatwave_data['name'] + '<br>Heatwaves: ' + heatwave_data['season_length'].astype(str),\n",
    "    marker = dict(\n",
    "        size = heatwave_data['season_length']/1.8,  # Scale marker size by heatwave count\n",
    "        color = heatwave_data['season_length'],\n",
    "        colorscale = 'Reds',\n",
    "        colorbar_title = \"Season Length\",\n",
    "        line_color='rgb(40,40,40)',\n",
    "        line_width=0.5,\n",
    "    ),\n",
    "    hoverinfo = 'text'\n",
    "))\n",
    "\n",
    "fig.update_layout(\n",
    "    title_text = 'Heatwave Season Length in 50 Large US Cities, 1961 to 2021',\n",
    "    geo = dict(\n",
    "        scope='usa',\n",
    "        projection_type='albers usa',\n",
    "        showland = True,\n",
    "        landcolor = 'rgb(217, 217, 217)',\n",
    "        subunitwidth=1,\n",
    "        countrywidth=1,\n",
    "        subunitcolor=\"rgb(255, 255, 255)\",\n",
    "        countrycolor=\"rgb(255, 255, 255)\"\n",
    "    ),\n",
    "    width=1000,  # Width of the figure in pixels\n",
    "    height=600,  # Height of the figure in pixels\n",
    "    margin=dict(l=50, r=50, t=50, b=50)\n",
    ")\n",
    "\n",
    "fig.show()\n"
   ]
  },
  {
   "cell_type": "code",
   "execution_count": null,
   "id": "cd6d9c13-2ce0-4e83-be5e-a1404940c56f",
   "metadata": {},
   "outputs": [],
   "source": []
  },
  {
   "cell_type": "code",
   "execution_count": null,
   "id": "ae2475e6-ffbd-4c63-86ef-213c75266643",
   "metadata": {},
   "outputs": [],
   "source": []
  },
  {
   "cell_type": "code",
   "execution_count": null,
   "id": "8f6d3c53-f91d-4def-8523-f0df204a976c",
   "metadata": {},
   "outputs": [],
   "source": []
  },
  {
   "cell_type": "code",
   "execution_count": null,
   "id": "db20ce5d-b702-4dce-9ab8-60d50720184e",
   "metadata": {},
   "outputs": [],
   "source": []
  },
  {
   "cell_type": "code",
   "execution_count": null,
   "id": "a6f1eecd-407c-433b-9897-4e0a48431918",
   "metadata": {},
   "outputs": [],
   "source": []
  },
  {
   "cell_type": "code",
   "execution_count": null,
   "id": "74729b01-53cf-4ab6-bc24-d08708fb2541",
   "metadata": {},
   "outputs": [],
   "source": []
  },
  {
   "cell_type": "code",
   "execution_count": null,
   "id": "ca82ce83-2910-4a3d-985b-7a8b99ab1d91",
   "metadata": {},
   "outputs": [],
   "source": []
  }
 ],
 "metadata": {
  "kernelspec": {
   "display_name": "MyEnv3",
   "language": "python",
   "name": "myenv3"
  },
  "language_info": {
   "codemirror_mode": {
    "name": "ipython",
    "version": 3
   },
   "file_extension": ".py",
   "mimetype": "text/x-python",
   "name": "python",
   "nbconvert_exporter": "python",
   "pygments_lexer": "ipython3",
   "version": "3.9.16"
  }
 },
 "nbformat": 4,
 "nbformat_minor": 5
}
