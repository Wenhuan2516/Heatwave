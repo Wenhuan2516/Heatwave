{
 "cells": [
  {
   "cell_type": "code",
   "execution_count": 1,
   "id": "53e86c78-2a17-408c-8996-9087d69f8e07",
   "metadata": {
    "tags": []
   },
   "outputs": [],
   "source": [
    "import pandas as pd\n",
    "import numpy as np\n",
    "import matplotlib.pyplot as plt\n",
    "import dask.dataframe as ddf\n",
    "from pandas import Series, DataFrame\n",
    "%matplotlib inline\n",
    "import seaborn as sn"
   ]
  },
  {
   "cell_type": "code",
   "execution_count": 2,
   "id": "0566d7d6-c9c3-4d71-8c8d-2c3dda7888a1",
   "metadata": {
    "tags": []
   },
   "outputs": [],
   "source": [
    "import geopandas as gpd\n",
    "import pandas as pd"
   ]
  },
  {
   "cell_type": "markdown",
   "id": "4e2be300-6932-4fd3-90e6-b1a2fe2853c2",
   "metadata": {},
   "source": [
    "### Load the 50 citis data"
   ]
  },
  {
   "cell_type": "markdown",
   "id": "eca2f2c0-4565-45c8-a959-d9c599163b09",
   "metadata": {},
   "source": [
    "### Heatwave Count"
   ]
  },
  {
   "cell_type": "code",
   "execution_count": 3,
   "id": "b039b8a2-2f8a-4e27-8b5d-23b90c7e1fb6",
   "metadata": {},
   "outputs": [
    {
     "data": {
      "text/html": [
       "<div>\n",
       "<style scoped>\n",
       "    .dataframe tbody tr th:only-of-type {\n",
       "        vertical-align: middle;\n",
       "    }\n",
       "\n",
       "    .dataframe tbody tr th {\n",
       "        vertical-align: top;\n",
       "    }\n",
       "\n",
       "    .dataframe thead th {\n",
       "        text-align: right;\n",
       "    }\n",
       "</style>\n",
       "<table border=\"1\" class=\"dataframe\">\n",
       "  <thead>\n",
       "    <tr style=\"text-align: right;\">\n",
       "      <th></th>\n",
       "      <th>year</th>\n",
       "      <th>month</th>\n",
       "      <th>city_name</th>\n",
       "      <th>heatwave_count</th>\n",
       "    </tr>\n",
       "  </thead>\n",
       "  <tbody>\n",
       "    <tr>\n",
       "      <th>0</th>\n",
       "      <td>1961</td>\n",
       "      <td>1</td>\n",
       "      <td>Albany</td>\n",
       "      <td>0</td>\n",
       "    </tr>\n",
       "    <tr>\n",
       "      <th>1</th>\n",
       "      <td>1961</td>\n",
       "      <td>1</td>\n",
       "      <td>Albuquerque</td>\n",
       "      <td>0</td>\n",
       "    </tr>\n",
       "    <tr>\n",
       "      <th>2</th>\n",
       "      <td>1961</td>\n",
       "      <td>1</td>\n",
       "      <td>Allentown</td>\n",
       "      <td>0</td>\n",
       "    </tr>\n",
       "    <tr>\n",
       "      <th>3</th>\n",
       "      <td>1961</td>\n",
       "      <td>1</td>\n",
       "      <td>Atlanta</td>\n",
       "      <td>0</td>\n",
       "    </tr>\n",
       "    <tr>\n",
       "      <th>4</th>\n",
       "      <td>1961</td>\n",
       "      <td>1</td>\n",
       "      <td>Austin</td>\n",
       "      <td>0</td>\n",
       "    </tr>\n",
       "    <tr>\n",
       "      <th>...</th>\n",
       "      <td>...</td>\n",
       "      <td>...</td>\n",
       "      <td>...</td>\n",
       "      <td>...</td>\n",
       "    </tr>\n",
       "    <tr>\n",
       "      <th>36088</th>\n",
       "      <td>2021</td>\n",
       "      <td>12</td>\n",
       "      <td>Seattle</td>\n",
       "      <td>0</td>\n",
       "    </tr>\n",
       "    <tr>\n",
       "      <th>36089</th>\n",
       "      <td>2021</td>\n",
       "      <td>12</td>\n",
       "      <td>St. Louis</td>\n",
       "      <td>0</td>\n",
       "    </tr>\n",
       "    <tr>\n",
       "      <th>36090</th>\n",
       "      <td>2021</td>\n",
       "      <td>12</td>\n",
       "      <td>Tampa</td>\n",
       "      <td>0</td>\n",
       "    </tr>\n",
       "    <tr>\n",
       "      <th>36091</th>\n",
       "      <td>2021</td>\n",
       "      <td>12</td>\n",
       "      <td>Tucson</td>\n",
       "      <td>0</td>\n",
       "    </tr>\n",
       "    <tr>\n",
       "      <th>36092</th>\n",
       "      <td>2021</td>\n",
       "      <td>12</td>\n",
       "      <td>Tulsa</td>\n",
       "      <td>0</td>\n",
       "    </tr>\n",
       "  </tbody>\n",
       "</table>\n",
       "<p>36093 rows × 4 columns</p>\n",
       "</div>"
      ],
      "text/plain": [
       "       year  month    city_name  heatwave_count\n",
       "0      1961      1       Albany               0\n",
       "1      1961      1  Albuquerque               0\n",
       "2      1961      1    Allentown               0\n",
       "3      1961      1      Atlanta               0\n",
       "4      1961      1       Austin               0\n",
       "...     ...    ...          ...             ...\n",
       "36088  2021     12      Seattle               0\n",
       "36089  2021     12    St. Louis               0\n",
       "36090  2021     12        Tampa               0\n",
       "36091  2021     12       Tucson               0\n",
       "36092  2021     12        Tulsa               0\n",
       "\n",
       "[36093 rows x 4 columns]"
      ]
     },
     "execution_count": 3,
     "metadata": {},
     "output_type": "execute_result"
    }
   ],
   "source": [
    "heatwave_count = pd.read_csv(r\"/global/cfs/cdirs/m1532/Projects_MVP/geospatial/climate_heatwave/city_heatwave/city_heatwave/city_heatwave_count_monthly_1961_2021.csv\").drop(columns={'Unnamed: 0'})\n",
    "heatwave_count"
   ]
  },
  {
   "cell_type": "code",
   "execution_count": 4,
   "id": "39cfe65a-efb8-4068-babf-7bfe0e80bf25",
   "metadata": {
    "tags": []
   },
   "outputs": [
    {
     "data": {
      "text/plain": [
       "count    36093.000000\n",
       "mean         0.078824\n",
       "std          0.406801\n",
       "min          0.000000\n",
       "25%          0.000000\n",
       "50%          0.000000\n",
       "75%          0.000000\n",
       "max          7.000000\n",
       "Name: heatwave_count, dtype: float64"
      ]
     },
     "execution_count": 4,
     "metadata": {},
     "output_type": "execute_result"
    }
   ],
   "source": [
    "heatwave_count['heatwave_count'].describe()"
   ]
  },
  {
   "cell_type": "code",
   "execution_count": 5,
   "id": "77cf6c4a-2c5e-4ba4-9c2b-c708144951e7",
   "metadata": {
    "tags": []
   },
   "outputs": [
    {
     "data": {
      "text/html": [
       "<div>\n",
       "<style scoped>\n",
       "    .dataframe tbody tr th:only-of-type {\n",
       "        vertical-align: middle;\n",
       "    }\n",
       "\n",
       "    .dataframe tbody tr th {\n",
       "        vertical-align: top;\n",
       "    }\n",
       "\n",
       "    .dataframe thead th {\n",
       "        text-align: right;\n",
       "    }\n",
       "</style>\n",
       "<table border=\"1\" class=\"dataframe\">\n",
       "  <thead>\n",
       "    <tr style=\"text-align: right;\">\n",
       "      <th></th>\n",
       "      <th>year</th>\n",
       "      <th>city_name</th>\n",
       "      <th>heatwave_count</th>\n",
       "    </tr>\n",
       "  </thead>\n",
       "  <tbody>\n",
       "    <tr>\n",
       "      <th>0</th>\n",
       "      <td>1961</td>\n",
       "      <td>Albany</td>\n",
       "      <td>1</td>\n",
       "    </tr>\n",
       "    <tr>\n",
       "      <th>1</th>\n",
       "      <td>1961</td>\n",
       "      <td>Albuquerque</td>\n",
       "      <td>0</td>\n",
       "    </tr>\n",
       "    <tr>\n",
       "      <th>2</th>\n",
       "      <td>1961</td>\n",
       "      <td>Allentown</td>\n",
       "      <td>0</td>\n",
       "    </tr>\n",
       "    <tr>\n",
       "      <th>3</th>\n",
       "      <td>1961</td>\n",
       "      <td>Atlanta</td>\n",
       "      <td>0</td>\n",
       "    </tr>\n",
       "    <tr>\n",
       "      <th>4</th>\n",
       "      <td>1961</td>\n",
       "      <td>Austin</td>\n",
       "      <td>0</td>\n",
       "    </tr>\n",
       "  </tbody>\n",
       "</table>\n",
       "</div>"
      ],
      "text/plain": [
       "   year    city_name  heatwave_count\n",
       "0  1961       Albany               1\n",
       "1  1961  Albuquerque               0\n",
       "2  1961    Allentown               0\n",
       "3  1961      Atlanta               0\n",
       "4  1961       Austin               0"
      ]
     },
     "execution_count": 5,
     "metadata": {},
     "output_type": "execute_result"
    }
   ],
   "source": [
    "heatwave_count = heatwave_count.drop('month', axis = 1)\n",
    "heatwave_count = heatwave_count.groupby(['year', 'city_name']).sum()\n",
    "heatwave_count = heatwave_count.reset_index()\n",
    "heatwave_count.head()"
   ]
  },
  {
   "cell_type": "code",
   "execution_count": 6,
   "id": "fd8b21a5-5e74-4218-a3e9-3ef104550c68",
   "metadata": {
    "tags": []
   },
   "outputs": [],
   "source": [
    "def printCityNumbers(df, years):\n",
    "    city_numbers = []\n",
    "    for year in years:\n",
    "        dict_year = {}\n",
    "        df_year = df[df['year'] == year]\n",
    "        numbers = len(df_year['city_name'].unique())\n",
    "        dict_year[year] = numbers\n",
    "        city_numbers.append(dict_year)\n",
    "    return city_numbers"
   ]
  },
  {
   "cell_type": "code",
   "execution_count": 7,
   "id": "62dfdc27-401a-436c-9b7c-b9f3bd6893a2",
   "metadata": {
    "tags": []
   },
   "outputs": [
    {
     "data": {
      "text/plain": [
       "50"
      ]
     },
     "execution_count": 7,
     "metadata": {},
     "output_type": "execute_result"
    }
   ],
   "source": [
    "len(heatwave_count['city_name'].unique())"
   ]
  },
  {
   "cell_type": "code",
   "execution_count": 8,
   "id": "e65492f7-10f9-4169-9cee-21508169d279",
   "metadata": {
    "tags": []
   },
   "outputs": [],
   "source": [
    "years = [year for year in range(1961, 2022)]"
   ]
  },
  {
   "cell_type": "code",
   "execution_count": 9,
   "id": "786ecb84-f10e-466a-babb-362d5b3c0ea8",
   "metadata": {
    "tags": []
   },
   "outputs": [
    {
     "data": {
      "text/plain": [
       "[{1961: 50},\n",
       " {1962: 50},\n",
       " {1963: 50},\n",
       " {1964: 50},\n",
       " {1965: 50},\n",
       " {1966: 50},\n",
       " {1967: 50},\n",
       " {1968: 50},\n",
       " {1969: 50},\n",
       " {1970: 50},\n",
       " {1971: 50},\n",
       " {1972: 50},\n",
       " {1973: 50},\n",
       " {1974: 50},\n",
       " {1975: 50},\n",
       " {1976: 50},\n",
       " {1977: 50},\n",
       " {1978: 50},\n",
       " {1979: 50},\n",
       " {1980: 50},\n",
       " {1981: 50},\n",
       " {1982: 50},\n",
       " {1983: 50},\n",
       " {1984: 50},\n",
       " {1985: 50},\n",
       " {1986: 50},\n",
       " {1987: 50},\n",
       " {1988: 50},\n",
       " {1989: 50},\n",
       " {1990: 50},\n",
       " {1991: 50},\n",
       " {1992: 50},\n",
       " {1993: 50},\n",
       " {1994: 50},\n",
       " {1995: 50},\n",
       " {1996: 50},\n",
       " {1997: 50},\n",
       " {1998: 50},\n",
       " {1999: 50},\n",
       " {2000: 50},\n",
       " {2001: 50},\n",
       " {2002: 50},\n",
       " {2003: 50},\n",
       " {2004: 50},\n",
       " {2005: 50},\n",
       " {2006: 50},\n",
       " {2007: 50},\n",
       " {2008: 50},\n",
       " {2009: 50},\n",
       " {2010: 50},\n",
       " {2011: 50},\n",
       " {2012: 50},\n",
       " {2013: 50},\n",
       " {2014: 50},\n",
       " {2015: 50},\n",
       " {2016: 50},\n",
       " {2017: 50},\n",
       " {2018: 50},\n",
       " {2019: 50},\n",
       " {2020: 50},\n",
       " {2021: 50}]"
      ]
     },
     "execution_count": 9,
     "metadata": {},
     "output_type": "execute_result"
    }
   ],
   "source": [
    "city_numbers_Count = printCityNumbers(heatwave_count, years)\n",
    "city_numbers_Count"
   ]
  },
  {
   "cell_type": "code",
   "execution_count": 10,
   "id": "2fa45167-5b7f-4024-b48d-c1c2a2d9acc5",
   "metadata": {
    "tags": []
   },
   "outputs": [],
   "source": [
    "def findDecade(year):\n",
    "    if year >= 1961 and year <= 1970:\n",
    "        return '1960s'\n",
    "    elif year >= 1971 and year <= 1980:\n",
    "        return '1970s'\n",
    "    elif year >= 1981 and year <= 1990:\n",
    "        return '1980s'\n",
    "    elif year >= 1991 and year <= 2000:\n",
    "        return '1990s'\n",
    "    elif year >= 2001 and year <= 2010:\n",
    "        return '2000s'\n",
    "    elif year >= 2011 and year <= 2020:\n",
    "        return '2010s'\n",
    "    else:\n",
    "        return '2020s'"
   ]
  },
  {
   "cell_type": "code",
   "execution_count": 11,
   "id": "fb1116aa-ad3b-4ae9-a8b4-deb795025a6e",
   "metadata": {
    "tags": []
   },
   "outputs": [
    {
     "data": {
      "text/html": [
       "<div>\n",
       "<style scoped>\n",
       "    .dataframe tbody tr th:only-of-type {\n",
       "        vertical-align: middle;\n",
       "    }\n",
       "\n",
       "    .dataframe tbody tr th {\n",
       "        vertical-align: top;\n",
       "    }\n",
       "\n",
       "    .dataframe thead th {\n",
       "        text-align: right;\n",
       "    }\n",
       "</style>\n",
       "<table border=\"1\" class=\"dataframe\">\n",
       "  <thead>\n",
       "    <tr style=\"text-align: right;\">\n",
       "      <th></th>\n",
       "      <th>year</th>\n",
       "      <th>city_name</th>\n",
       "      <th>heatwave_count</th>\n",
       "      <th>decade</th>\n",
       "    </tr>\n",
       "  </thead>\n",
       "  <tbody>\n",
       "    <tr>\n",
       "      <th>0</th>\n",
       "      <td>1961</td>\n",
       "      <td>Albany</td>\n",
       "      <td>1</td>\n",
       "      <td>1960s</td>\n",
       "    </tr>\n",
       "    <tr>\n",
       "      <th>1</th>\n",
       "      <td>1961</td>\n",
       "      <td>Albuquerque</td>\n",
       "      <td>0</td>\n",
       "      <td>1960s</td>\n",
       "    </tr>\n",
       "    <tr>\n",
       "      <th>2</th>\n",
       "      <td>1961</td>\n",
       "      <td>Allentown</td>\n",
       "      <td>0</td>\n",
       "      <td>1960s</td>\n",
       "    </tr>\n",
       "    <tr>\n",
       "      <th>3</th>\n",
       "      <td>1961</td>\n",
       "      <td>Atlanta</td>\n",
       "      <td>0</td>\n",
       "      <td>1960s</td>\n",
       "    </tr>\n",
       "    <tr>\n",
       "      <th>4</th>\n",
       "      <td>1961</td>\n",
       "      <td>Austin</td>\n",
       "      <td>0</td>\n",
       "      <td>1960s</td>\n",
       "    </tr>\n",
       "    <tr>\n",
       "      <th>...</th>\n",
       "      <td>...</td>\n",
       "      <td>...</td>\n",
       "      <td>...</td>\n",
       "      <td>...</td>\n",
       "    </tr>\n",
       "    <tr>\n",
       "      <th>3045</th>\n",
       "      <td>2021</td>\n",
       "      <td>Seattle</td>\n",
       "      <td>1</td>\n",
       "      <td>2020s</td>\n",
       "    </tr>\n",
       "    <tr>\n",
       "      <th>3046</th>\n",
       "      <td>2021</td>\n",
       "      <td>St. Louis</td>\n",
       "      <td>0</td>\n",
       "      <td>2020s</td>\n",
       "    </tr>\n",
       "    <tr>\n",
       "      <th>3047</th>\n",
       "      <td>2021</td>\n",
       "      <td>Tampa</td>\n",
       "      <td>9</td>\n",
       "      <td>2020s</td>\n",
       "    </tr>\n",
       "    <tr>\n",
       "      <th>3048</th>\n",
       "      <td>2021</td>\n",
       "      <td>Tucson</td>\n",
       "      <td>0</td>\n",
       "      <td>2020s</td>\n",
       "    </tr>\n",
       "    <tr>\n",
       "      <th>3049</th>\n",
       "      <td>2021</td>\n",
       "      <td>Tulsa</td>\n",
       "      <td>0</td>\n",
       "      <td>2020s</td>\n",
       "    </tr>\n",
       "  </tbody>\n",
       "</table>\n",
       "<p>3050 rows × 4 columns</p>\n",
       "</div>"
      ],
      "text/plain": [
       "      year    city_name  heatwave_count decade\n",
       "0     1961       Albany               1  1960s\n",
       "1     1961  Albuquerque               0  1960s\n",
       "2     1961    Allentown               0  1960s\n",
       "3     1961      Atlanta               0  1960s\n",
       "4     1961       Austin               0  1960s\n",
       "...    ...          ...             ...    ...\n",
       "3045  2021      Seattle               1  2020s\n",
       "3046  2021    St. Louis               0  2020s\n",
       "3047  2021        Tampa               9  2020s\n",
       "3048  2021       Tucson               0  2020s\n",
       "3049  2021        Tulsa               0  2020s\n",
       "\n",
       "[3050 rows x 4 columns]"
      ]
     },
     "execution_count": 11,
     "metadata": {},
     "output_type": "execute_result"
    }
   ],
   "source": [
    "heatwave_count['decade'] = heatwave_count['year'].apply(findDecade)\n",
    "heatwave_count"
   ]
  },
  {
   "cell_type": "code",
   "execution_count": 12,
   "id": "710b69bc-749a-4199-a0d9-baf70e44c06c",
   "metadata": {
    "tags": []
   },
   "outputs": [
    {
     "data": {
      "text/plain": [
       "50"
      ]
     },
     "execution_count": 12,
     "metadata": {},
     "output_type": "execute_result"
    }
   ],
   "source": [
    "len(heatwave_count['city_name'].unique())"
   ]
  },
  {
   "cell_type": "code",
   "execution_count": 13,
   "id": "0adefe5e-a8df-4309-8496-807b37bb08ff",
   "metadata": {
    "tags": []
   },
   "outputs": [
    {
     "data": {
      "text/plain": [
       "Index(['year', 'city_name', 'heatwave_count', 'decade'], dtype='object')"
      ]
     },
     "execution_count": 13,
     "metadata": {},
     "output_type": "execute_result"
    }
   ],
   "source": [
    "heatwave_count.columns"
   ]
  },
  {
   "cell_type": "code",
   "execution_count": 14,
   "id": "730eceb6-b42e-46b8-95ca-57991d2db6f6",
   "metadata": {
    "tags": []
   },
   "outputs": [
    {
     "data": {
      "text/html": [
       "<div>\n",
       "<style scoped>\n",
       "    .dataframe tbody tr th:only-of-type {\n",
       "        vertical-align: middle;\n",
       "    }\n",
       "\n",
       "    .dataframe tbody tr th {\n",
       "        vertical-align: top;\n",
       "    }\n",
       "\n",
       "    .dataframe thead th {\n",
       "        text-align: right;\n",
       "    }\n",
       "</style>\n",
       "<table border=\"1\" class=\"dataframe\">\n",
       "  <thead>\n",
       "    <tr style=\"text-align: right;\">\n",
       "      <th></th>\n",
       "      <th>year</th>\n",
       "      <th>decade</th>\n",
       "      <th>heatwave_count</th>\n",
       "    </tr>\n",
       "  </thead>\n",
       "  <tbody>\n",
       "    <tr>\n",
       "      <th>0</th>\n",
       "      <td>1961</td>\n",
       "      <td>1960s</td>\n",
       "      <td>3.583333</td>\n",
       "    </tr>\n",
       "    <tr>\n",
       "      <th>1</th>\n",
       "      <td>1962</td>\n",
       "      <td>1960s</td>\n",
       "      <td>3.800000</td>\n",
       "    </tr>\n",
       "    <tr>\n",
       "      <th>2</th>\n",
       "      <td>1963</td>\n",
       "      <td>1960s</td>\n",
       "      <td>3.250000</td>\n",
       "    </tr>\n",
       "    <tr>\n",
       "      <th>3</th>\n",
       "      <td>1964</td>\n",
       "      <td>1960s</td>\n",
       "      <td>2.363636</td>\n",
       "    </tr>\n",
       "    <tr>\n",
       "      <th>4</th>\n",
       "      <td>1965</td>\n",
       "      <td>1960s</td>\n",
       "      <td>1.500000</td>\n",
       "    </tr>\n",
       "    <tr>\n",
       "      <th>...</th>\n",
       "      <td>...</td>\n",
       "      <td>...</td>\n",
       "      <td>...</td>\n",
       "    </tr>\n",
       "    <tr>\n",
       "      <th>56</th>\n",
       "      <td>2017</td>\n",
       "      <td>2010s</td>\n",
       "      <td>3.631579</td>\n",
       "    </tr>\n",
       "    <tr>\n",
       "      <th>57</th>\n",
       "      <td>2018</td>\n",
       "      <td>2010s</td>\n",
       "      <td>5.050000</td>\n",
       "    </tr>\n",
       "    <tr>\n",
       "      <th>58</th>\n",
       "      <td>2019</td>\n",
       "      <td>2010s</td>\n",
       "      <td>4.045455</td>\n",
       "    </tr>\n",
       "    <tr>\n",
       "      <th>59</th>\n",
       "      <td>2020</td>\n",
       "      <td>2010s</td>\n",
       "      <td>4.611111</td>\n",
       "    </tr>\n",
       "    <tr>\n",
       "      <th>60</th>\n",
       "      <td>2021</td>\n",
       "      <td>2020s</td>\n",
       "      <td>4.529412</td>\n",
       "    </tr>\n",
       "  </tbody>\n",
       "</table>\n",
       "<p>61 rows × 3 columns</p>\n",
       "</div>"
      ],
      "text/plain": [
       "    year decade  heatwave_count\n",
       "0   1961  1960s        3.583333\n",
       "1   1962  1960s        3.800000\n",
       "2   1963  1960s        3.250000\n",
       "3   1964  1960s        2.363636\n",
       "4   1965  1960s        1.500000\n",
       "..   ...    ...             ...\n",
       "56  2017  2010s        3.631579\n",
       "57  2018  2010s        5.050000\n",
       "58  2019  2010s        4.045455\n",
       "59  2020  2010s        4.611111\n",
       "60  2021  2020s        4.529412\n",
       "\n",
       "[61 rows x 3 columns]"
      ]
     },
     "execution_count": 14,
     "metadata": {},
     "output_type": "execute_result"
    }
   ],
   "source": [
    "heatwave_year = heatwave_count.drop(['city_name'], axis = 1)\n",
    "heatwave_nonzero = heatwave_year[heatwave_year['heatwave_count'] > 0]\n",
    "heatwave_nonzero = heatwave_nonzero.groupby(['year', 'decade']).mean()\n",
    "heatwave_nonzero = heatwave_nonzero.reset_index()\n",
    "heatwave_nonzero"
   ]
  },
  {
   "cell_type": "code",
   "execution_count": 15,
   "id": "1665148f-1f36-4031-9c2f-63bb349b8afc",
   "metadata": {
    "tags": []
   },
   "outputs": [
    {
     "data": {
      "text/plain": [
       "count    61.000000\n",
       "mean      2.666018\n",
       "std       0.946410\n",
       "min       1.000000\n",
       "25%       2.030303\n",
       "50%       2.428571\n",
       "75%       3.240000\n",
       "max       5.153846\n",
       "Name: heatwave_count, dtype: float64"
      ]
     },
     "execution_count": 15,
     "metadata": {},
     "output_type": "execute_result"
    }
   ],
   "source": [
    "heatwave_nonzero['heatwave_count'].describe()"
   ]
  },
  {
   "cell_type": "code",
   "execution_count": 16,
   "id": "a8f1ef8a-ea17-4a04-90ed-dd6ee3ce1af0",
   "metadata": {
    "tags": []
   },
   "outputs": [],
   "source": [
    "decades = list(heatwave_nonzero['decade'].unique())"
   ]
  },
  {
   "cell_type": "code",
   "execution_count": 17,
   "id": "b1f35362-37bf-43f2-ac9f-19f10d672b84",
   "metadata": {
    "tags": []
   },
   "outputs": [
    {
     "name": "stdout",
     "output_type": "stream",
     "text": [
      "1960s 2.502883944486886\n",
      "1970s 1.975685234305924\n",
      "1980s 2.1015321345321345\n",
      "1990s 2.418817077659183\n",
      "2000s 2.9780772560772557\n",
      "2010s 3.8327747487609543\n",
      "2020s 4.529411764705882\n"
     ]
    }
   ],
   "source": [
    "for dec in decades:\n",
    "    df_decade = heatwave_nonzero[heatwave_nonzero['decade'] == dec]\n",
    "    print(dec, df_decade['heatwave_count'].mean())"
   ]
  },
  {
   "cell_type": "code",
   "execution_count": 18,
   "id": "58743627-1a5e-497a-bc28-9a997b21bdfd",
   "metadata": {
    "tags": []
   },
   "outputs": [
    {
     "data": {
      "image/png": "[encoded data removed]",
      "text/plain": [
       "<Figure size 640x480 with 1 Axes>"
      ]
     },
     "metadata": {},
     "output_type": "display_data"
    }
   ],
   "source": [
    "averages = heatwave_nonzero.groupby('decade')['heatwave_count'].mean()\n",
    "averages.plot(kind='bar')\n",
    "plt.xlabel('decade')\n",
    "plt.ylabel('Average number of heat waves per year')\n",
    "plt.title('Heat Wave Frequency')\n",
    "plt.show()"
   ]
  },
  {
   "cell_type": "markdown",
   "id": "2737a623-4dc9-4757-8f76-d74bd8831b6d",
   "metadata": {},
   "source": [
    "### Heatwave duration"
   ]
  },
  {
   "cell_type": "code",
   "execution_count": 19,
   "id": "0376f14b-9e26-454b-b007-56c9ca66af9e",
   "metadata": {
    "tags": []
   },
   "outputs": [
    {
     "data": {
      "text/html": [
       "<div>\n",
       "<style scoped>\n",
       "    .dataframe tbody tr th:only-of-type {\n",
       "        vertical-align: middle;\n",
       "    }\n",
       "\n",
       "    .dataframe tbody tr th {\n",
       "        vertical-align: top;\n",
       "    }\n",
       "\n",
       "    .dataframe thead th {\n",
       "        text-align: right;\n",
       "    }\n",
       "</style>\n",
       "<table border=\"1\" class=\"dataframe\">\n",
       "  <thead>\n",
       "    <tr style=\"text-align: right;\">\n",
       "      <th></th>\n",
       "      <th>year</th>\n",
       "      <th>city_name</th>\n",
       "      <th>AT_min</th>\n",
       "      <th>heatwave_duration</th>\n",
       "    </tr>\n",
       "  </thead>\n",
       "  <tbody>\n",
       "    <tr>\n",
       "      <th>0</th>\n",
       "      <td>1961</td>\n",
       "      <td>Buffalo</td>\n",
       "      <td>6</td>\n",
       "      <td>3</td>\n",
       "    </tr>\n",
       "    <tr>\n",
       "      <th>1</th>\n",
       "      <td>1961</td>\n",
       "      <td>Hartford</td>\n",
       "      <td>2</td>\n",
       "      <td>2</td>\n",
       "    </tr>\n",
       "    <tr>\n",
       "      <th>2</th>\n",
       "      <td>1961</td>\n",
       "      <td>Jacksonville</td>\n",
       "      <td>30</td>\n",
       "      <td>2</td>\n",
       "    </tr>\n",
       "    <tr>\n",
       "      <th>3</th>\n",
       "      <td>1961</td>\n",
       "      <td>Jacksonville</td>\n",
       "      <td>48</td>\n",
       "      <td>2</td>\n",
       "    </tr>\n",
       "    <tr>\n",
       "      <th>4</th>\n",
       "      <td>1961</td>\n",
       "      <td>Jacksonville</td>\n",
       "      <td>12</td>\n",
       "      <td>2</td>\n",
       "    </tr>\n",
       "    <tr>\n",
       "      <th>...</th>\n",
       "      <td>...</td>\n",
       "      <td>...</td>\n",
       "      <td>...</td>\n",
       "      <td>...</td>\n",
       "    </tr>\n",
       "    <tr>\n",
       "      <th>2386</th>\n",
       "      <td>2021</td>\n",
       "      <td>Tampa</td>\n",
       "      <td>4</td>\n",
       "      <td>3</td>\n",
       "    </tr>\n",
       "    <tr>\n",
       "      <th>2387</th>\n",
       "      <td>2021</td>\n",
       "      <td>Tampa</td>\n",
       "      <td>6</td>\n",
       "      <td>3</td>\n",
       "    </tr>\n",
       "    <tr>\n",
       "      <th>2388</th>\n",
       "      <td>2021</td>\n",
       "      <td>Tampa</td>\n",
       "      <td>20</td>\n",
       "      <td>3</td>\n",
       "    </tr>\n",
       "    <tr>\n",
       "      <th>2389</th>\n",
       "      <td>2021</td>\n",
       "      <td>Tampa</td>\n",
       "      <td>12</td>\n",
       "      <td>2</td>\n",
       "    </tr>\n",
       "    <tr>\n",
       "      <th>2390</th>\n",
       "      <td>2021</td>\n",
       "      <td>Tampa</td>\n",
       "      <td>32</td>\n",
       "      <td>2</td>\n",
       "    </tr>\n",
       "  </tbody>\n",
       "</table>\n",
       "<p>2391 rows × 4 columns</p>\n",
       "</div>"
      ],
      "text/plain": [
       "      year     city_name  AT_min  heatwave_duration\n",
       "0     1961       Buffalo       6                  3\n",
       "1     1961      Hartford       2                  2\n",
       "2     1961  Jacksonville      30                  2\n",
       "3     1961  Jacksonville      48                  2\n",
       "4     1961  Jacksonville      12                  2\n",
       "...    ...           ...     ...                ...\n",
       "2386  2021         Tampa       4                  3\n",
       "2387  2021         Tampa       6                  3\n",
       "2388  2021         Tampa      20                  3\n",
       "2389  2021         Tampa      12                  2\n",
       "2390  2021         Tampa      32                  2\n",
       "\n",
       "[2391 rows x 4 columns]"
      ]
     },
     "execution_count": 19,
     "metadata": {},
     "output_type": "execute_result"
    }
   ],
   "source": [
    "heatwave_duration = pd.read_csv(r\"/global/cfs/cdirs/m1532/Projects_MVP/geospatial/climate_heatwave/city_heatwave/city_heatwave/city_heatwave_duration_1961_2021.csv\").drop(columns={'Unnamed: 0'})\n",
    "heatwave_duration"
   ]
  },
  {
   "cell_type": "code",
   "execution_count": 20,
   "id": "ffefeef0-7670-4431-8af2-77f4cd7216f8",
   "metadata": {
    "tags": []
   },
   "outputs": [
    {
     "data": {
      "text/plain": [
       "[{1961: 9},\n",
       " {1962: 5},\n",
       " {1963: 6},\n",
       " {1964: 10},\n",
       " {1965: 8},\n",
       " {1966: 13},\n",
       " {1967: 6},\n",
       " {1968: 14},\n",
       " {1969: 22},\n",
       " {1970: 18},\n",
       " {1971: 14},\n",
       " {1972: 17},\n",
       " {1973: 10},\n",
       " {1974: 5},\n",
       " {1975: 7},\n",
       " {1976: 6},\n",
       " {1977: 13},\n",
       " {1978: 10},\n",
       " {1979: 10},\n",
       " {1980: 23},\n",
       " {1981: 20},\n",
       " {1982: 10},\n",
       " {1983: 18},\n",
       " {1984: 11},\n",
       " {1985: 9},\n",
       " {1986: 13},\n",
       " {1987: 8},\n",
       " {1988: 18},\n",
       " {1989: 10},\n",
       " {1990: 9},\n",
       " {1991: 15},\n",
       " {1992: 7},\n",
       " {1993: 15},\n",
       " {1994: 19},\n",
       " {1995: 23},\n",
       " {1996: 12},\n",
       " {1997: 14},\n",
       " {1998: 19},\n",
       " {1999: 24},\n",
       " {2000: 9},\n",
       " {2001: 14},\n",
       " {2002: 17},\n",
       " {2003: 10},\n",
       " {2004: 8},\n",
       " {2005: 16},\n",
       " {2006: 30},\n",
       " {2007: 21},\n",
       " {2008: 13},\n",
       " {2009: 12},\n",
       " {2010: 30},\n",
       " {2011: 29},\n",
       " {2012: 29},\n",
       " {2013: 19},\n",
       " {2014: 10},\n",
       " {2015: 19},\n",
       " {2016: 23},\n",
       " {2017: 15},\n",
       " {2018: 18},\n",
       " {2019: 17},\n",
       " {2020: 15},\n",
       " {2021: 16}]"
      ]
     },
     "execution_count": 20,
     "metadata": {},
     "output_type": "execute_result"
    }
   ],
   "source": [
    "city_numbers_Duration = printCityNumbers(heatwave_duration, years)\n",
    "city_numbers_Duration"
   ]
  },
  {
   "cell_type": "code",
   "execution_count": 21,
   "id": "995d1c91-bd72-4557-ae7d-4b790511fb25",
   "metadata": {
    "tags": []
   },
   "outputs": [
    {
     "data": {
      "text/plain": [
       "48"
      ]
     },
     "execution_count": 21,
     "metadata": {},
     "output_type": "execute_result"
    }
   ],
   "source": [
    "len(heatwave_duration['city_name'].unique())"
   ]
  },
  {
   "cell_type": "code",
   "execution_count": 22,
   "id": "f47fcc30-ca79-4f24-ab8a-c62471a03a51",
   "metadata": {
    "tags": []
   },
   "outputs": [
    {
     "data": {
      "text/html": [
       "<div>\n",
       "<style scoped>\n",
       "    .dataframe tbody tr th:only-of-type {\n",
       "        vertical-align: middle;\n",
       "    }\n",
       "\n",
       "    .dataframe tbody tr th {\n",
       "        vertical-align: top;\n",
       "    }\n",
       "\n",
       "    .dataframe thead th {\n",
       "        text-align: right;\n",
       "    }\n",
       "</style>\n",
       "<table border=\"1\" class=\"dataframe\">\n",
       "  <thead>\n",
       "    <tr style=\"text-align: right;\">\n",
       "      <th></th>\n",
       "      <th>year</th>\n",
       "      <th>city_name</th>\n",
       "      <th>AT_min</th>\n",
       "      <th>heatwave_duration</th>\n",
       "      <th>decade</th>\n",
       "    </tr>\n",
       "  </thead>\n",
       "  <tbody>\n",
       "    <tr>\n",
       "      <th>0</th>\n",
       "      <td>1961</td>\n",
       "      <td>Buffalo</td>\n",
       "      <td>6</td>\n",
       "      <td>3</td>\n",
       "      <td>1960s</td>\n",
       "    </tr>\n",
       "    <tr>\n",
       "      <th>1</th>\n",
       "      <td>1961</td>\n",
       "      <td>Hartford</td>\n",
       "      <td>2</td>\n",
       "      <td>2</td>\n",
       "      <td>1960s</td>\n",
       "    </tr>\n",
       "    <tr>\n",
       "      <th>2</th>\n",
       "      <td>1961</td>\n",
       "      <td>Jacksonville</td>\n",
       "      <td>30</td>\n",
       "      <td>2</td>\n",
       "      <td>1960s</td>\n",
       "    </tr>\n",
       "    <tr>\n",
       "      <th>3</th>\n",
       "      <td>1961</td>\n",
       "      <td>Jacksonville</td>\n",
       "      <td>48</td>\n",
       "      <td>2</td>\n",
       "      <td>1960s</td>\n",
       "    </tr>\n",
       "    <tr>\n",
       "      <th>4</th>\n",
       "      <td>1961</td>\n",
       "      <td>Jacksonville</td>\n",
       "      <td>12</td>\n",
       "      <td>2</td>\n",
       "      <td>1960s</td>\n",
       "    </tr>\n",
       "    <tr>\n",
       "      <th>...</th>\n",
       "      <td>...</td>\n",
       "      <td>...</td>\n",
       "      <td>...</td>\n",
       "      <td>...</td>\n",
       "      <td>...</td>\n",
       "    </tr>\n",
       "    <tr>\n",
       "      <th>2386</th>\n",
       "      <td>2021</td>\n",
       "      <td>Tampa</td>\n",
       "      <td>4</td>\n",
       "      <td>3</td>\n",
       "      <td>2020s</td>\n",
       "    </tr>\n",
       "    <tr>\n",
       "      <th>2387</th>\n",
       "      <td>2021</td>\n",
       "      <td>Tampa</td>\n",
       "      <td>6</td>\n",
       "      <td>3</td>\n",
       "      <td>2020s</td>\n",
       "    </tr>\n",
       "    <tr>\n",
       "      <th>2388</th>\n",
       "      <td>2021</td>\n",
       "      <td>Tampa</td>\n",
       "      <td>20</td>\n",
       "      <td>3</td>\n",
       "      <td>2020s</td>\n",
       "    </tr>\n",
       "    <tr>\n",
       "      <th>2389</th>\n",
       "      <td>2021</td>\n",
       "      <td>Tampa</td>\n",
       "      <td>12</td>\n",
       "      <td>2</td>\n",
       "      <td>2020s</td>\n",
       "    </tr>\n",
       "    <tr>\n",
       "      <th>2390</th>\n",
       "      <td>2021</td>\n",
       "      <td>Tampa</td>\n",
       "      <td>32</td>\n",
       "      <td>2</td>\n",
       "      <td>2020s</td>\n",
       "    </tr>\n",
       "  </tbody>\n",
       "</table>\n",
       "<p>2391 rows × 5 columns</p>\n",
       "</div>"
      ],
      "text/plain": [
       "      year     city_name  AT_min  heatwave_duration decade\n",
       "0     1961       Buffalo       6                  3  1960s\n",
       "1     1961      Hartford       2                  2  1960s\n",
       "2     1961  Jacksonville      30                  2  1960s\n",
       "3     1961  Jacksonville      48                  2  1960s\n",
       "4     1961  Jacksonville      12                  2  1960s\n",
       "...    ...           ...     ...                ...    ...\n",
       "2386  2021         Tampa       4                  3  2020s\n",
       "2387  2021         Tampa       6                  3  2020s\n",
       "2388  2021         Tampa      20                  3  2020s\n",
       "2389  2021         Tampa      12                  2  2020s\n",
       "2390  2021         Tampa      32                  2  2020s\n",
       "\n",
       "[2391 rows x 5 columns]"
      ]
     },
     "execution_count": 22,
     "metadata": {},
     "output_type": "execute_result"
    }
   ],
   "source": [
    "heatwave_duration['decade'] = heatwave_duration['year'].apply(findDecade)\n",
    "heatwave_duration"
   ]
  },
  {
   "cell_type": "code",
   "execution_count": 23,
   "id": "3c80cc7e-0f09-4464-b530-1aa32c7b023e",
   "metadata": {},
   "outputs": [
    {
     "data": {
      "image/png": "[encoded data removed]",
      "text/plain": [
       "<Figure size 640x480 with 1 Axes>"
      ]
     },
     "metadata": {},
     "output_type": "display_data"
    }
   ],
   "source": [
    "averages = heatwave_duration.groupby('decade')['heatwave_duration'].mean()\n",
    "averages.plot(kind='bar')\n",
    "plt.xlabel('decade')\n",
    "plt.ylabel('Average length of individual heat waves (days)')\n",
    "plt.title('Heat Wave Duration')\n",
    "plt.show()"
   ]
  },
  {
   "cell_type": "markdown",
   "id": "ecc13847-fb9c-46db-ae57-d6bb8ad4bdda",
   "metadata": {},
   "source": [
    "### Heatwave Season Length"
   ]
  },
  {
   "cell_type": "code",
   "execution_count": 24,
   "id": "3e0dea98-d1e8-405f-ac06-fb793255223d",
   "metadata": {},
   "outputs": [
    {
     "data": {
      "text/html": [
       "<div>\n",
       "<style scoped>\n",
       "    .dataframe tbody tr th:only-of-type {\n",
       "        vertical-align: middle;\n",
       "    }\n",
       "\n",
       "    .dataframe tbody tr th {\n",
       "        vertical-align: top;\n",
       "    }\n",
       "\n",
       "    .dataframe thead th {\n",
       "        text-align: right;\n",
       "    }\n",
       "</style>\n",
       "<table border=\"1\" class=\"dataframe\">\n",
       "  <thead>\n",
       "    <tr style=\"text-align: right;\">\n",
       "      <th></th>\n",
       "      <th>year</th>\n",
       "      <th>city_name</th>\n",
       "      <th>heatwave_season_length</th>\n",
       "    </tr>\n",
       "  </thead>\n",
       "  <tbody>\n",
       "    <tr>\n",
       "      <th>0</th>\n",
       "      <td>1961</td>\n",
       "      <td>Buffalo</td>\n",
       "      <td>3</td>\n",
       "    </tr>\n",
       "    <tr>\n",
       "      <th>1</th>\n",
       "      <td>1961</td>\n",
       "      <td>Hartford</td>\n",
       "      <td>2</td>\n",
       "    </tr>\n",
       "    <tr>\n",
       "      <th>2</th>\n",
       "      <td>1961</td>\n",
       "      <td>Jacksonville</td>\n",
       "      <td>44</td>\n",
       "    </tr>\n",
       "    <tr>\n",
       "      <th>3</th>\n",
       "      <td>1961</td>\n",
       "      <td>Miami</td>\n",
       "      <td>88</td>\n",
       "    </tr>\n",
       "    <tr>\n",
       "      <th>4</th>\n",
       "      <td>1961</td>\n",
       "      <td>New Orleans</td>\n",
       "      <td>2</td>\n",
       "    </tr>\n",
       "    <tr>\n",
       "      <th>...</th>\n",
       "      <td>...</td>\n",
       "      <td>...</td>\n",
       "      <td>...</td>\n",
       "    </tr>\n",
       "    <tr>\n",
       "      <th>885</th>\n",
       "      <td>2021</td>\n",
       "      <td>Portland</td>\n",
       "      <td>47</td>\n",
       "    </tr>\n",
       "    <tr>\n",
       "      <th>886</th>\n",
       "      <td>2021</td>\n",
       "      <td>Providence</td>\n",
       "      <td>62</td>\n",
       "    </tr>\n",
       "    <tr>\n",
       "      <th>887</th>\n",
       "      <td>2021</td>\n",
       "      <td>Rochester</td>\n",
       "      <td>2</td>\n",
       "    </tr>\n",
       "    <tr>\n",
       "      <th>888</th>\n",
       "      <td>2021</td>\n",
       "      <td>Seattle</td>\n",
       "      <td>2</td>\n",
       "    </tr>\n",
       "    <tr>\n",
       "      <th>889</th>\n",
       "      <td>2021</td>\n",
       "      <td>Tampa</td>\n",
       "      <td>138</td>\n",
       "    </tr>\n",
       "  </tbody>\n",
       "</table>\n",
       "<p>890 rows × 3 columns</p>\n",
       "</div>"
      ],
      "text/plain": [
       "     year     city_name  heatwave_season_length\n",
       "0    1961       Buffalo                       3\n",
       "1    1961      Hartford                       2\n",
       "2    1961  Jacksonville                      44\n",
       "3    1961         Miami                      88\n",
       "4    1961   New Orleans                       2\n",
       "..    ...           ...                     ...\n",
       "885  2021      Portland                      47\n",
       "886  2021    Providence                      62\n",
       "887  2021     Rochester                       2\n",
       "888  2021       Seattle                       2\n",
       "889  2021         Tampa                     138\n",
       "\n",
       "[890 rows x 3 columns]"
      ]
     },
     "execution_count": 24,
     "metadata": {},
     "output_type": "execute_result"
    }
   ],
   "source": [
    "heatwave_length = pd.read_csv(r\"/global/cfs/cdirs/m1532/Projects_MVP/geospatial/climate_heatwave/city_heatwave/city_heatwave/city_heatwave_season_length_1961_2021.csv\", dtype = {'year': int}).drop(columns={'Unnamed: 0'})\n",
    "heatwave_length"
   ]
  },
  {
   "cell_type": "code",
   "execution_count": 25,
   "id": "b0033c29-dcc4-4ef7-b544-ccc2c3765396",
   "metadata": {
    "tags": []
   },
   "outputs": [
    {
     "data": {
      "text/html": [
       "<div>\n",
       "<style scoped>\n",
       "    .dataframe tbody tr th:only-of-type {\n",
       "        vertical-align: middle;\n",
       "    }\n",
       "\n",
       "    .dataframe tbody tr th {\n",
       "        vertical-align: top;\n",
       "    }\n",
       "\n",
       "    .dataframe thead th {\n",
       "        text-align: right;\n",
       "    }\n",
       "</style>\n",
       "<table border=\"1\" class=\"dataframe\">\n",
       "  <thead>\n",
       "    <tr style=\"text-align: right;\">\n",
       "      <th></th>\n",
       "      <th>year</th>\n",
       "      <th>city_name</th>\n",
       "      <th>heatwave_season_length</th>\n",
       "    </tr>\n",
       "  </thead>\n",
       "  <tbody>\n",
       "    <tr>\n",
       "      <th>859</th>\n",
       "      <td>2020</td>\n",
       "      <td>Austin</td>\n",
       "      <td>64</td>\n",
       "    </tr>\n",
       "    <tr>\n",
       "      <th>860</th>\n",
       "      <td>2020</td>\n",
       "      <td>Baton Rouge</td>\n",
       "      <td>66</td>\n",
       "    </tr>\n",
       "    <tr>\n",
       "      <th>861</th>\n",
       "      <td>2020</td>\n",
       "      <td>Boston</td>\n",
       "      <td>33</td>\n",
       "    </tr>\n",
       "    <tr>\n",
       "      <th>862</th>\n",
       "      <td>2020</td>\n",
       "      <td>Buffalo</td>\n",
       "      <td>41</td>\n",
       "    </tr>\n",
       "    <tr>\n",
       "      <th>863</th>\n",
       "      <td>2020</td>\n",
       "      <td>El Paso</td>\n",
       "      <td>3</td>\n",
       "    </tr>\n",
       "    <tr>\n",
       "      <th>864</th>\n",
       "      <td>2020</td>\n",
       "      <td>Jacksonville</td>\n",
       "      <td>1</td>\n",
       "    </tr>\n",
       "    <tr>\n",
       "      <th>865</th>\n",
       "      <td>2020</td>\n",
       "      <td>Las Vegas</td>\n",
       "      <td>39</td>\n",
       "    </tr>\n",
       "    <tr>\n",
       "      <th>866</th>\n",
       "      <td>2020</td>\n",
       "      <td>Miami</td>\n",
       "      <td>218</td>\n",
       "    </tr>\n",
       "    <tr>\n",
       "      <th>867</th>\n",
       "      <td>2020</td>\n",
       "      <td>New Orleans</td>\n",
       "      <td>82</td>\n",
       "    </tr>\n",
       "    <tr>\n",
       "      <th>868</th>\n",
       "      <td>2020</td>\n",
       "      <td>Providence</td>\n",
       "      <td>36</td>\n",
       "    </tr>\n",
       "    <tr>\n",
       "      <th>869</th>\n",
       "      <td>2020</td>\n",
       "      <td>San Antonio</td>\n",
       "      <td>2</td>\n",
       "    </tr>\n",
       "    <tr>\n",
       "      <th>870</th>\n",
       "      <td>2020</td>\n",
       "      <td>San Diego</td>\n",
       "      <td>10</td>\n",
       "    </tr>\n",
       "    <tr>\n",
       "      <th>871</th>\n",
       "      <td>2020</td>\n",
       "      <td>San Francisco</td>\n",
       "      <td>42</td>\n",
       "    </tr>\n",
       "    <tr>\n",
       "      <th>872</th>\n",
       "      <td>2020</td>\n",
       "      <td>Tampa</td>\n",
       "      <td>146</td>\n",
       "    </tr>\n",
       "    <tr>\n",
       "      <th>873</th>\n",
       "      <td>2020</td>\n",
       "      <td>Tucson</td>\n",
       "      <td>2</td>\n",
       "    </tr>\n",
       "  </tbody>\n",
       "</table>\n",
       "</div>"
      ],
      "text/plain": [
       "     year      city_name  heatwave_season_length\n",
       "859  2020         Austin                      64\n",
       "860  2020    Baton Rouge                      66\n",
       "861  2020         Boston                      33\n",
       "862  2020        Buffalo                      41\n",
       "863  2020        El Paso                       3\n",
       "864  2020   Jacksonville                       1\n",
       "865  2020      Las Vegas                      39\n",
       "866  2020          Miami                     218\n",
       "867  2020    New Orleans                      82\n",
       "868  2020     Providence                      36\n",
       "869  2020    San Antonio                       2\n",
       "870  2020      San Diego                      10\n",
       "871  2020  San Francisco                      42\n",
       "872  2020          Tampa                     146\n",
       "873  2020         Tucson                       2"
      ]
     },
     "execution_count": 25,
     "metadata": {},
     "output_type": "execute_result"
    }
   ],
   "source": [
    "heatwave_2020 = heatwave_length[heatwave_length['year'] == 2020]\n",
    "heatwave_2020"
   ]
  },
  {
   "cell_type": "code",
   "execution_count": 26,
   "id": "00ad1558-36ce-42a2-b9d5-e72c8ddd4404",
   "metadata": {},
   "outputs": [
    {
     "data": {
      "text/plain": [
       "48"
      ]
     },
     "execution_count": 26,
     "metadata": {},
     "output_type": "execute_result"
    }
   ],
   "source": [
    "len(heatwave_length['city_name'].unique())"
   ]
  },
  {
   "cell_type": "code",
   "execution_count": 27,
   "id": "233f8401-6cc7-4863-8f3e-243d270d3fa3",
   "metadata": {},
   "outputs": [
    {
     "data": {
      "text/html": [
       "<div>\n",
       "<style scoped>\n",
       "    .dataframe tbody tr th:only-of-type {\n",
       "        vertical-align: middle;\n",
       "    }\n",
       "\n",
       "    .dataframe tbody tr th {\n",
       "        vertical-align: top;\n",
       "    }\n",
       "\n",
       "    .dataframe thead th {\n",
       "        text-align: right;\n",
       "    }\n",
       "</style>\n",
       "<table border=\"1\" class=\"dataframe\">\n",
       "  <thead>\n",
       "    <tr style=\"text-align: right;\">\n",
       "      <th></th>\n",
       "      <th>year</th>\n",
       "      <th>city_name</th>\n",
       "      <th>heatwave_season_length</th>\n",
       "      <th>decade</th>\n",
       "    </tr>\n",
       "  </thead>\n",
       "  <tbody>\n",
       "    <tr>\n",
       "      <th>0</th>\n",
       "      <td>1961</td>\n",
       "      <td>Buffalo</td>\n",
       "      <td>3</td>\n",
       "      <td>1960s</td>\n",
       "    </tr>\n",
       "    <tr>\n",
       "      <th>1</th>\n",
       "      <td>1961</td>\n",
       "      <td>Hartford</td>\n",
       "      <td>2</td>\n",
       "      <td>1960s</td>\n",
       "    </tr>\n",
       "    <tr>\n",
       "      <th>2</th>\n",
       "      <td>1961</td>\n",
       "      <td>Jacksonville</td>\n",
       "      <td>44</td>\n",
       "      <td>1960s</td>\n",
       "    </tr>\n",
       "    <tr>\n",
       "      <th>3</th>\n",
       "      <td>1961</td>\n",
       "      <td>Miami</td>\n",
       "      <td>88</td>\n",
       "      <td>1960s</td>\n",
       "    </tr>\n",
       "    <tr>\n",
       "      <th>4</th>\n",
       "      <td>1961</td>\n",
       "      <td>New Orleans</td>\n",
       "      <td>2</td>\n",
       "      <td>1960s</td>\n",
       "    </tr>\n",
       "    <tr>\n",
       "      <th>...</th>\n",
       "      <td>...</td>\n",
       "      <td>...</td>\n",
       "      <td>...</td>\n",
       "      <td>...</td>\n",
       "    </tr>\n",
       "    <tr>\n",
       "      <th>885</th>\n",
       "      <td>2021</td>\n",
       "      <td>Portland</td>\n",
       "      <td>47</td>\n",
       "      <td>1990s</td>\n",
       "    </tr>\n",
       "    <tr>\n",
       "      <th>886</th>\n",
       "      <td>2021</td>\n",
       "      <td>Providence</td>\n",
       "      <td>62</td>\n",
       "      <td>1990s</td>\n",
       "    </tr>\n",
       "    <tr>\n",
       "      <th>887</th>\n",
       "      <td>2021</td>\n",
       "      <td>Rochester</td>\n",
       "      <td>2</td>\n",
       "      <td>1990s</td>\n",
       "    </tr>\n",
       "    <tr>\n",
       "      <th>888</th>\n",
       "      <td>2021</td>\n",
       "      <td>Seattle</td>\n",
       "      <td>2</td>\n",
       "      <td>1990s</td>\n",
       "    </tr>\n",
       "    <tr>\n",
       "      <th>889</th>\n",
       "      <td>2021</td>\n",
       "      <td>Tampa</td>\n",
       "      <td>138</td>\n",
       "      <td>1990s</td>\n",
       "    </tr>\n",
       "  </tbody>\n",
       "</table>\n",
       "<p>890 rows × 4 columns</p>\n",
       "</div>"
      ],
      "text/plain": [
       "     year     city_name  heatwave_season_length decade\n",
       "0    1961       Buffalo                       3  1960s\n",
       "1    1961      Hartford                       2  1960s\n",
       "2    1961  Jacksonville                      44  1960s\n",
       "3    1961         Miami                      88  1960s\n",
       "4    1961   New Orleans                       2  1960s\n",
       "..    ...           ...                     ...    ...\n",
       "885  2021      Portland                      47  1990s\n",
       "886  2021    Providence                      62  1990s\n",
       "887  2021     Rochester                       2  1990s\n",
       "888  2021       Seattle                       2  1990s\n",
       "889  2021         Tampa                     138  1990s\n",
       "\n",
       "[890 rows x 4 columns]"
      ]
     },
     "execution_count": 27,
     "metadata": {},
     "output_type": "execute_result"
    }
   ],
   "source": [
    "heatwave_length['decade'] = heatwave_duration['year'].apply(findDecade)\n",
    "heatwave_length"
   ]
  },
  {
   "cell_type": "code",
   "execution_count": 28,
   "id": "544aa395-7681-42af-ac6e-17c368314874",
   "metadata": {
    "tags": []
   },
   "outputs": [],
   "source": [
    "import warnings\n",
    "warnings.filterwarnings('ignore')"
   ]
  },
  {
   "cell_type": "code",
   "execution_count": 29,
   "id": "0cbd2b70-9bf9-435e-8605-c93b5e182258",
   "metadata": {
    "tags": []
   },
   "outputs": [],
   "source": [
    "heatwave_1960s = heatwave_length[(heatwave_length['year']>= 1961)&(heatwave_length['year']<= 1970)]\n",
    "heatwave_1960s['decade'] = '1960s'\n",
    "heatwave_1970s = heatwave_length[(heatwave_length['year']>= 1971)&(heatwave_length['year']<= 1980)]\n",
    "heatwave_1970s['decade'] = '1970s'\n",
    "heatwave_1980s = heatwave_length[(heatwave_length['year']>= 1981)&(heatwave_length['year']<= 1990)]\n",
    "heatwave_1980s['decade'] = '1980s'\n",
    "heatwave_1990s = heatwave_length[(heatwave_length['year']>= 1991)&(heatwave_length['year']<= 2000)]\n",
    "heatwave_1990s['decade'] = '1990s'\n",
    "heatwave_2000s = heatwave_length[(heatwave_length['year']>= 2001)&(heatwave_length['year']<= 2010)]\n",
    "heatwave_2000s['decade'] = '2000s'\n",
    "heatwave_2010s = heatwave_length[(heatwave_length['year']>= 2011)&(heatwave_length['year']<= 2020)]\n",
    "heatwave_2010s['decade'] = '2010s'\n",
    "heatwave_2020s = heatwave_length[heatwave_length['year'] >= 2021]\n",
    "heatwave_2020s['decade'] = '2020s'"
   ]
  },
  {
   "cell_type": "code",
   "execution_count": 30,
   "id": "9dc654b3-bd97-4bbd-b500-d2195750c3e6",
   "metadata": {
    "tags": []
   },
   "outputs": [
    {
     "data": {
      "text/html": [
       "<div>\n",
       "<style scoped>\n",
       "    .dataframe tbody tr th:only-of-type {\n",
       "        vertical-align: middle;\n",
       "    }\n",
       "\n",
       "    .dataframe tbody tr th {\n",
       "        vertical-align: top;\n",
       "    }\n",
       "\n",
       "    .dataframe thead th {\n",
       "        text-align: right;\n",
       "    }\n",
       "</style>\n",
       "<table border=\"1\" class=\"dataframe\">\n",
       "  <thead>\n",
       "    <tr style=\"text-align: right;\">\n",
       "      <th></th>\n",
       "      <th>year</th>\n",
       "      <th>city_name</th>\n",
       "      <th>heatwave_season_length</th>\n",
       "      <th>decade</th>\n",
       "    </tr>\n",
       "  </thead>\n",
       "  <tbody>\n",
       "    <tr>\n",
       "      <th>0</th>\n",
       "      <td>1961</td>\n",
       "      <td>Buffalo</td>\n",
       "      <td>3</td>\n",
       "      <td>1960s</td>\n",
       "    </tr>\n",
       "    <tr>\n",
       "      <th>1</th>\n",
       "      <td>1961</td>\n",
       "      <td>Hartford</td>\n",
       "      <td>2</td>\n",
       "      <td>1960s</td>\n",
       "    </tr>\n",
       "    <tr>\n",
       "      <th>2</th>\n",
       "      <td>1961</td>\n",
       "      <td>Jacksonville</td>\n",
       "      <td>44</td>\n",
       "      <td>1960s</td>\n",
       "    </tr>\n",
       "    <tr>\n",
       "      <th>3</th>\n",
       "      <td>1961</td>\n",
       "      <td>Miami</td>\n",
       "      <td>88</td>\n",
       "      <td>1960s</td>\n",
       "    </tr>\n",
       "    <tr>\n",
       "      <th>4</th>\n",
       "      <td>1961</td>\n",
       "      <td>New Orleans</td>\n",
       "      <td>2</td>\n",
       "      <td>1960s</td>\n",
       "    </tr>\n",
       "    <tr>\n",
       "      <th>...</th>\n",
       "      <td>...</td>\n",
       "      <td>...</td>\n",
       "      <td>...</td>\n",
       "      <td>...</td>\n",
       "    </tr>\n",
       "    <tr>\n",
       "      <th>885</th>\n",
       "      <td>2021</td>\n",
       "      <td>Portland</td>\n",
       "      <td>47</td>\n",
       "      <td>2020s</td>\n",
       "    </tr>\n",
       "    <tr>\n",
       "      <th>886</th>\n",
       "      <td>2021</td>\n",
       "      <td>Providence</td>\n",
       "      <td>62</td>\n",
       "      <td>2020s</td>\n",
       "    </tr>\n",
       "    <tr>\n",
       "      <th>887</th>\n",
       "      <td>2021</td>\n",
       "      <td>Rochester</td>\n",
       "      <td>2</td>\n",
       "      <td>2020s</td>\n",
       "    </tr>\n",
       "    <tr>\n",
       "      <th>888</th>\n",
       "      <td>2021</td>\n",
       "      <td>Seattle</td>\n",
       "      <td>2</td>\n",
       "      <td>2020s</td>\n",
       "    </tr>\n",
       "    <tr>\n",
       "      <th>889</th>\n",
       "      <td>2021</td>\n",
       "      <td>Tampa</td>\n",
       "      <td>138</td>\n",
       "      <td>2020s</td>\n",
       "    </tr>\n",
       "  </tbody>\n",
       "</table>\n",
       "<p>890 rows × 4 columns</p>\n",
       "</div>"
      ],
      "text/plain": [
       "     year     city_name  heatwave_season_length decade\n",
       "0    1961       Buffalo                       3  1960s\n",
       "1    1961      Hartford                       2  1960s\n",
       "2    1961  Jacksonville                      44  1960s\n",
       "3    1961         Miami                      88  1960s\n",
       "4    1961   New Orleans                       2  1960s\n",
       "..    ...           ...                     ...    ...\n",
       "885  2021      Portland                      47  2020s\n",
       "886  2021    Providence                      62  2020s\n",
       "887  2021     Rochester                       2  2020s\n",
       "888  2021       Seattle                       2  2020s\n",
       "889  2021         Tampa                     138  2020s\n",
       "\n",
       "[890 rows x 4 columns]"
      ]
     },
     "execution_count": 30,
     "metadata": {},
     "output_type": "execute_result"
    }
   ],
   "source": [
    "heatwave_length = pd.concat([heatwave_1960s, heatwave_1970s, heatwave_1980s, heatwave_1990s, heatwave_2000s, heatwave_2010s, heatwave_2020s])\n",
    "heatwave_length"
   ]
  },
  {
   "cell_type": "code",
   "execution_count": 31,
   "id": "359ea6c8-c02f-4014-b40a-1a3f9c4f59a1",
   "metadata": {
    "tags": []
   },
   "outputs": [
    {
     "data": {
      "text/plain": [
       "array(['1960s', '1970s', '1980s', '1990s', '2000s', '2010s', '2020s'],\n",
       "      dtype=object)"
      ]
     },
     "execution_count": 31,
     "metadata": {},
     "output_type": "execute_result"
    }
   ],
   "source": [
    "heatwave_length['decade'].unique()"
   ]
  },
  {
   "cell_type": "code",
   "execution_count": 32,
   "id": "b69705d6-dbcb-40d5-baa6-d649637ef493",
   "metadata": {
    "tags": []
   },
   "outputs": [
    {
     "data": {
      "text/plain": [
       "array([1961, 1962, 1963, 1964, 1965, 1966, 1967, 1968, 1969, 1970, 1971,\n",
       "       1972, 1973, 1974, 1975, 1976, 1977, 1978, 1979, 1980, 1981, 1982,\n",
       "       1983, 1984, 1985, 1986, 1987, 1988, 1989, 1990, 1991, 1992, 1993,\n",
       "       1994, 1995, 1996, 1997, 1998, 1999, 2000, 2001, 2002, 2003, 2004,\n",
       "       2005, 2006, 2007, 2008, 2009, 2010, 2011, 2012, 2013, 2014, 2015,\n",
       "       2016, 2017, 2018, 2019, 2020, 2021])"
      ]
     },
     "execution_count": 32,
     "metadata": {},
     "output_type": "execute_result"
    }
   ],
   "source": [
    "heatwave_length['year'].unique()"
   ]
  },
  {
   "cell_type": "code",
   "execution_count": 33,
   "id": "ac4a40c7-3d25-4f00-880e-2579d409c765",
   "metadata": {
    "tags": []
   },
   "outputs": [
    {
     "data": {
      "image/png": "[encoded data removed]",
      "text/plain": [
       "<Figure size 640x480 with 1 Axes>"
      ]
     },
     "metadata": {},
     "output_type": "display_data"
    }
   ],
   "source": [
    "averages = heatwave_length.groupby('decade')['heatwave_season_length'].mean()\n",
    "averages.plot(kind='bar')\n",
    "plt.xlabel('decade')\n",
    "plt.ylabel('Average Length of the annual heat wave season (days)')\n",
    "plt.title('Heat Wave Season')\n",
    "plt.show()"
   ]
  },
  {
   "cell_type": "markdown",
   "id": "ee77eba6-69f0-4480-8848-c30356ca1bc3",
   "metadata": {},
   "source": [
    "#### Heatwave Intensity"
   ]
  },
  {
   "cell_type": "code",
   "execution_count": 34,
   "id": "66cc881e-3b3d-4515-b6ef-0ad7d57743d9",
   "metadata": {
    "tags": []
   },
   "outputs": [
    {
     "data": {
      "text/html": [
       "<div>\n",
       "<style scoped>\n",
       "    .dataframe tbody tr th:only-of-type {\n",
       "        vertical-align: middle;\n",
       "    }\n",
       "\n",
       "    .dataframe tbody tr th {\n",
       "        vertical-align: top;\n",
       "    }\n",
       "\n",
       "    .dataframe thead th {\n",
       "        text-align: right;\n",
       "    }\n",
       "</style>\n",
       "<table border=\"1\" class=\"dataframe\">\n",
       "  <thead>\n",
       "    <tr style=\"text-align: right;\">\n",
       "      <th></th>\n",
       "      <th>year</th>\n",
       "      <th>city_name</th>\n",
       "      <th>heatwave_intensity</th>\n",
       "    </tr>\n",
       "  </thead>\n",
       "  <tbody>\n",
       "    <tr>\n",
       "      <th>0</th>\n",
       "      <td>1961</td>\n",
       "      <td>Buffalo</td>\n",
       "      <td>4.089491</td>\n",
       "    </tr>\n",
       "    <tr>\n",
       "      <th>1</th>\n",
       "      <td>1961</td>\n",
       "      <td>Hartford</td>\n",
       "      <td>1.827083</td>\n",
       "    </tr>\n",
       "    <tr>\n",
       "      <th>2</th>\n",
       "      <td>1961</td>\n",
       "      <td>Jacksonville</td>\n",
       "      <td>0.956004</td>\n",
       "    </tr>\n",
       "    <tr>\n",
       "      <th>3</th>\n",
       "      <td>1961</td>\n",
       "      <td>Jacksonville</td>\n",
       "      <td>0.956004</td>\n",
       "    </tr>\n",
       "    <tr>\n",
       "      <th>4</th>\n",
       "      <td>1961</td>\n",
       "      <td>Jacksonville</td>\n",
       "      <td>0.956004</td>\n",
       "    </tr>\n",
       "    <tr>\n",
       "      <th>...</th>\n",
       "      <td>...</td>\n",
       "      <td>...</td>\n",
       "      <td>...</td>\n",
       "    </tr>\n",
       "    <tr>\n",
       "      <th>2386</th>\n",
       "      <td>2021</td>\n",
       "      <td>Tampa</td>\n",
       "      <td>3.034205</td>\n",
       "    </tr>\n",
       "    <tr>\n",
       "      <th>2387</th>\n",
       "      <td>2021</td>\n",
       "      <td>Tampa</td>\n",
       "      <td>3.660569</td>\n",
       "    </tr>\n",
       "    <tr>\n",
       "      <th>2388</th>\n",
       "      <td>2021</td>\n",
       "      <td>Tampa</td>\n",
       "      <td>1.802730</td>\n",
       "    </tr>\n",
       "    <tr>\n",
       "      <th>2389</th>\n",
       "      <td>2021</td>\n",
       "      <td>Tampa</td>\n",
       "      <td>1.802730</td>\n",
       "    </tr>\n",
       "    <tr>\n",
       "      <th>2390</th>\n",
       "      <td>2021</td>\n",
       "      <td>Tampa</td>\n",
       "      <td>1.802730</td>\n",
       "    </tr>\n",
       "  </tbody>\n",
       "</table>\n",
       "<p>2391 rows × 3 columns</p>\n",
       "</div>"
      ],
      "text/plain": [
       "      year     city_name  heatwave_intensity\n",
       "0     1961       Buffalo            4.089491\n",
       "1     1961      Hartford            1.827083\n",
       "2     1961  Jacksonville            0.956004\n",
       "3     1961  Jacksonville            0.956004\n",
       "4     1961  Jacksonville            0.956004\n",
       "...    ...           ...                 ...\n",
       "2386  2021         Tampa            3.034205\n",
       "2387  2021         Tampa            3.660569\n",
       "2388  2021         Tampa            1.802730\n",
       "2389  2021         Tampa            1.802730\n",
       "2390  2021         Tampa            1.802730\n",
       "\n",
       "[2391 rows x 3 columns]"
      ]
     },
     "execution_count": 34,
     "metadata": {},
     "output_type": "execute_result"
    }
   ],
   "source": [
    "heatwave_intensity = pd.read_csv(r\"/global/cfs/cdirs/m1532/Projects_MVP/geospatial/climate_heatwave/city_heatwave/city_heatwave/city_heatwave_intensity_1961_2021.csv\", dtype={'year': int}).drop(columns={'Unnamed: 0'})\n",
    "heatwave_intensity"
   ]
  },
  {
   "cell_type": "code",
   "execution_count": 35,
   "id": "75901d1b-24c6-4c39-9474-a2d35d199166",
   "metadata": {
    "tags": []
   },
   "outputs": [
    {
     "data": {
      "text/html": [
       "<div>\n",
       "<style scoped>\n",
       "    .dataframe tbody tr th:only-of-type {\n",
       "        vertical-align: middle;\n",
       "    }\n",
       "\n",
       "    .dataframe tbody tr th {\n",
       "        vertical-align: top;\n",
       "    }\n",
       "\n",
       "    .dataframe thead th {\n",
       "        text-align: right;\n",
       "    }\n",
       "</style>\n",
       "<table border=\"1\" class=\"dataframe\">\n",
       "  <thead>\n",
       "    <tr style=\"text-align: right;\">\n",
       "      <th></th>\n",
       "      <th>year</th>\n",
       "      <th>city_name</th>\n",
       "      <th>heatwave_intensity</th>\n",
       "      <th>decade</th>\n",
       "    </tr>\n",
       "  </thead>\n",
       "  <tbody>\n",
       "    <tr>\n",
       "      <th>0</th>\n",
       "      <td>1961</td>\n",
       "      <td>Buffalo</td>\n",
       "      <td>4.089491</td>\n",
       "      <td>1960s</td>\n",
       "    </tr>\n",
       "    <tr>\n",
       "      <th>1</th>\n",
       "      <td>1961</td>\n",
       "      <td>Hartford</td>\n",
       "      <td>1.827083</td>\n",
       "      <td>1960s</td>\n",
       "    </tr>\n",
       "    <tr>\n",
       "      <th>2</th>\n",
       "      <td>1961</td>\n",
       "      <td>Jacksonville</td>\n",
       "      <td>0.956004</td>\n",
       "      <td>1960s</td>\n",
       "    </tr>\n",
       "    <tr>\n",
       "      <th>3</th>\n",
       "      <td>1961</td>\n",
       "      <td>Jacksonville</td>\n",
       "      <td>0.956004</td>\n",
       "      <td>1960s</td>\n",
       "    </tr>\n",
       "    <tr>\n",
       "      <th>4</th>\n",
       "      <td>1961</td>\n",
       "      <td>Jacksonville</td>\n",
       "      <td>0.956004</td>\n",
       "      <td>1960s</td>\n",
       "    </tr>\n",
       "    <tr>\n",
       "      <th>...</th>\n",
       "      <td>...</td>\n",
       "      <td>...</td>\n",
       "      <td>...</td>\n",
       "      <td>...</td>\n",
       "    </tr>\n",
       "    <tr>\n",
       "      <th>2386</th>\n",
       "      <td>2021</td>\n",
       "      <td>Tampa</td>\n",
       "      <td>3.034205</td>\n",
       "      <td>2020s</td>\n",
       "    </tr>\n",
       "    <tr>\n",
       "      <th>2387</th>\n",
       "      <td>2021</td>\n",
       "      <td>Tampa</td>\n",
       "      <td>3.660569</td>\n",
       "      <td>2020s</td>\n",
       "    </tr>\n",
       "    <tr>\n",
       "      <th>2388</th>\n",
       "      <td>2021</td>\n",
       "      <td>Tampa</td>\n",
       "      <td>1.802730</td>\n",
       "      <td>2020s</td>\n",
       "    </tr>\n",
       "    <tr>\n",
       "      <th>2389</th>\n",
       "      <td>2021</td>\n",
       "      <td>Tampa</td>\n",
       "      <td>1.802730</td>\n",
       "      <td>2020s</td>\n",
       "    </tr>\n",
       "    <tr>\n",
       "      <th>2390</th>\n",
       "      <td>2021</td>\n",
       "      <td>Tampa</td>\n",
       "      <td>1.802730</td>\n",
       "      <td>2020s</td>\n",
       "    </tr>\n",
       "  </tbody>\n",
       "</table>\n",
       "<p>2391 rows × 4 columns</p>\n",
       "</div>"
      ],
      "text/plain": [
       "      year     city_name  heatwave_intensity decade\n",
       "0     1961       Buffalo            4.089491  1960s\n",
       "1     1961      Hartford            1.827083  1960s\n",
       "2     1961  Jacksonville            0.956004  1960s\n",
       "3     1961  Jacksonville            0.956004  1960s\n",
       "4     1961  Jacksonville            0.956004  1960s\n",
       "...    ...           ...                 ...    ...\n",
       "2386  2021         Tampa            3.034205  2020s\n",
       "2387  2021         Tampa            3.660569  2020s\n",
       "2388  2021         Tampa            1.802730  2020s\n",
       "2389  2021         Tampa            1.802730  2020s\n",
       "2390  2021         Tampa            1.802730  2020s\n",
       "\n",
       "[2391 rows x 4 columns]"
      ]
     },
     "execution_count": 35,
     "metadata": {},
     "output_type": "execute_result"
    }
   ],
   "source": [
    "heatwave_intensity['decade'] = heatwave_intensity['year'].apply(findDecade)\n",
    "heatwave_intensity"
   ]
  },
  {
   "cell_type": "code",
   "execution_count": 36,
   "id": "11f44b9b-b743-49b3-ab79-ab174a34cf66",
   "metadata": {
    "tags": []
   },
   "outputs": [
    {
     "data": {
      "image/png": "[encoded data removed]",
      "text/plain": [
       "<Figure size 640x480 with 1 Axes>"
      ]
     },
     "metadata": {},
     "output_type": "display_data"
    }
   ],
   "source": [
    "averages = heatwave_intensity.groupby('decade')['heatwave_intensity'].mean()\n",
    "averages.plot(kind='bar')\n",
    "plt.xlabel('decade')\n",
    "plt.ylabel('Average Temperature Above the local threshold during heat wave(F)')\n",
    "plt.title('Heat Wave Intensity')\n",
    "plt.show()"
   ]
  },
  {
   "cell_type": "code",
   "execution_count": null,
   "id": "4537722c-7f2b-4719-b56b-2db02d6a64ce",
   "metadata": {},
   "outputs": [],
   "source": []
  },
  {
   "cell_type": "code",
   "execution_count": null,
   "id": "c3513b29-b92b-4c58-9195-5ef02a9249b5",
   "metadata": {},
   "outputs": [],
   "source": []
  },
  {
   "cell_type": "code",
   "execution_count": null,
   "id": "8c83dcca-fb13-475b-b584-a3bbbea71dae",
   "metadata": {},
   "outputs": [],
   "source": []
  },
  {
   "cell_type": "code",
   "execution_count": null,
   "id": "905a0d76-7c66-46c1-a8c4-7ae45bf08a02",
   "metadata": {},
   "outputs": [],
   "source": []
  }
 ],
 "metadata": {
  "kernelspec": {
   "display_name": "MyEnv3",
   "language": "python",
   "name": "myenv3"
  },
  "language_info": {
   "codemirror_mode": {
    "name": "ipython",
    "version": 3
   },
   "file_extension": ".py",
   "mimetype": "text/x-python",
   "name": "python",
   "nbconvert_exporter": "python",
   "pygments_lexer": "ipython3",
   "version": "3.9.16"
  }
 },
 "nbformat": 4,
 "nbformat_minor": 5
}
