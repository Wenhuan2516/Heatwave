{
 "cells": [
  {
   "cell_type": "code",
   "execution_count": 1,
   "id": "bc0641d8-3cca-45db-aa79-5b31fc9bbeee",
   "metadata": {
    "tags": []
   },
   "outputs": [],
   "source": [
    "library(missForest)"
   ]
  },
  {
   "cell_type": "code",
   "execution_count": 2,
   "id": "aa428043-e8cc-412d-be51-66b2624bfcda",
   "metadata": {
    "tags": []
   },
   "outputs": [],
   "source": [
    "year <- '2011'"
   ]
  },
  {
   "cell_type": "code",
   "execution_count": 3,
   "id": "e643d845-cad9-420a-a6ff-c2cc88ea52ba",
   "metadata": {
    "tags": []
   },
   "outputs": [
    {
     "data": {
      "text/html": [
       "<table class=\"dataframe\">\n",
       "<caption>A data.frame: 6 × 11</caption>\n",
       "<thead>\n",
       "\t<tr><th></th><th scope=col>X</th><th scope=col>year</th><th scope=col>month</th><th scope=col>day</th><th scope=col>longitude</th><th scope=col>latitude</th><th scope=col>coor</th><th scope=col>fips</th><th scope=col>AT_mean</th><th scope=col>AT_min</th><th scope=col>AT_max</th></tr>\n",
       "\t<tr><th></th><th scope=col>&lt;int&gt;</th><th scope=col>&lt;int&gt;</th><th scope=col>&lt;int&gt;</th><th scope=col>&lt;int&gt;</th><th scope=col>&lt;dbl&gt;</th><th scope=col>&lt;dbl&gt;</th><th scope=col>&lt;chr&gt;</th><th scope=col>&lt;int&gt;</th><th scope=col>&lt;dbl&gt;</th><th scope=col>&lt;dbl&gt;</th><th scope=col>&lt;dbl&gt;</th></tr>\n",
       "</thead>\n",
       "<tbody>\n",
       "\t<tr><th scope=row>1</th><td>65431</td><td>2011</td><td>1</td><td>1</td><td>-124.160</td><td>40.810</td><td>(40.81, -124.16)  </td><td>6023</td><td> 4.373404</td><td> 1.3365097</td><td> 6.214264</td></tr>\n",
       "\t<tr><th scope=row>2</th><td>65432</td><td>2011</td><td>1</td><td>1</td><td>-123.200</td><td>39.128</td><td>(39.128, -123.2)  </td><td>6033</td><td> 2.144182</td><td>-0.7770157</td><td> 4.292999</td></tr>\n",
       "\t<tr><th scope=row>3</th><td>65433</td><td>2011</td><td>1</td><td>1</td><td>-123.200</td><td>39.128</td><td>(39.128, -123.2)  </td><td>6045</td><td> 2.144182</td><td>-0.7770157</td><td> 4.292999</td></tr>\n",
       "\t<tr><th scope=row>4</th><td>65434</td><td>2011</td><td>1</td><td>1</td><td>-121.817</td><td>37.700</td><td>(37.7, -121.817)  </td><td>6001</td><td> 3.711880</td><td> 0.8821945</td><td> 6.445694</td></tr>\n",
       "\t<tr><th scope=row>5</th><td>65435</td><td>2011</td><td>1</td><td>1</td><td>-121.433</td><td>39.133</td><td>(39.133, -121.433)</td><td>6115</td><td> 2.103692</td><td> 0.3692856</td><td> 4.624496</td></tr>\n",
       "\t<tr><th scope=row>6</th><td>65436</td><td>2011</td><td>1</td><td>1</td><td>-120.709</td><td>39.276</td><td>(39.276, -120.709)</td><td>6017</td><td>-6.520415</td><td>-8.6697006</td><td>-4.243416</td></tr>\n",
       "</tbody>\n",
       "</table>\n"
      ],
      "text/latex": [
       "A data.frame: 6 × 11\n",
       "\\begin{tabular}{r|lllllllllll}\n",
       "  & X & year & month & day & longitude & latitude & coor & fips & AT\\_mean & AT\\_min & AT\\_max\\\\\n",
       "  & <int> & <int> & <int> & <int> & <dbl> & <dbl> & <chr> & <int> & <dbl> & <dbl> & <dbl>\\\\\n",
       "\\hline\n",
       "\t1 & 65431 & 2011 & 1 & 1 & -124.160 & 40.810 & (40.81, -124.16)   & 6023 &  4.373404 &  1.3365097 &  6.214264\\\\\n",
       "\t2 & 65432 & 2011 & 1 & 1 & -123.200 & 39.128 & (39.128, -123.2)   & 6033 &  2.144182 & -0.7770157 &  4.292999\\\\\n",
       "\t3 & 65433 & 2011 & 1 & 1 & -123.200 & 39.128 & (39.128, -123.2)   & 6045 &  2.144182 & -0.7770157 &  4.292999\\\\\n",
       "\t4 & 65434 & 2011 & 1 & 1 & -121.817 & 37.700 & (37.7, -121.817)   & 6001 &  3.711880 &  0.8821945 &  6.445694\\\\\n",
       "\t5 & 65435 & 2011 & 1 & 1 & -121.433 & 39.133 & (39.133, -121.433) & 6115 &  2.103692 &  0.3692856 &  4.624496\\\\\n",
       "\t6 & 65436 & 2011 & 1 & 1 & -120.709 & 39.276 & (39.276, -120.709) & 6017 & -6.520415 & -8.6697006 & -4.243416\\\\\n",
       "\\end{tabular}\n"
      ],
      "text/markdown": [
       "\n",
       "A data.frame: 6 × 11\n",
       "\n",
       "| <!--/--> | X &lt;int&gt; | year &lt;int&gt; | month &lt;int&gt; | day &lt;int&gt; | longitude &lt;dbl&gt; | latitude &lt;dbl&gt; | coor &lt;chr&gt; | fips &lt;int&gt; | AT_mean &lt;dbl&gt; | AT_min &lt;dbl&gt; | AT_max &lt;dbl&gt; |\n",
       "|---|---|---|---|---|---|---|---|---|---|---|---|\n",
       "| 1 | 65431 | 2011 | 1 | 1 | -124.160 | 40.810 | (40.81, -124.16)   | 6023 |  4.373404 |  1.3365097 |  6.214264 |\n",
       "| 2 | 65432 | 2011 | 1 | 1 | -123.200 | 39.128 | (39.128, -123.2)   | 6033 |  2.144182 | -0.7770157 |  4.292999 |\n",
       "| 3 | 65433 | 2011 | 1 | 1 | -123.200 | 39.128 | (39.128, -123.2)   | 6045 |  2.144182 | -0.7770157 |  4.292999 |\n",
       "| 4 | 65434 | 2011 | 1 | 1 | -121.817 | 37.700 | (37.7, -121.817)   | 6001 |  3.711880 |  0.8821945 |  6.445694 |\n",
       "| 5 | 65435 | 2011 | 1 | 1 | -121.433 | 39.133 | (39.133, -121.433) | 6115 |  2.103692 |  0.3692856 |  4.624496 |\n",
       "| 6 | 65436 | 2011 | 1 | 1 | -120.709 | 39.276 | (39.276, -120.709) | 6017 | -6.520415 | -8.6697006 | -4.243416 |\n",
       "\n"
      ],
      "text/plain": [
       "  X     year month day longitude latitude coor               fips AT_mean  \n",
       "1 65431 2011 1     1   -124.160  40.810   (40.81, -124.16)   6023  4.373404\n",
       "2 65432 2011 1     1   -123.200  39.128   (39.128, -123.2)   6033  2.144182\n",
       "3 65433 2011 1     1   -123.200  39.128   (39.128, -123.2)   6045  2.144182\n",
       "4 65434 2011 1     1   -121.817  37.700   (37.7, -121.817)   6001  3.711880\n",
       "5 65435 2011 1     1   -121.433  39.133   (39.133, -121.433) 6115  2.103692\n",
       "6 65436 2011 1     1   -120.709  39.276   (39.276, -120.709) 6017 -6.520415\n",
       "  AT_min     AT_max   \n",
       "1  1.3365097  6.214264\n",
       "2 -0.7770157  4.292999\n",
       "3 -0.7770157  4.292999\n",
       "4  0.8821945  6.445694\n",
       "5  0.3692856  4.624496\n",
       "6 -8.6697006 -4.243416"
      ]
     },
     "metadata": {},
     "output_type": "display_data"
    }
   ],
   "source": [
    "apparent_temp <- read.csv(\"/global/cfs/cdirs/m1532/Projects_MVP/geospatial/Climate_Met_Office/apparent_temperature/AT_daily_by_year/AT_daily_2011.csv\")\n",
    "head(apparent_temp)"
   ]
  },
  {
   "cell_type": "code",
   "execution_count": 4,
   "id": "851ab777-945a-46e2-a554-e3af2261dded",
   "metadata": {
    "tags": []
   },
   "outputs": [
    {
     "data": {
      "text/html": [
       "<table class=\"dataframe\">\n",
       "<caption>A data.frame: 6 × 11</caption>\n",
       "<thead>\n",
       "\t<tr><th></th><th scope=col>X</th><th scope=col>year</th><th scope=col>month</th><th scope=col>day</th><th scope=col>longitude</th><th scope=col>latitude</th><th scope=col>coor</th><th scope=col>fips</th><th scope=col>AT_mean</th><th scope=col>AT_min</th><th scope=col>AT_max</th></tr>\n",
       "\t<tr><th></th><th scope=col>&lt;int&gt;</th><th scope=col>&lt;int&gt;</th><th scope=col>&lt;int&gt;</th><th scope=col>&lt;int&gt;</th><th scope=col>&lt;dbl&gt;</th><th scope=col>&lt;dbl&gt;</th><th scope=col>&lt;chr&gt;</th><th scope=col>&lt;chr&gt;</th><th scope=col>&lt;dbl&gt;</th><th scope=col>&lt;dbl&gt;</th><th scope=col>&lt;dbl&gt;</th></tr>\n",
       "</thead>\n",
       "<tbody>\n",
       "\t<tr><th scope=row>1</th><td>65431</td><td>2011</td><td>1</td><td>1</td><td>-124.160</td><td>40.810</td><td>(40.81, -124.16)  </td><td>06023</td><td> 4.373404</td><td> 1.3365097</td><td> 6.214264</td></tr>\n",
       "\t<tr><th scope=row>2</th><td>65432</td><td>2011</td><td>1</td><td>1</td><td>-123.200</td><td>39.128</td><td>(39.128, -123.2)  </td><td>06033</td><td> 2.144182</td><td>-0.7770157</td><td> 4.292999</td></tr>\n",
       "\t<tr><th scope=row>3</th><td>65433</td><td>2011</td><td>1</td><td>1</td><td>-123.200</td><td>39.128</td><td>(39.128, -123.2)  </td><td>06045</td><td> 2.144182</td><td>-0.7770157</td><td> 4.292999</td></tr>\n",
       "\t<tr><th scope=row>4</th><td>65434</td><td>2011</td><td>1</td><td>1</td><td>-121.817</td><td>37.700</td><td>(37.7, -121.817)  </td><td>06001</td><td> 3.711880</td><td> 0.8821945</td><td> 6.445694</td></tr>\n",
       "\t<tr><th scope=row>5</th><td>65435</td><td>2011</td><td>1</td><td>1</td><td>-121.433</td><td>39.133</td><td>(39.133, -121.433)</td><td>06115</td><td> 2.103692</td><td> 0.3692856</td><td> 4.624496</td></tr>\n",
       "\t<tr><th scope=row>6</th><td>65436</td><td>2011</td><td>1</td><td>1</td><td>-120.709</td><td>39.276</td><td>(39.276, -120.709)</td><td>06017</td><td>-6.520415</td><td>-8.6697006</td><td>-4.243416</td></tr>\n",
       "</tbody>\n",
       "</table>\n"
      ],
      "text/latex": [
       "A data.frame: 6 × 11\n",
       "\\begin{tabular}{r|lllllllllll}\n",
       "  & X & year & month & day & longitude & latitude & coor & fips & AT\\_mean & AT\\_min & AT\\_max\\\\\n",
       "  & <int> & <int> & <int> & <int> & <dbl> & <dbl> & <chr> & <chr> & <dbl> & <dbl> & <dbl>\\\\\n",
       "\\hline\n",
       "\t1 & 65431 & 2011 & 1 & 1 & -124.160 & 40.810 & (40.81, -124.16)   & 06023 &  4.373404 &  1.3365097 &  6.214264\\\\\n",
       "\t2 & 65432 & 2011 & 1 & 1 & -123.200 & 39.128 & (39.128, -123.2)   & 06033 &  2.144182 & -0.7770157 &  4.292999\\\\\n",
       "\t3 & 65433 & 2011 & 1 & 1 & -123.200 & 39.128 & (39.128, -123.2)   & 06045 &  2.144182 & -0.7770157 &  4.292999\\\\\n",
       "\t4 & 65434 & 2011 & 1 & 1 & -121.817 & 37.700 & (37.7, -121.817)   & 06001 &  3.711880 &  0.8821945 &  6.445694\\\\\n",
       "\t5 & 65435 & 2011 & 1 & 1 & -121.433 & 39.133 & (39.133, -121.433) & 06115 &  2.103692 &  0.3692856 &  4.624496\\\\\n",
       "\t6 & 65436 & 2011 & 1 & 1 & -120.709 & 39.276 & (39.276, -120.709) & 06017 & -6.520415 & -8.6697006 & -4.243416\\\\\n",
       "\\end{tabular}\n"
      ],
      "text/markdown": [
       "\n",
       "A data.frame: 6 × 11\n",
       "\n",
       "| <!--/--> | X &lt;int&gt; | year &lt;int&gt; | month &lt;int&gt; | day &lt;int&gt; | longitude &lt;dbl&gt; | latitude &lt;dbl&gt; | coor &lt;chr&gt; | fips &lt;chr&gt; | AT_mean &lt;dbl&gt; | AT_min &lt;dbl&gt; | AT_max &lt;dbl&gt; |\n",
       "|---|---|---|---|---|---|---|---|---|---|---|---|\n",
       "| 1 | 65431 | 2011 | 1 | 1 | -124.160 | 40.810 | (40.81, -124.16)   | 06023 |  4.373404 |  1.3365097 |  6.214264 |\n",
       "| 2 | 65432 | 2011 | 1 | 1 | -123.200 | 39.128 | (39.128, -123.2)   | 06033 |  2.144182 | -0.7770157 |  4.292999 |\n",
       "| 3 | 65433 | 2011 | 1 | 1 | -123.200 | 39.128 | (39.128, -123.2)   | 06045 |  2.144182 | -0.7770157 |  4.292999 |\n",
       "| 4 | 65434 | 2011 | 1 | 1 | -121.817 | 37.700 | (37.7, -121.817)   | 06001 |  3.711880 |  0.8821945 |  6.445694 |\n",
       "| 5 | 65435 | 2011 | 1 | 1 | -121.433 | 39.133 | (39.133, -121.433) | 06115 |  2.103692 |  0.3692856 |  4.624496 |\n",
       "| 6 | 65436 | 2011 | 1 | 1 | -120.709 | 39.276 | (39.276, -120.709) | 06017 | -6.520415 | -8.6697006 | -4.243416 |\n",
       "\n"
      ],
      "text/plain": [
       "  X     year month day longitude latitude coor               fips  AT_mean  \n",
       "1 65431 2011 1     1   -124.160  40.810   (40.81, -124.16)   06023  4.373404\n",
       "2 65432 2011 1     1   -123.200  39.128   (39.128, -123.2)   06033  2.144182\n",
       "3 65433 2011 1     1   -123.200  39.128   (39.128, -123.2)   06045  2.144182\n",
       "4 65434 2011 1     1   -121.817  37.700   (37.7, -121.817)   06001  3.711880\n",
       "5 65435 2011 1     1   -121.433  39.133   (39.133, -121.433) 06115  2.103692\n",
       "6 65436 2011 1     1   -120.709  39.276   (39.276, -120.709) 06017 -6.520415\n",
       "  AT_min     AT_max   \n",
       "1  1.3365097  6.214264\n",
       "2 -0.7770157  4.292999\n",
       "3 -0.7770157  4.292999\n",
       "4  0.8821945  6.445694\n",
       "5  0.3692856  4.624496\n",
       "6 -8.6697006 -4.243416"
      ]
     },
     "metadata": {},
     "output_type": "display_data"
    }
   ],
   "source": [
    "apparent_temp$fips <- as.character(apparent_temp$fips)\n",
    "# Convert the integer column to a character with leading zeros\n",
    "apparent_temp$fips <- formatC(as.integer(apparent_temp$fips), width = 5, format = \"d\", flag = \"0\")\n",
    "head(apparent_temp)"
   ]
  },
  {
   "cell_type": "code",
   "execution_count": 5,
   "id": "e00cf7f3-ee37-4262-9be1-842bc85f3720",
   "metadata": {
    "tags": []
   },
   "outputs": [
    {
     "name": "stdout",
     "output_type": "stream",
     "text": [
      "[1] 1739\n"
     ]
    }
   ],
   "source": [
    "print(length(unique(apparent_temp$fips)))"
   ]
  },
  {
   "cell_type": "code",
   "execution_count": 6,
   "id": "5ae13f17-54ad-4790-8f88-9594a5db0e17",
   "metadata": {
    "tags": []
   },
   "outputs": [
    {
     "data": {
      "text/html": [
       "<table class=\"dataframe\">\n",
       "<caption>A data.frame: 6 × 5</caption>\n",
       "<thead>\n",
       "\t<tr><th></th><th scope=col>X</th><th scope=col>county</th><th scope=col>fips</th><th scope=col>Neighbors</th><th scope=col>Neighbor.Code</th></tr>\n",
       "\t<tr><th></th><th scope=col>&lt;int&gt;</th><th scope=col>&lt;chr&gt;</th><th scope=col>&lt;chr&gt;</th><th scope=col>&lt;chr&gt;</th><th scope=col>&lt;chr&gt;</th></tr>\n",
       "</thead>\n",
       "<tbody>\n",
       "\t<tr><th scope=row>1</th><td>0</td><td>Abbeville County, SC</td><td>45001</td><td>Elbert County, GA, Abbeville County, SC, Anderson County, SC, Greenville County, SC, Greenwood County, SC, Laurens County, SC, McCormick County, SC                              </td><td>13105, 45001, 45007, 45045, 45047, 45059, 45065       </td></tr>\n",
       "\t<tr><th scope=row>2</th><td>1</td><td>Acadia Parish, LA   </td><td>22001</td><td>Acadia Parish, LA, Evangeline Parish, LA, Jefferson Davis Parish, LA, Lafayette Parish, LA, St. Landry Parish, LA, Vermilion Parish, LA                                          </td><td>22001, 22039, 22053, 22055, 22097, 22113              </td></tr>\n",
       "\t<tr><th scope=row>3</th><td>2</td><td>Accomack County, VA </td><td>51001</td><td>Somerset County, MD, Worcester County, MD, Accomack County, VA, Lancaster County, VA, Mathews County, VA, Middlesex County, VA, Northampton County, VA, Northumberland County, VA</td><td>24039, 24047, 51001, 51103, 51115, 51119, 51131, 51133</td></tr>\n",
       "\t<tr><th scope=row>4</th><td>3</td><td>Ada County, ID      </td><td>16001</td><td>Ada County, ID, Boise County, ID, Canyon County, ID, Elmore County, ID, Gem County, ID, Owyhee County, ID                                                                        </td><td>16001, 16015, 16027, 16039, 16045, 16073              </td></tr>\n",
       "\t<tr><th scope=row>5</th><td>4</td><td>Adair County, IA    </td><td>19001</td><td>Adair County, IA, Adams County, IA, Audubon County, IA, Cass County, IA, Dallas County, IA, Guthrie County, IA, Madison County, IA, Union County, IA                             </td><td>19001, 19003, 19009, 19029, 19049, 19077, 19121, 19175</td></tr>\n",
       "\t<tr><th scope=row>6</th><td>5</td><td>Adair County, KY    </td><td>21001</td><td>Adair County, KY, Casey County, KY, Cumberland County, KY, Green County, KY, Metcalfe County, KY, Russell County, KY, Taylor County, KY                                          </td><td>21001, 21045, 21057, 21087, 21169, 21207, 21217       </td></tr>\n",
       "</tbody>\n",
       "</table>\n"
      ],
      "text/latex": [
       "A data.frame: 6 × 5\n",
       "\\begin{tabular}{r|lllll}\n",
       "  & X & county & fips & Neighbors & Neighbor.Code\\\\\n",
       "  & <int> & <chr> & <chr> & <chr> & <chr>\\\\\n",
       "\\hline\n",
       "\t1 & 0 & Abbeville County, SC & 45001 & Elbert County, GA, Abbeville County, SC, Anderson County, SC, Greenville County, SC, Greenwood County, SC, Laurens County, SC, McCormick County, SC                               & 13105, 45001, 45007, 45045, 45047, 45059, 45065       \\\\\n",
       "\t2 & 1 & Acadia Parish, LA    & 22001 & Acadia Parish, LA, Evangeline Parish, LA, Jefferson Davis Parish, LA, Lafayette Parish, LA, St. Landry Parish, LA, Vermilion Parish, LA                                           & 22001, 22039, 22053, 22055, 22097, 22113              \\\\\n",
       "\t3 & 2 & Accomack County, VA  & 51001 & Somerset County, MD, Worcester County, MD, Accomack County, VA, Lancaster County, VA, Mathews County, VA, Middlesex County, VA, Northampton County, VA, Northumberland County, VA & 24039, 24047, 51001, 51103, 51115, 51119, 51131, 51133\\\\\n",
       "\t4 & 3 & Ada County, ID       & 16001 & Ada County, ID, Boise County, ID, Canyon County, ID, Elmore County, ID, Gem County, ID, Owyhee County, ID                                                                         & 16001, 16015, 16027, 16039, 16045, 16073              \\\\\n",
       "\t5 & 4 & Adair County, IA     & 19001 & Adair County, IA, Adams County, IA, Audubon County, IA, Cass County, IA, Dallas County, IA, Guthrie County, IA, Madison County, IA, Union County, IA                              & 19001, 19003, 19009, 19029, 19049, 19077, 19121, 19175\\\\\n",
       "\t6 & 5 & Adair County, KY     & 21001 & Adair County, KY, Casey County, KY, Cumberland County, KY, Green County, KY, Metcalfe County, KY, Russell County, KY, Taylor County, KY                                           & 21001, 21045, 21057, 21087, 21169, 21207, 21217       \\\\\n",
       "\\end{tabular}\n"
      ],
      "text/markdown": [
       "\n",
       "A data.frame: 6 × 5\n",
       "\n",
       "| <!--/--> | X &lt;int&gt; | county &lt;chr&gt; | fips &lt;chr&gt; | Neighbors &lt;chr&gt; | Neighbor.Code &lt;chr&gt; |\n",
       "|---|---|---|---|---|---|\n",
       "| 1 | 0 | Abbeville County, SC | 45001 | Elbert County, GA, Abbeville County, SC, Anderson County, SC, Greenville County, SC, Greenwood County, SC, Laurens County, SC, McCormick County, SC                               | 13105, 45001, 45007, 45045, 45047, 45059, 45065        |\n",
       "| 2 | 1 | Acadia Parish, LA    | 22001 | Acadia Parish, LA, Evangeline Parish, LA, Jefferson Davis Parish, LA, Lafayette Parish, LA, St. Landry Parish, LA, Vermilion Parish, LA                                           | 22001, 22039, 22053, 22055, 22097, 22113               |\n",
       "| 3 | 2 | Accomack County, VA  | 51001 | Somerset County, MD, Worcester County, MD, Accomack County, VA, Lancaster County, VA, Mathews County, VA, Middlesex County, VA, Northampton County, VA, Northumberland County, VA | 24039, 24047, 51001, 51103, 51115, 51119, 51131, 51133 |\n",
       "| 4 | 3 | Ada County, ID       | 16001 | Ada County, ID, Boise County, ID, Canyon County, ID, Elmore County, ID, Gem County, ID, Owyhee County, ID                                                                         | 16001, 16015, 16027, 16039, 16045, 16073               |\n",
       "| 5 | 4 | Adair County, IA     | 19001 | Adair County, IA, Adams County, IA, Audubon County, IA, Cass County, IA, Dallas County, IA, Guthrie County, IA, Madison County, IA, Union County, IA                              | 19001, 19003, 19009, 19029, 19049, 19077, 19121, 19175 |\n",
       "| 6 | 5 | Adair County, KY     | 21001 | Adair County, KY, Casey County, KY, Cumberland County, KY, Green County, KY, Metcalfe County, KY, Russell County, KY, Taylor County, KY                                           | 21001, 21045, 21057, 21087, 21169, 21207, 21217        |\n",
       "\n"
      ],
      "text/plain": [
       "  X county               fips \n",
       "1 0 Abbeville County, SC 45001\n",
       "2 1 Acadia Parish, LA    22001\n",
       "3 2 Accomack County, VA  51001\n",
       "4 3 Ada County, ID       16001\n",
       "5 4 Adair County, IA     19001\n",
       "6 5 Adair County, KY     21001\n",
       "  Neighbors                                                                                                                                                                        \n",
       "1 Elbert County, GA, Abbeville County, SC, Anderson County, SC, Greenville County, SC, Greenwood County, SC, Laurens County, SC, McCormick County, SC                              \n",
       "2 Acadia Parish, LA, Evangeline Parish, LA, Jefferson Davis Parish, LA, Lafayette Parish, LA, St. Landry Parish, LA, Vermilion Parish, LA                                          \n",
       "3 Somerset County, MD, Worcester County, MD, Accomack County, VA, Lancaster County, VA, Mathews County, VA, Middlesex County, VA, Northampton County, VA, Northumberland County, VA\n",
       "4 Ada County, ID, Boise County, ID, Canyon County, ID, Elmore County, ID, Gem County, ID, Owyhee County, ID                                                                        \n",
       "5 Adair County, IA, Adams County, IA, Audubon County, IA, Cass County, IA, Dallas County, IA, Guthrie County, IA, Madison County, IA, Union County, IA                             \n",
       "6 Adair County, KY, Casey County, KY, Cumberland County, KY, Green County, KY, Metcalfe County, KY, Russell County, KY, Taylor County, KY                                          \n",
       "  Neighbor.Code                                         \n",
       "1 13105, 45001, 45007, 45045, 45047, 45059, 45065       \n",
       "2 22001, 22039, 22053, 22055, 22097, 22113              \n",
       "3 24039, 24047, 51001, 51103, 51115, 51119, 51131, 51133\n",
       "4 16001, 16015, 16027, 16039, 16045, 16073              \n",
       "5 19001, 19003, 19009, 19029, 19049, 19077, 19121, 19175\n",
       "6 21001, 21045, 21057, 21087, 21169, 21207, 21217       "
      ]
     },
     "metadata": {},
     "output_type": "display_data"
    }
   ],
   "source": [
    "county <- read.csv('/global/cfs/cdirs/m1532/Projects_MVP/geospatial/Climate_Suicide_Analysis/Climate_After_Imputation/county_adjacency.csv')\n",
    "county$fips <- as.character(county$fips)\n",
    "county$fips <- formatC(as.integer(county$fips), width = 5, format = \"d\", flag = \"0\")\n",
    "head(county)"
   ]
  },
  {
   "cell_type": "code",
   "execution_count": 7,
   "id": "ebb2310f-79cf-4cff-adb9-f54bd4bdcd0c",
   "metadata": {
    "tags": []
   },
   "outputs": [
    {
     "data": {
      "text/html": [
       "<table class=\"dataframe\">\n",
       "<caption>A data.frame: 6 × 12</caption>\n",
       "<thead>\n",
       "\t<tr><th></th><th scope=col>X</th><th scope=col>year</th><th scope=col>month</th><th scope=col>day</th><th scope=col>longitude</th><th scope=col>latitude</th><th scope=col>coor</th><th scope=col>fips</th><th scope=col>AT_mean</th><th scope=col>AT_min</th><th scope=col>AT_max</th><th scope=col>date</th></tr>\n",
       "\t<tr><th></th><th scope=col>&lt;int&gt;</th><th scope=col>&lt;int&gt;</th><th scope=col>&lt;int&gt;</th><th scope=col>&lt;int&gt;</th><th scope=col>&lt;dbl&gt;</th><th scope=col>&lt;dbl&gt;</th><th scope=col>&lt;chr&gt;</th><th scope=col>&lt;chr&gt;</th><th scope=col>&lt;dbl&gt;</th><th scope=col>&lt;dbl&gt;</th><th scope=col>&lt;dbl&gt;</th><th scope=col>&lt;date&gt;</th></tr>\n",
       "</thead>\n",
       "<tbody>\n",
       "\t<tr><th scope=row>1</th><td>65431</td><td>2011</td><td>1</td><td>1</td><td>-124.160</td><td>40.810</td><td>(40.81, -124.16)  </td><td>06023</td><td> 4.373404</td><td> 1.3365097</td><td> 6.214264</td><td>2011-01-01</td></tr>\n",
       "\t<tr><th scope=row>2</th><td>65432</td><td>2011</td><td>1</td><td>1</td><td>-123.200</td><td>39.128</td><td>(39.128, -123.2)  </td><td>06033</td><td> 2.144182</td><td>-0.7770157</td><td> 4.292999</td><td>2011-01-01</td></tr>\n",
       "\t<tr><th scope=row>3</th><td>65433</td><td>2011</td><td>1</td><td>1</td><td>-123.200</td><td>39.128</td><td>(39.128, -123.2)  </td><td>06045</td><td> 2.144182</td><td>-0.7770157</td><td> 4.292999</td><td>2011-01-01</td></tr>\n",
       "\t<tr><th scope=row>4</th><td>65434</td><td>2011</td><td>1</td><td>1</td><td>-121.817</td><td>37.700</td><td>(37.7, -121.817)  </td><td>06001</td><td> 3.711880</td><td> 0.8821945</td><td> 6.445694</td><td>2011-01-01</td></tr>\n",
       "\t<tr><th scope=row>5</th><td>65435</td><td>2011</td><td>1</td><td>1</td><td>-121.433</td><td>39.133</td><td>(39.133, -121.433)</td><td>06115</td><td> 2.103692</td><td> 0.3692856</td><td> 4.624496</td><td>2011-01-01</td></tr>\n",
       "\t<tr><th scope=row>6</th><td>65436</td><td>2011</td><td>1</td><td>1</td><td>-120.709</td><td>39.276</td><td>(39.276, -120.709)</td><td>06017</td><td>-6.520415</td><td>-8.6697006</td><td>-4.243416</td><td>2011-01-01</td></tr>\n",
       "</tbody>\n",
       "</table>\n"
      ],
      "text/latex": [
       "A data.frame: 6 × 12\n",
       "\\begin{tabular}{r|llllllllllll}\n",
       "  & X & year & month & day & longitude & latitude & coor & fips & AT\\_mean & AT\\_min & AT\\_max & date\\\\\n",
       "  & <int> & <int> & <int> & <int> & <dbl> & <dbl> & <chr> & <chr> & <dbl> & <dbl> & <dbl> & <date>\\\\\n",
       "\\hline\n",
       "\t1 & 65431 & 2011 & 1 & 1 & -124.160 & 40.810 & (40.81, -124.16)   & 06023 &  4.373404 &  1.3365097 &  6.214264 & 2011-01-01\\\\\n",
       "\t2 & 65432 & 2011 & 1 & 1 & -123.200 & 39.128 & (39.128, -123.2)   & 06033 &  2.144182 & -0.7770157 &  4.292999 & 2011-01-01\\\\\n",
       "\t3 & 65433 & 2011 & 1 & 1 & -123.200 & 39.128 & (39.128, -123.2)   & 06045 &  2.144182 & -0.7770157 &  4.292999 & 2011-01-01\\\\\n",
       "\t4 & 65434 & 2011 & 1 & 1 & -121.817 & 37.700 & (37.7, -121.817)   & 06001 &  3.711880 &  0.8821945 &  6.445694 & 2011-01-01\\\\\n",
       "\t5 & 65435 & 2011 & 1 & 1 & -121.433 & 39.133 & (39.133, -121.433) & 06115 &  2.103692 &  0.3692856 &  4.624496 & 2011-01-01\\\\\n",
       "\t6 & 65436 & 2011 & 1 & 1 & -120.709 & 39.276 & (39.276, -120.709) & 06017 & -6.520415 & -8.6697006 & -4.243416 & 2011-01-01\\\\\n",
       "\\end{tabular}\n"
      ],
      "text/markdown": [
       "\n",
       "A data.frame: 6 × 12\n",
       "\n",
       "| <!--/--> | X &lt;int&gt; | year &lt;int&gt; | month &lt;int&gt; | day &lt;int&gt; | longitude &lt;dbl&gt; | latitude &lt;dbl&gt; | coor &lt;chr&gt; | fips &lt;chr&gt; | AT_mean &lt;dbl&gt; | AT_min &lt;dbl&gt; | AT_max &lt;dbl&gt; | date &lt;date&gt; |\n",
       "|---|---|---|---|---|---|---|---|---|---|---|---|---|\n",
       "| 1 | 65431 | 2011 | 1 | 1 | -124.160 | 40.810 | (40.81, -124.16)   | 06023 |  4.373404 |  1.3365097 |  6.214264 | 2011-01-01 |\n",
       "| 2 | 65432 | 2011 | 1 | 1 | -123.200 | 39.128 | (39.128, -123.2)   | 06033 |  2.144182 | -0.7770157 |  4.292999 | 2011-01-01 |\n",
       "| 3 | 65433 | 2011 | 1 | 1 | -123.200 | 39.128 | (39.128, -123.2)   | 06045 |  2.144182 | -0.7770157 |  4.292999 | 2011-01-01 |\n",
       "| 4 | 65434 | 2011 | 1 | 1 | -121.817 | 37.700 | (37.7, -121.817)   | 06001 |  3.711880 |  0.8821945 |  6.445694 | 2011-01-01 |\n",
       "| 5 | 65435 | 2011 | 1 | 1 | -121.433 | 39.133 | (39.133, -121.433) | 06115 |  2.103692 |  0.3692856 |  4.624496 | 2011-01-01 |\n",
       "| 6 | 65436 | 2011 | 1 | 1 | -120.709 | 39.276 | (39.276, -120.709) | 06017 | -6.520415 | -8.6697006 | -4.243416 | 2011-01-01 |\n",
       "\n"
      ],
      "text/plain": [
       "  X     year month day longitude latitude coor               fips  AT_mean  \n",
       "1 65431 2011 1     1   -124.160  40.810   (40.81, -124.16)   06023  4.373404\n",
       "2 65432 2011 1     1   -123.200  39.128   (39.128, -123.2)   06033  2.144182\n",
       "3 65433 2011 1     1   -123.200  39.128   (39.128, -123.2)   06045  2.144182\n",
       "4 65434 2011 1     1   -121.817  37.700   (37.7, -121.817)   06001  3.711880\n",
       "5 65435 2011 1     1   -121.433  39.133   (39.133, -121.433) 06115  2.103692\n",
       "6 65436 2011 1     1   -120.709  39.276   (39.276, -120.709) 06017 -6.520415\n",
       "  AT_min     AT_max    date      \n",
       "1  1.3365097  6.214264 2011-01-01\n",
       "2 -0.7770157  4.292999 2011-01-01\n",
       "3 -0.7770157  4.292999 2011-01-01\n",
       "4  0.8821945  6.445694 2011-01-01\n",
       "5  0.3692856  4.624496 2011-01-01\n",
       "6 -8.6697006 -4.243416 2011-01-01"
      ]
     },
     "metadata": {},
     "output_type": "display_data"
    }
   ],
   "source": [
    "apparent_temp$date <- as.Date(paste(apparent_temp$year, apparent_temp$month, apparent_temp$day, sep = \"-\"), format = \"%Y-%m-%d\")\n",
    "head(apparent_temp)"
   ]
  },
  {
   "cell_type": "code",
   "execution_count": 8,
   "id": "7b08f5eb-8d5f-45cc-b54e-d5d499f6dc95",
   "metadata": {
    "tags": []
   },
   "outputs": [
    {
     "name": "stderr",
     "output_type": "stream",
     "text": [
      "\n",
      "Attaching package: ‘dplyr’\n",
      "\n",
      "\n",
      "The following objects are masked from ‘package:stats’:\n",
      "\n",
      "    filter, lag\n",
      "\n",
      "\n",
      "The following objects are masked from ‘package:base’:\n",
      "\n",
      "    intersect, setdiff, setequal, union\n",
      "\n",
      "\n"
     ]
    }
   ],
   "source": [
    "library(dplyr)"
   ]
  },
  {
   "cell_type": "code",
   "execution_count": 9,
   "id": "2b9eacda-039a-4e15-8a9c-7ff2f6dd14b3",
   "metadata": {
    "tags": []
   },
   "outputs": [],
   "source": [
    "num_rows <- nrow(apparent_temp)\n",
    "group_indices <- ceiling(seq_len(num_rows) / (num_rows / 10))\n",
    "\n",
    "chunks <- apparent_temp %>% \n",
    "  mutate(Chunk = group_indices) %>%\n",
    "  group_by(Chunk) %>%\n",
    "  group_split()"
   ]
  },
  {
   "cell_type": "code",
   "execution_count": 10,
   "id": "3d938212-298b-4316-8e46-f4d893c6e455",
   "metadata": {
    "tags": []
   },
   "outputs": [],
   "source": [
    "chunk1 <- chunks[[1]]\n",
    "chunk2 <- chunks[[2]]\n",
    "chunk3 <- chunks[[3]]\n",
    "chunk4 <- chunks[[4]]\n",
    "chunk5 <- chunks[[5]]\n",
    "chunk6 <- chunks[[6]]\n",
    "chunk7 <- chunks[[7]]\n",
    "chunk8 <- chunks[[8]]\n",
    "chunk9 <- chunks[[9]]\n",
    "chunk10 <- chunks[[10]]"
   ]
  },
  {
   "cell_type": "code",
   "execution_count": 11,
   "id": "9fa51b83-7ff8-468a-a557-188be2ce19fa",
   "metadata": {
    "tags": []
   },
   "outputs": [
    {
     "data": {
      "text/html": [
       "<table class=\"dataframe\">\n",
       "<caption>A data.frame: 6 × 14</caption>\n",
       "<thead>\n",
       "\t<tr><th></th><th scope=col>fips</th><th scope=col>county</th><th scope=col>X</th><th scope=col>year</th><th scope=col>month</th><th scope=col>day</th><th scope=col>longitude</th><th scope=col>latitude</th><th scope=col>coor</th><th scope=col>AT_mean</th><th scope=col>AT_min</th><th scope=col>AT_max</th><th scope=col>date</th><th scope=col>Chunk</th></tr>\n",
       "\t<tr><th></th><th scope=col>&lt;chr&gt;</th><th scope=col>&lt;chr&gt;</th><th scope=col>&lt;int&gt;</th><th scope=col>&lt;int&gt;</th><th scope=col>&lt;int&gt;</th><th scope=col>&lt;int&gt;</th><th scope=col>&lt;dbl&gt;</th><th scope=col>&lt;dbl&gt;</th><th scope=col>&lt;chr&gt;</th><th scope=col>&lt;dbl&gt;</th><th scope=col>&lt;dbl&gt;</th><th scope=col>&lt;dbl&gt;</th><th scope=col>&lt;date&gt;</th><th scope=col>&lt;dbl&gt;</th></tr>\n",
       "</thead>\n",
       "<tbody>\n",
       "\t<tr><th scope=row>1</th><td>01001</td><td>Autauga County, AL</td><td>108447</td><td>2011</td><td>11</td><td>11</td><td>-86.35</td><td>32.383</td><td>(32.383, -86.35)</td><td> 4.900065</td><td>-3.000107</td><td>14.14954</td><td>2011-11-11</td><td>1</td></tr>\n",
       "\t<tr><th scope=row>2</th><td>01001</td><td>Autauga County, AL</td><td>114657</td><td>2011</td><td>12</td><td>26</td><td>-86.35</td><td>32.383</td><td>(32.383, -86.35)</td><td> 8.680571</td><td> 5.222893</td><td>12.48929</td><td>2011-12-26</td><td>1</td></tr>\n",
       "\t<tr><th scope=row>3</th><td>01001</td><td>Autauga County, AL</td><td> 69885</td><td>2011</td><td> 2</td><td> 2</td><td>-86.35</td><td>32.383</td><td>(32.383, -86.35)</td><td> 3.673612</td><td>-6.401901</td><td>17.55040</td><td>2011-02-02</td><td>1</td></tr>\n",
       "\t<tr><th scope=row>4</th><td>01001</td><td>Autauga County, AL</td><td> 93721</td><td>2011</td><td> 7</td><td>27</td><td>-86.35</td><td>32.383</td><td>(32.383, -86.35)</td><td>31.000094</td><td>27.084625</td><td>37.30582</td><td>2011-07-27</td><td>1</td></tr>\n",
       "\t<tr><th scope=row>5</th><td>01001</td><td>Autauga County, AL</td><td>102382</td><td>2011</td><td> 9</td><td>28</td><td>-86.35</td><td>32.383</td><td>(32.383, -86.35)</td><td>24.521913</td><td>21.178429</td><td>27.04605</td><td>2011-09-28</td><td>1</td></tr>\n",
       "\t<tr><th scope=row>6</th><td>01001</td><td>Autauga County, AL</td><td>109275</td><td>2011</td><td>11</td><td>17</td><td>-86.35</td><td>32.383</td><td>(32.383, -86.35)</td><td>11.342355</td><td> 5.371841</td><td>23.13589</td><td>2011-11-17</td><td>1</td></tr>\n",
       "</tbody>\n",
       "</table>\n"
      ],
      "text/latex": [
       "A data.frame: 6 × 14\n",
       "\\begin{tabular}{r|llllllllllllll}\n",
       "  & fips & county & X & year & month & day & longitude & latitude & coor & AT\\_mean & AT\\_min & AT\\_max & date & Chunk\\\\\n",
       "  & <chr> & <chr> & <int> & <int> & <int> & <int> & <dbl> & <dbl> & <chr> & <dbl> & <dbl> & <dbl> & <date> & <dbl>\\\\\n",
       "\\hline\n",
       "\t1 & 01001 & Autauga County, AL & 108447 & 2011 & 11 & 11 & -86.35 & 32.383 & (32.383, -86.35) &  4.900065 & -3.000107 & 14.14954 & 2011-11-11 & 1\\\\\n",
       "\t2 & 01001 & Autauga County, AL & 114657 & 2011 & 12 & 26 & -86.35 & 32.383 & (32.383, -86.35) &  8.680571 &  5.222893 & 12.48929 & 2011-12-26 & 1\\\\\n",
       "\t3 & 01001 & Autauga County, AL &  69885 & 2011 &  2 &  2 & -86.35 & 32.383 & (32.383, -86.35) &  3.673612 & -6.401901 & 17.55040 & 2011-02-02 & 1\\\\\n",
       "\t4 & 01001 & Autauga County, AL &  93721 & 2011 &  7 & 27 & -86.35 & 32.383 & (32.383, -86.35) & 31.000094 & 27.084625 & 37.30582 & 2011-07-27 & 1\\\\\n",
       "\t5 & 01001 & Autauga County, AL & 102382 & 2011 &  9 & 28 & -86.35 & 32.383 & (32.383, -86.35) & 24.521913 & 21.178429 & 27.04605 & 2011-09-28 & 1\\\\\n",
       "\t6 & 01001 & Autauga County, AL & 109275 & 2011 & 11 & 17 & -86.35 & 32.383 & (32.383, -86.35) & 11.342355 &  5.371841 & 23.13589 & 2011-11-17 & 1\\\\\n",
       "\\end{tabular}\n"
      ],
      "text/markdown": [
       "\n",
       "A data.frame: 6 × 14\n",
       "\n",
       "| <!--/--> | fips &lt;chr&gt; | county &lt;chr&gt; | X &lt;int&gt; | year &lt;int&gt; | month &lt;int&gt; | day &lt;int&gt; | longitude &lt;dbl&gt; | latitude &lt;dbl&gt; | coor &lt;chr&gt; | AT_mean &lt;dbl&gt; | AT_min &lt;dbl&gt; | AT_max &lt;dbl&gt; | date &lt;date&gt; | Chunk &lt;dbl&gt; |\n",
       "|---|---|---|---|---|---|---|---|---|---|---|---|---|---|---|\n",
       "| 1 | 01001 | Autauga County, AL | 108447 | 2011 | 11 | 11 | -86.35 | 32.383 | (32.383, -86.35) |  4.900065 | -3.000107 | 14.14954 | 2011-11-11 | 1 |\n",
       "| 2 | 01001 | Autauga County, AL | 114657 | 2011 | 12 | 26 | -86.35 | 32.383 | (32.383, -86.35) |  8.680571 |  5.222893 | 12.48929 | 2011-12-26 | 1 |\n",
       "| 3 | 01001 | Autauga County, AL |  69885 | 2011 |  2 |  2 | -86.35 | 32.383 | (32.383, -86.35) |  3.673612 | -6.401901 | 17.55040 | 2011-02-02 | 1 |\n",
       "| 4 | 01001 | Autauga County, AL |  93721 | 2011 |  7 | 27 | -86.35 | 32.383 | (32.383, -86.35) | 31.000094 | 27.084625 | 37.30582 | 2011-07-27 | 1 |\n",
       "| 5 | 01001 | Autauga County, AL | 102382 | 2011 |  9 | 28 | -86.35 | 32.383 | (32.383, -86.35) | 24.521913 | 21.178429 | 27.04605 | 2011-09-28 | 1 |\n",
       "| 6 | 01001 | Autauga County, AL | 109275 | 2011 | 11 | 17 | -86.35 | 32.383 | (32.383, -86.35) | 11.342355 |  5.371841 | 23.13589 | 2011-11-17 | 1 |\n",
       "\n"
      ],
      "text/plain": [
       "  fips  county             X      year month day longitude latitude\n",
       "1 01001 Autauga County, AL 108447 2011 11    11  -86.35    32.383  \n",
       "2 01001 Autauga County, AL 114657 2011 12    26  -86.35    32.383  \n",
       "3 01001 Autauga County, AL  69885 2011  2     2  -86.35    32.383  \n",
       "4 01001 Autauga County, AL  93721 2011  7    27  -86.35    32.383  \n",
       "5 01001 Autauga County, AL 102382 2011  9    28  -86.35    32.383  \n",
       "6 01001 Autauga County, AL 109275 2011 11    17  -86.35    32.383  \n",
       "  coor             AT_mean   AT_min    AT_max   date       Chunk\n",
       "1 (32.383, -86.35)  4.900065 -3.000107 14.14954 2011-11-11 1    \n",
       "2 (32.383, -86.35)  8.680571  5.222893 12.48929 2011-12-26 1    \n",
       "3 (32.383, -86.35)  3.673612 -6.401901 17.55040 2011-02-02 1    \n",
       "4 (32.383, -86.35) 31.000094 27.084625 37.30582 2011-07-27 1    \n",
       "5 (32.383, -86.35) 24.521913 21.178429 27.04605 2011-09-28 1    \n",
       "6 (32.383, -86.35) 11.342355  5.371841 23.13589 2011-11-17 1    "
      ]
     },
     "metadata": {},
     "output_type": "display_data"
    }
   ],
   "source": [
    "data1 <- list()\n",
    "for (date in unique(chunk1$date)) {\n",
    "  df_day <- subset(chunk1, date == date)\n",
    "  df_merged <- merge(county[, c(\"county\", \"fips\")], df_day, by = \"fips\", all.x = TRUE)\n",
    "  data1[[length(data1) + 1]] <- df_merged\n",
    "}\n",
    "\n",
    "df_new1 <- do.call(rbind, data1)\n",
    "head(df_new1)"
   ]
  },
  {
   "cell_type": "code",
   "execution_count": 23,
   "id": "2f32946a-fc45-476b-9a57-493c33dc5ef6",
   "metadata": {
    "tags": []
   },
   "outputs": [
    {
     "data": {
      "text/html": [
       "1176395"
      ],
      "text/latex": [
       "1176395"
      ],
      "text/markdown": [
       "1176395"
      ],
      "text/plain": [
       "[1] 1176395"
      ]
     },
     "metadata": {},
     "output_type": "display_data"
    }
   ],
   "source": [
    "3223*365"
   ]
  },
  {
   "cell_type": "code",
   "execution_count": 12,
   "id": "ec1a28b5-1af8-40ac-b31a-c868ec70e1fe",
   "metadata": {
    "tags": []
   },
   "outputs": [
    {
     "name": "stdout",
     "output_type": "stream",
     "text": [
      "[1] 236\n"
     ]
    }
   ],
   "source": [
    "print(length(unique(chunk1$fips)))"
   ]
  },
  {
   "cell_type": "code",
   "execution_count": 13,
   "id": "cac4cf0e-4b39-4f46-a513-1dbb7b3f4c48",
   "metadata": {
    "tags": []
   },
   "outputs": [
    {
     "name": "stdout",
     "output_type": "stream",
     "text": [
      "[1] 3233\n"
     ]
    }
   ],
   "source": [
    "print(length(unique(df_new1$fips)))"
   ]
  },
  {
   "cell_type": "code",
   "execution_count": 14,
   "id": "cb97f3ae-a6f2-4859-b035-768635e57cec",
   "metadata": {
    "tags": []
   },
   "outputs": [],
   "source": [
    "data_full <- list()\n",
    "data_full[[length(data_full) + 1]] <- df_new1"
   ]
  },
  {
   "cell_type": "code",
   "execution_count": 15,
   "id": "874fcd57-3e42-4d54-b2c6-9d13a088a9bf",
   "metadata": {
    "tags": []
   },
   "outputs": [],
   "source": [
    "data2 <- list()\n",
    "for (date in unique(chunk2$date)) {\n",
    "  df_day <- subset(chunk3, date == date)\n",
    "  df_merged <- merge(county[, c(\"county\", \"fips\")], df_day, by = \"fips\", all.x = TRUE)\n",
    "  data2[[length(data2) + 1]] <- df_merged\n",
    "}\n",
    "df_new2 <- do.call(rbind, data2)\n",
    "data_full[[length(data_full) + 1]] <- df_new2"
   ]
  },
  {
   "cell_type": "code",
   "execution_count": 16,
   "id": "2aa56fae-a3f4-4b70-a038-23981e66c3b5",
   "metadata": {
    "tags": []
   },
   "outputs": [],
   "source": [
    "data3 <- list()\n",
    "for (date in unique(chunk3$date)) {\n",
    "  df_day <- subset(chunk3, date == date)\n",
    "  df_merged <- merge(county[, c(\"county\", \"fips\")], df_day, by = \"fips\", all.x = TRUE)\n",
    "  data3[[length(data3) + 1]] <- df_merged\n",
    "}\n",
    "df_new3 <- do.call(rbind, data3)\n",
    "data_full[[length(data_full) + 1]] <- df_new3"
   ]
  },
  {
   "cell_type": "code",
   "execution_count": 18,
   "id": "a4718174-65af-4cad-b152-f7883b753e3e",
   "metadata": {
    "tags": []
   },
   "outputs": [],
   "source": [
    "data4 <- list()\n",
    "for (date in unique(chunk4$date)) {\n",
    "  df_day <- subset(chunk4, date == date)\n",
    "  df_merged <- merge(county[, c(\"county\", \"fips\")], df_day, by = \"fips\", all.x = TRUE)\n",
    "  data4[[length(data4) + 1]] <- df_merged\n",
    "}\n",
    "df_new4 <- do.call(rbind, data4)\n",
    "data_full[[length(data_full) + 1]] <- df_new4"
   ]
  },
  {
   "cell_type": "code",
   "execution_count": 19,
   "id": "7c2cf618-0180-4d2e-99b9-468fe9e6fa64",
   "metadata": {
    "tags": []
   },
   "outputs": [],
   "source": [
    "data5 <- list()\n",
    "for (date in unique(chunk5$date)) {\n",
    "  df_day <- subset(chunk5, date == date)\n",
    "  df_merged <- merge(county[, c(\"county\", \"fips\")], df_day, by = \"fips\", all.x = TRUE)\n",
    "  data5[[length(data5) + 1]] <- df_merged\n",
    "}"
   ]
  },
  {
   "cell_type": "code",
   "execution_count": 20,
   "id": "bdf36b9d-7885-4e17-b19d-6d38451255a1",
   "metadata": {
    "tags": []
   },
   "outputs": [],
   "source": [
    "df_new5 <- do.call(rbind, data5)\n",
    "data_full[[length(data_full) + 1]] <- df_new5"
   ]
  },
  {
   "cell_type": "code",
   "execution_count": 21,
   "id": "0652a3a2-d3e8-4c87-ae2a-58640380f9ea",
   "metadata": {
    "tags": []
   },
   "outputs": [],
   "source": [
    "data6 <- list()\n",
    "for (date in unique(chunk6$date)) {\n",
    "  df_day <- subset(chunk6, date == date)\n",
    "  df_merged <- merge(county[, c(\"county\", \"fips\")], df_day, by = \"fips\", all.x = TRUE)\n",
    "  data6[[length(data6) + 1]] <- df_merged\n",
    "}\n",
    "df_new6 <- do.call(rbind, data6)\n",
    "data_full[[length(data_full) + 1]] <- df_new6"
   ]
  },
  {
   "cell_type": "code",
   "execution_count": 22,
   "id": "0db02fd8-bfbe-4d8d-98fb-4e3a9c63c6d7",
   "metadata": {
    "tags": []
   },
   "outputs": [],
   "source": [
    "data7 <- list()\n",
    "for (date in unique(chunk7$date)) {\n",
    "  df_day <- subset(chunk7, date == date)\n",
    "  df_merged <- merge(county[, c(\"county\", \"fips\")], df_day, by = \"fips\", all.x = TRUE)\n",
    "  data7[[length(data7) + 1]] <- df_merged\n",
    "}\n",
    "df_new7 <- do.call(rbind, data7)\n",
    "data_full[[length(data_full) + 1]] <- df_new7"
   ]
  },
  {
   "cell_type": "code",
   "execution_count": null,
   "id": "fc13964b-029d-4765-b639-62e75a13b8fa",
   "metadata": {},
   "outputs": [],
   "source": [
    "data8 <- list()\n",
    "for (date in unique(chunk8$date)) {\n",
    "  df_day <- subset(chunk8, date == date)\n",
    "  df_merged <- merge(county[, c(\"county\", \"fips\")], df_day, by = \"fips\", all.x = TRUE)\n",
    "  data8[[length(data8) + 1]] <- df_merged\n",
    "}\n",
    "df_new8 <- do.call(rbind, data8)\n",
    "data_full[[length(data_full) + 1]] <- df_new8"
   ]
  },
  {
   "cell_type": "code",
   "execution_count": null,
   "id": "fc77f55e-c73a-4949-b54f-3cda75d30b3a",
   "metadata": {},
   "outputs": [],
   "source": [
    "data9 <- list()\n",
    "for (date in unique(chunk9$date)) {\n",
    "  df_day <- subset(chunk9, date == date)\n",
    "  df_merged <- merge(county[, c(\"county\", \"fips\")], df_day, by = \"fips\", all.x = TRUE)\n",
    "  data9[[length(data9) + 1]] <- df_merged\n",
    "}\n",
    "df_new9 <- do.call(rbind, data9)\n",
    "data_full[[length(data_full) + 1]] <- df_new9"
   ]
  },
  {
   "cell_type": "code",
   "execution_count": null,
   "id": "ea8e69f5-fd04-495d-8f0e-f147fed39485",
   "metadata": {},
   "outputs": [],
   "source": [
    "data10 <- list()\n",
    "for (date in unique(chunk10$date)) {\n",
    "  df_day <- subset(chunk10, date == date)\n",
    "  df_merged <- merge(county[, c(\"county\", \"fips\")], df_day, by = \"fips\", all.x = TRUE)\n",
    "  data10[[length(data10) + 1]] <- df_merged\n",
    "}\n",
    "df_new10 <- do.call(rbind, data10)\n",
    "data_full[[length(data_full) + 1]] <- df_new10"
   ]
  },
  {
   "cell_type": "code",
   "execution_count": null,
   "id": "b2a3c8c9-66db-439c-bc52-ad1d8ba40c76",
   "metadata": {},
   "outputs": [],
   "source": []
  },
  {
   "cell_type": "code",
   "execution_count": null,
   "id": "396f9556-99df-4828-9780-ff809b158e9d",
   "metadata": {},
   "outputs": [],
   "source": []
  },
  {
   "cell_type": "code",
   "execution_count": null,
   "id": "82a38aef-4dd9-4d66-abf6-b8c5e5a7aaf7",
   "metadata": {},
   "outputs": [],
   "source": [
    "\n",
    "\n",
    "\n",
    "\n",
    "\n",
    "\n",
    "\n",
    "\n",
    "\n",
    "\n",
    "\n",
    "\n",
    "\n",
    "\n",
    "\n",
    "\n",
    "\n",
    "\n",
    "\n"
   ]
  },
  {
   "cell_type": "code",
   "execution_count": null,
   "id": "7a80c42d-e52b-4579-ac7f-c527c1171918",
   "metadata": {},
   "outputs": [],
   "source": []
  },
  {
   "cell_type": "code",
   "execution_count": null,
   "id": "dbe91fda-00a6-41e1-947e-b493bdff8a9c",
   "metadata": {},
   "outputs": [],
   "source": []
  },
  {
   "cell_type": "code",
   "execution_count": null,
   "id": "5160dfd8-f94e-43f1-95f7-d694d37e0749",
   "metadata": {},
   "outputs": [],
   "source": []
  },
  {
   "cell_type": "code",
   "execution_count": null,
   "id": "3f0f9606-05e3-422d-9e7e-de3276b6ba49",
   "metadata": {
    "tags": []
   },
   "outputs": [],
   "source": [
    "data_full <- list()\n",
    "for (item in chunks) {\n",
    "    data_chunk <- list()\n",
    "    for (date in unique(item$date)) {\n",
    "      df_day <- subset(item, date == date)\n",
    "      df_merged <- merge(county[, c(\"county\", \"fips\")], df_day, by = \"fips\", all.x = TRUE)\n",
    "      data_chunk[[length(data_chunk) + 1]] <- df_merged\n",
    "    }\n",
    "    df_chunk <- do.call(rbind, data_chunk)\n",
    "    data_full[[length(data_full) + 1]] <- df_chunk\n",
    "}\n",
    "df_new <- do.call(rbind, data_full)"
   ]
  },
  {
   "cell_type": "code",
   "execution_count": null,
   "id": "4fb7dd51-6ee3-46dc-8614-d132b8616abf",
   "metadata": {},
   "outputs": [],
   "source": []
  },
  {
   "cell_type": "code",
   "execution_count": null,
   "id": "8eb75079-c95b-473b-8575-943fdf0422f0",
   "metadata": {},
   "outputs": [],
   "source": []
  },
  {
   "cell_type": "code",
   "execution_count": null,
   "id": "c9a529e7-e1af-4cdc-a7c2-c3f103db1f44",
   "metadata": {},
   "outputs": [],
   "source": []
  },
  {
   "cell_type": "code",
   "execution_count": null,
   "id": "e6728bc1-2b27-4a12-b233-76412606e45b",
   "metadata": {},
   "outputs": [],
   "source": []
  },
  {
   "cell_type": "code",
   "execution_count": null,
   "id": "f5277494-46d0-4e1a-abc2-e04e343177b7",
   "metadata": {},
   "outputs": [],
   "source": []
  },
  {
   "cell_type": "code",
   "execution_count": null,
   "id": "7bc3ab98-d4a9-4d50-b6f5-eeff8aea5c6d",
   "metadata": {},
   "outputs": [],
   "source": [
    "data2 <- list()\n",
    "for (date in unique(chunk2$date)) {\n",
    "  df_day <- subset(chunk2, date == date)\n",
    "  df_merged <- merge(county[, c(\"county\", \"fips\")], df_day, by = \"fips\", all.x = TRUE)\n",
    "  data2[[length(data2) + 1]] <- df_merged\n",
    "}\n",
    "df_new2 <- do.call(rbind, data2)\n",
    "\n",
    "data3 <- list()\n",
    "for (date in unique(chunk2$date)) {\n",
    "  df_day <- subset(chunk2, date == date)\n",
    "  df_merged <- merge(county[, c(\"county\", \"fips\")], df_day, by = \"fips\", all.x = TRUE)\n",
    "  data2[[length(data2) + 1]] <- df_merged\n",
    "}\n",
    "df_new2 <- do.call(rbind, data2)"
   ]
  },
  {
   "cell_type": "code",
   "execution_count": null,
   "id": "2122ad83-aba5-4ee6-8d0a-1c24f8208129",
   "metadata": {},
   "outputs": [],
   "source": []
  },
  {
   "cell_type": "code",
   "execution_count": null,
   "id": "2a736d74-90d5-4c00-91aa-d58d3684705f",
   "metadata": {},
   "outputs": [],
   "source": []
  },
  {
   "cell_type": "code",
   "execution_count": null,
   "id": "4a95a418-dc80-4c7c-9ac0-83eb9a596cbf",
   "metadata": {},
   "outputs": [],
   "source": []
  },
  {
   "cell_type": "code",
   "execution_count": null,
   "id": "aee665b0-9997-4c21-b534-c1bea135fe86",
   "metadata": {},
   "outputs": [],
   "source": []
  },
  {
   "cell_type": "code",
   "execution_count": null,
   "id": "b1ccc1f8-8aab-44e0-acf9-151a114fcf25",
   "metadata": {},
   "outputs": [],
   "source": []
  },
  {
   "cell_type": "code",
   "execution_count": null,
   "id": "c2f3c72f-d79d-4866-8579-4a45d4a736cf",
   "metadata": {},
   "outputs": [],
   "source": []
  },
  {
   "cell_type": "code",
   "execution_count": null,
   "id": "1729edc5-686c-4fbf-a344-a99c802588df",
   "metadata": {},
   "outputs": [],
   "source": []
  },
  {
   "cell_type": "code",
   "execution_count": null,
   "id": "49848f19-d519-4b05-9d06-4bf99cefa13e",
   "metadata": {},
   "outputs": [],
   "source": []
  },
  {
   "cell_type": "code",
   "execution_count": null,
   "id": "eaa26367-a400-44a9-82cc-557e7c5cbdfd",
   "metadata": {},
   "outputs": [],
   "source": []
  },
  {
   "cell_type": "code",
   "execution_count": null,
   "id": "7992da36-2129-411c-a008-fc63cb3082c9",
   "metadata": {},
   "outputs": [],
   "source": []
  }
 ],
 "metadata": {
  "kernelspec": {
   "display_name": "R 4.3.1 (r-inla-env)",
   "language": "R",
   "name": "r-inla-env"
  },
  "language_info": {
   "codemirror_mode": "r",
   "file_extension": ".r",
   "mimetype": "text/x-r-source",
   "name": "R",
   "pygments_lexer": "r",
   "version": "4.3.2"
  }
 },
 "nbformat": 4,
 "nbformat_minor": 5
}
